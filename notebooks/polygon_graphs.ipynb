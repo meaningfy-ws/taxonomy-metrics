{
 "cells": [
  {
   "cell_type": "code",
   "execution_count": 24,
   "metadata": {
    "collapsed": true
   },
   "outputs": [],
   "source": [
    "import rdflib\n",
    "import networkx as nx\n",
    "from pyvis.network import Network\n",
    "import pandas as pd"
   ]
  },
  {
   "cell_type": "code",
   "execution_count": 20,
   "outputs": [
    {
     "data": {
      "text/plain": "<Graph identifier=Na021d1361a634912854f5259f5b0251f (<class 'rdflib.graph.Graph'>)>"
     },
     "execution_count": 20,
     "metadata": {},
     "output_type": "execute_result"
    }
   ],
   "source": [
    "g = rdflib.Graph()\n",
    "g.parse(\"not_connected_graph.ttl\", format=\"turtle\")"
   ],
   "metadata": {
    "collapsed": false
   }
  },
  {
   "cell_type": "code",
   "execution_count": 21,
   "outputs": [],
   "source": [
    "triples_df = pd.DataFrame(g.triples(triple=(None,None,None)),columns=[\"subject\", \"predicate\", \"object\"])"
   ],
   "metadata": {
    "collapsed": false
   }
  },
  {
   "cell_type": "code",
   "execution_count": 22,
   "outputs": [],
   "source": [
    "so_df = triples_df[[\"subject\",\"object\"]].drop_duplicates()"
   ],
   "metadata": {
    "collapsed": false
   }
  },
  {
   "cell_type": "code",
   "execution_count": 23,
   "outputs": [
    {
     "data": {
      "text/plain": "False"
     },
     "execution_count": 23,
     "metadata": {},
     "output_type": "execute_result"
    }
   ],
   "source": [
    "nx.is_connected(nx.from_pandas_edgelist(so_df, \"subject\", \"object\"))"
   ],
   "metadata": {
    "collapsed": false
   }
  },
  {
   "cell_type": "code",
   "execution_count": 26,
   "outputs": [],
   "source": [
    "graph = nx.from_pandas_edgelist(triples_df, source=\"subject\", target=\"object\", create_using=nx.DiGraph)"
   ],
   "metadata": {
    "collapsed": false
   }
  },
  {
   "cell_type": "code",
   "execution_count": 34,
   "outputs": [],
   "source": [
    "network = Network('1000px', '100%', directed =True, notebook=True, cdn_resources=\"remote\", neighborhood_highlight=True)\n",
    "for subject in triples_df[\"subject\"].unique():\n",
    "\tnetwork.add_node(subject, label=subject)\n",
    "for object in triples_df[\"object\"].unique():\n",
    "\tnetwork.add_node(object, label=f\"{object[:50]}...\" if len(object) > 100 else object)\n",
    "\n",
    "for index, row in triples_df.iterrows():\n",
    "\tnetwork.add_edge(row[\"subject\"], row[\"object\"], label=row[\"predicate\"], title=row[\"predicate\"])\n",
    "\n",
    "frame = network.write_html(\"result_graph.html\", notebook=True)"
   ],
   "metadata": {
    "collapsed": false
   }
  }
 ],
 "metadata": {
  "kernelspec": {
   "display_name": "Python 3",
   "language": "python",
   "name": "python3"
  },
  "language_info": {
   "codemirror_mode": {
    "name": "ipython",
    "version": 2
   },
   "file_extension": ".py",
   "mimetype": "text/x-python",
   "name": "python",
   "nbconvert_exporter": "python",
   "pygments_lexer": "ipython2",
   "version": "2.7.6"
  }
 },
 "nbformat": 4,
 "nbformat_minor": 0
}
