{
 "cells": [
  {
   "cell_type": "code",
   "execution_count": 1,
   "metadata": {
    "collapsed": true
   },
   "outputs": [],
   "source": [
    "import pandas as pd\n",
    "import rdflib\n",
    "import plotly.express as px\n",
    "from notebooks.resources.input_data import AUTHORITY_TABLES_DIR_PATH, PREFIX_DEFINITION_FILE_PATH"
   ]
  },
  {
   "cell_type": "code",
   "execution_count": 2,
   "outputs": [],
   "source": [
    "input_data_files = [file_path for file_path in AUTHORITY_TABLES_DIR_PATH.iterdir() if\n",
    "                    file_path.is_file() and file_path.suffix == \".rdf\"]"
   ],
   "metadata": {
    "collapsed": false
   }
  },
  {
   "cell_type": "code",
   "execution_count": 190,
   "outputs": [],
   "source": [
    "# read rdf graph from all files from input_data_files\n",
    "g = rdflib.Graph()\n",
    "for file_path in input_data_files:\n",
    "    g.parse(str(file_path), format=\"xml\")"
   ],
   "metadata": {
    "collapsed": false
   }
  },
  {
   "cell_type": "code",
   "execution_count": 5,
   "outputs": [],
   "source": [
    "def extract_namespace_from_uri(uri):\n",
    "    if uri.startswith(\"http\"):\n",
    "        counter = 0\n",
    "        for char in uri[::-1]:\n",
    "            if char == \"/\" or char == \"#\":\n",
    "                return uri[:-counter] if counter else uri\n",
    "            counter += 1\n",
    "    return \"unknown_namespace\""
   ],
   "metadata": {
    "collapsed": false
   }
  },
  {
   "cell_type": "code",
   "execution_count": 6,
   "outputs": [],
   "source": [
    "def filter_blank_nodes_and_literals(triples):\n",
    "    for s, p, o in triples:\n",
    "        if not isinstance(o, rdflib.term.Literal) and not isinstance(o, rdflib.term.BNode) and not isinstance(s, rdflib.term.BNode):\n",
    "            yield s, p, o"
   ],
   "metadata": {
    "collapsed": false
   }
  },
  {
   "cell_type": "code",
   "execution_count": null,
   "outputs": [],
   "source": [
    "def filter_literals(triples):\n",
    "    for s, p, o in triples:\n",
    "        if not isinstance(o, rdflib.term.Literal):\n",
    "            yield s, p, o"
   ],
   "metadata": {
    "collapsed": false
   }
  },
  {
   "cell_type": "code",
   "execution_count": 192,
   "outputs": [],
   "source": [
    "def inject_namespace_to_blank_nodes(input_graph: rdflib.Graph)->rdflib.Graph:\n",
    "    \"\"\"\n",
    "    This function injects the namespace of the subject to the blank nodes in the object position.\n",
    "    \"\"\"\n",
    "    output_graph = rdflib.Graph()\n",
    "    for s, p, o in input_graph:\n",
    "        if isinstance(o, rdflib.term.BNode):\n",
    "            new_object_uri = f\"{extract_namespace_from_uri(s)}{o}\"\n",
    "            for so, po, oo in input_graph.triples(triple=(o, None, None)):\n",
    "                output_graph.remove((so, po, oo))\n",
    "                output_graph.add((rdflib.term.URIRef(new_object_uri), po, oo))\n",
    "            output_graph.remove((s, p, o))\n",
    "            output_graph.add((s, p, rdflib.term.URIRef(new_object_uri)))\n",
    "        else:\n",
    "            output_graph.add((s, p, o))\n",
    "    return output_graph"
   ],
   "metadata": {
    "collapsed": false
   }
  },
  {
   "cell_type": "code",
   "execution_count": 193,
   "outputs": [],
   "source": [
    "g = inject_namespace_to_blank_nodes(g)"
   ],
   "metadata": {
    "collapsed": false
   }
  },
  {
   "cell_type": "code",
   "execution_count": 199,
   "outputs": [],
   "source": [
    "results = []\n",
    "for s, p, o in filter_blank_nodes_and_literals(g):\n",
    "    namespace_s = extract_namespace_from_uri(s)\n",
    "    namespace_p = extract_namespace_from_uri(p)\n",
    "    namespace_o = extract_namespace_from_uri(o)\n",
    "    predicate = p.split(\"#\")[-1] if \"#\" in p else p.split(\"/\")[-1]\n",
    "    results.append((namespace_s, namespace_p, predicate, namespace_o))"
   ],
   "metadata": {
    "collapsed": false
   }
  },
  {
   "cell_type": "code",
   "execution_count": 209,
   "outputs": [],
   "source": [
    "tmp_df = pd.DataFrame(pd.Series(results).value_counts().reset_index())\n",
    "tmp_df.columns = [\"results\", \"count\"]\n",
    "tmp_df[\"subject_base\"] = tmp_df[\"results\"].apply(lambda x: x[0])\n",
    "tmp_df[\"predicate_base\"] = tmp_df[\"results\"].apply(lambda x: x[1])\n",
    "tmp_df[\"predicate\"] = tmp_df[\"results\"].apply(lambda x: x[2])\n",
    "tmp_df[\"object_base\"] = tmp_df[\"results\"].apply(lambda x: x[3])\n",
    "df = tmp_df[[\"subject_base\", \"predicate_base\",\"predicate\", \"object_base\", \"count\"]]"
   ],
   "metadata": {
    "collapsed": false
   }
  },
  {
   "cell_type": "code",
   "execution_count": 201,
   "outputs": [],
   "source": [
    "prefixes_df = pd.read_csv(PREFIX_DEFINITION_FILE_PATH)"
   ],
   "metadata": {
    "collapsed": false
   }
  },
  {
   "cell_type": "code",
   "execution_count": 210,
   "outputs": [],
   "source": [
    "df[\"ns_s\"] = df[\"subject_base\"].apply(\n",
    "    lambda x: prefixes_df[prefixes_df[\"base URI\"] == x][\"prefix\"].values[0] if x in prefixes_df[\n",
    "        \"base URI\"].values else \"unknown\")\n",
    "df[\"ns_p\"] = df[\"predicate_base\"].apply(\n",
    "    lambda x: prefixes_df[prefixes_df[\"base URI\"] == x][\"prefix\"].values[0] if x in prefixes_df[\n",
    "        \"base URI\"].values else \"unknown\")\n",
    "df[\"ns_o\"] = df[\"object_base\"].apply(\n",
    "    lambda x: prefixes_df[prefixes_df[\"base URI\"] == x][\"prefix\"].values[0] if x in prefixes_df[\n",
    "        \"base URI\"].values else \"unknown\")\n",
    "df[\"p\"] = df[\"ns_p\"]+\":\"+df[\"predicate\"]\n",
    "df[\"asset_type_s\"] = df[\"subject_base\"].apply(\n",
    "    lambda x: prefixes_df[prefixes_df[\"base URI\"] == x][\"type\"].values[0] if x in prefixes_df[\n",
    "        \"base URI\"].values else \"unknown\")\n",
    "df[\"asset_type_p\"] = df[\"predicate_base\"].apply(\n",
    "    lambda x: prefixes_df[prefixes_df[\"base URI\"] == x][\"type\"].values[0] if x in prefixes_df[\n",
    "        \"base URI\"].values else \"unknown\")\n",
    "df[\"asset_type_o\"] = df[\"object_base\"].apply(\n",
    "    lambda x: prefixes_df[prefixes_df[\"base URI\"] == x][\"type\"].values[0] if x in prefixes_df[\n",
    "        \"base URI\"].values else \"unknown\")"
   ],
   "metadata": {
    "collapsed": false
   }
  },
  {
   "cell_type": "code",
   "execution_count": 211,
   "outputs": [
    {
     "data": {
      "text/plain": "                                         subject_base  \\\n0   http://publications.europa.eu/resource/authori...   \n1   http://publications.europa.eu/resource/authori...   \n2   http://publications.europa.eu/resource/authori...   \n3   http://publications.europa.eu/resource/authori...   \n4   http://publications.europa.eu/resource/authori...   \n5   http://publications.europa.eu/resource/authori...   \n6   http://publications.europa.eu/resource/authori...   \n7   http://publications.europa.eu/resource/authori...   \n8   http://publications.europa.eu/resource/authori...   \n9   http://publications.europa.eu/resource/authori...   \n10  http://publications.europa.eu/resource/authori...   \n11  http://publications.europa.eu/resource/authori...   \n12  http://publications.europa.eu/resource/authori...   \n13  http://publications.europa.eu/resource/authori...   \n14  http://publications.europa.eu/resource/authori...   \n15  http://publications.europa.eu/resource/authori...   \n16  http://publications.europa.eu/resource/authori...   \n17  http://publications.europa.eu/resource/authori...   \n18  http://publications.europa.eu/resource/authori...   \n19  http://publications.europa.eu/resource/authori...   \n20  http://publications.europa.eu/resource/authori...   \n21  http://publications.europa.eu/resource/authori...   \n22  http://publications.europa.eu/resource/authori...   \n23  http://publications.europa.eu/resource/authori...   \n24  http://publications.europa.eu/resource/authori...   \n25  http://publications.europa.eu/resource/authori...   \n26  http://publications.europa.eu/resource/authori...   \n27  http://publications.europa.eu/resource/authori...   \n28  http://publications.europa.eu/resource/authori...   \n29  http://publications.europa.eu/resource/authori...   \n30  http://publications.europa.eu/resource/authori...   \n31  http://publications.europa.eu/resource/authori...   \n32  http://publications.europa.eu/resource/authori...   \n33  http://publications.europa.eu/resource/authori...   \n34  http://publications.europa.eu/resource/authori...   \n35  http://publications.europa.eu/resource/authori...   \n36  http://publications.europa.eu/resource/authori...   \n37  http://publications.europa.eu/resource/authori...   \n38  http://publications.europa.eu/resource/authori...   \n39  http://publications.europa.eu/resource/authori...   \n40  http://publications.europa.eu/resource/authori...   \n41  http://publications.europa.eu/resource/authori...   \n42  http://publications.europa.eu/resource/authority/   \n43  http://publications.europa.eu/resource/authori...   \n44  http://publications.europa.eu/resource/authori...   \n45  http://publications.europa.eu/resource/authori...   \n46  http://publications.europa.eu/resource/authori...   \n47  http://publications.europa.eu/resource/authori...   \n\n                                       predicate_base       predicate  \\\n0         http://www.w3.org/1999/02/22-rdf-syntax-ns#            type   \n1                           http://purl.org/dc/terms/            type   \n2                http://www.w3.org/2004/02/skos/core#        notation   \n3         http://www.w3.org/1999/02/22-rdf-syntax-ns#            type   \n4   http://publications.europa.eu/ontology/authority/  op-mapped-code   \n5                http://www.w3.org/2004/02/skos/core#        inScheme   \n6         http://www.w3.org/1999/02/22-rdf-syntax-ns#            type   \n7                http://www.w3.org/2004/02/skos/core#        inScheme   \n8         http://www.w3.org/1999/02/22-rdf-syntax-ns#            type   \n9                http://www.w3.org/2004/02/skos/core#    topConceptOf   \n10  http://publications.europa.eu/ontology/authority/  op-mapped-code   \n11        http://www.w3.org/1999/02/22-rdf-syntax-ns#            type   \n12               http://www.w3.org/2004/02/skos/core#        inScheme   \n13        http://www.w3.org/1999/02/22-rdf-syntax-ns#            type   \n14               http://www.w3.org/2004/02/skos/core#         broader   \n15               http://www.w3.org/2004/02/skos/core#        narrower   \n16        http://www.w3.org/1999/02/22-rdf-syntax-ns#            type   \n17  http://publications.europa.eu/ontology/authority/  op-mapped-code   \n18        http://www.w3.org/1999/02/22-rdf-syntax-ns#            type   \n19  http://publications.europa.eu/ontology/authority/  op-mapped-code   \n20  http://publications.europa.eu/ontology/authority/  op-mapped-code   \n21        http://www.w3.org/1999/02/22-rdf-syntax-ns#            type   \n22        http://www.w3.org/1999/02/22-rdf-syntax-ns#            type   \n23               http://www.w3.org/2004/02/skos/core#        notation   \n24                          http://purl.org/dc/terms/            type   \n25        http://www.w3.org/1999/02/22-rdf-syntax-ns#            type   \n26               http://www.w3.org/2004/02/skos/core#        inScheme   \n27               http://www.w3.org/2004/02/skos/core#        inScheme   \n28        http://www.w3.org/1999/02/22-rdf-syntax-ns#            type   \n29               http://www.w3.org/2004/02/skos/core#    topConceptOf   \n30        http://www.w3.org/1999/02/22-rdf-syntax-ns#            type   \n31               http://www.w3.org/2004/02/skos/core#        inScheme   \n32               http://www.w3.org/2004/02/skos/core#         broader   \n33        http://www.w3.org/1999/02/22-rdf-syntax-ns#            type   \n34               http://www.w3.org/2004/02/skos/core#        inScheme   \n35               http://www.w3.org/2004/02/skos/core#         broader   \n36               http://www.w3.org/2004/02/skos/core#        narrower   \n37        http://www.w3.org/1999/02/22-rdf-syntax-ns#            type   \n38                          http://purl.org/dc/terms/            type   \n39               http://www.w3.org/2004/02/skos/core#        notation   \n40  http://publications.europa.eu/ontology/authority/  op-mapped-code   \n41        http://www.w3.org/1999/02/22-rdf-syntax-ns#            type   \n42        http://www.w3.org/1999/02/22-rdf-syntax-ns#            type   \n43        http://www.w3.org/1999/02/22-rdf-syntax-ns#            type   \n44               http://www.w3.org/2004/02/skos/core#    topConceptOf   \n45               http://www.w3.org/2004/02/skos/core#        inScheme   \n46               http://www.w3.org/2004/02/skos/core#      exactMatch   \n47               http://www.w3.org/2004/02/skos/core#    topConceptOf   \n\n                                          object_base  count             ns_s  \\\n0       http://publications.europa.eu/ontology/euvoc#  10615            place   \n1   http://publications.europa.eu/resource/authori...  10615            place   \n2   http://publications.europa.eu/resource/authori...  10615            place   \n3   http://publications.europa.eu/ontology/authority/   9767         language   \n4   http://publications.europa.eu/resource/authori...   9767         language   \n5   http://publications.europa.eu/resource/authority/   8179         language   \n6                http://www.w3.org/2004/02/skos/core#   8179         language   \n7   http://publications.europa.eu/resource/authority/   4363            place   \n8                http://www.w3.org/2004/02/skos/core#   4363            place   \n9   http://publications.europa.eu/resource/authority/   4363            place   \n10  http://publications.europa.eu/resource/authori...   2510              cob   \n11  http://publications.europa.eu/ontology/authority/   2510              cob   \n12  http://publications.europa.eu/resource/authority/   1511              cob   \n13               http://www.w3.org/2004/02/skos/core#   1511              cob   \n14  http://publications.europa.eu/resource/authori...   1251              cob   \n15  http://publications.europa.eu/resource/authori...   1251              cob   \n16  http://publications.europa.eu/ontology/authority/   1228          country   \n17  http://publications.europa.eu/resource/authori...   1228          country   \n18  http://publications.europa.eu/ontology/authority/    721             site   \n19  http://publications.europa.eu/resource/authori...    721             site   \n20  http://publications.europa.eu/resource/authori...    697            place   \n21  http://publications.europa.eu/ontology/authority/    697            place   \n22      http://publications.europa.eu/ontology/euvoc#    468         currency   \n23  http://publications.europa.eu/resource/authori...    468         currency   \n24  http://publications.europa.eu/resource/authori...    468         currency   \n25               http://www.w3.org/2004/02/skos/core#    404             site   \n26  http://publications.europa.eu/resource/authority/    404             site   \n27  http://publications.europa.eu/resource/authority/    289         currency   \n28               http://www.w3.org/2004/02/skos/core#    289         currency   \n29  http://publications.europa.eu/resource/authority/    289         currency   \n30               http://www.w3.org/2004/02/skos/core#    284          country   \n31  http://publications.europa.eu/resource/authority/    284          country   \n32  http://publications.europa.eu/resource/authori...     52          country   \n33               http://www.w3.org/2004/02/skos/core#     46         cob-clas   \n34  http://publications.europa.eu/resource/authority/     46         cob-clas   \n35  http://publications.europa.eu/resource/authori...     44         cob-clas   \n36  http://publications.europa.eu/resource/authori...     44         cob-clas   \n37      http://publications.europa.eu/ontology/euvoc#     14         cob-clas   \n38  http://publications.europa.eu/resource/authori...     14         cob-clas   \n39  http://publications.europa.eu/resource/authori...     14         cob-clas   \n40  http://publications.europa.eu/resource/authori...     13         cob-clas   \n41  http://publications.europa.eu/ontology/authority/     13         cob-clas   \n42               http://www.w3.org/2004/02/skos/core#      8          at-base   \n43               http://www.w3.org/2004/02/skos/core#      8  membership-clas   \n44  http://publications.europa.eu/resource/authority/      8  membership-clas   \n45  http://publications.europa.eu/resource/authority/      8  membership-clas   \n46  http://publications.europa.eu/resource/authori...      4  membership-clas   \n47  http://publications.europa.eu/resource/authority/      2         cob-clas   \n\n      ns_p           ns_o                      p asset_type_s asset_type_p  \\\n0      rdf          euvoc               rdf:type           at     language   \n1      dct  notation-type               dct:type           at     ontology   \n2     skos          place          skos:notation           at     ontology   \n3      rdf         at-ont               rdf:type           at     language   \n4   at-ont       language  at-ont:op-mapped-code           at     ontology   \n5     skos        at-base          skos:inScheme           at     ontology   \n6      rdf           skos               rdf:type           at     language   \n7     skos        at-base          skos:inScheme           at     ontology   \n8      rdf           skos               rdf:type           at     language   \n9     skos        at-base      skos:topConceptOf           at     ontology   \n10  at-ont            cob  at-ont:op-mapped-code           at     ontology   \n11     rdf         at-ont               rdf:type           at     language   \n12    skos        at-base          skos:inScheme           at     ontology   \n13     rdf           skos               rdf:type           at     language   \n14    skos            cob           skos:broader           at     ontology   \n15    skos            cob          skos:narrower           at     ontology   \n16     rdf         at-ont               rdf:type           at     language   \n17  at-ont        country  at-ont:op-mapped-code           at     ontology   \n18     rdf         at-ont               rdf:type           at     language   \n19  at-ont           site  at-ont:op-mapped-code           at     ontology   \n20  at-ont          place  at-ont:op-mapped-code           at     ontology   \n21     rdf         at-ont               rdf:type           at     language   \n22     rdf          euvoc               rdf:type           at     language   \n23    skos       currency          skos:notation           at     ontology   \n24     dct  notation-type               dct:type           at     ontology   \n25     rdf           skos               rdf:type           at     language   \n26    skos        at-base          skos:inScheme           at     ontology   \n27    skos        at-base          skos:inScheme           at     ontology   \n28     rdf           skos               rdf:type           at     language   \n29    skos        at-base      skos:topConceptOf           at     ontology   \n30     rdf           skos               rdf:type           at     language   \n31    skos        at-base          skos:inScheme           at     ontology   \n32    skos        country           skos:broader           at     ontology   \n33     rdf           skos               rdf:type           at     language   \n34    skos        at-base          skos:inScheme           at     ontology   \n35    skos       cob-clas           skos:broader           at     ontology   \n36    skos       cob-clas          skos:narrower           at     ontology   \n37     rdf          euvoc               rdf:type           at     language   \n38     dct  notation-type               dct:type           at     ontology   \n39    skos       cob-clas          skos:notation           at     ontology   \n40  at-ont       cob-clas  at-ont:op-mapped-code           at     ontology   \n41     rdf         at-ont               rdf:type           at     language   \n42     rdf           skos               rdf:type           at     language   \n43     rdf           skos               rdf:type           at     language   \n44    skos        at-base      skos:topConceptOf           at     ontology   \n45    skos        at-base          skos:inScheme           at     ontology   \n46    skos            cob        skos:exactMatch           at     ontology   \n47    skos        at-base      skos:topConceptOf           at     ontology   \n\n   asset_type_o  \n0      ontology  \n1            at  \n2            at  \n3      ontology  \n4            at  \n5            at  \n6      ontology  \n7            at  \n8      ontology  \n9            at  \n10           at  \n11     ontology  \n12           at  \n13     ontology  \n14           at  \n15           at  \n16     ontology  \n17           at  \n18     ontology  \n19           at  \n20           at  \n21     ontology  \n22     ontology  \n23           at  \n24           at  \n25     ontology  \n26           at  \n27           at  \n28     ontology  \n29           at  \n30     ontology  \n31           at  \n32           at  \n33     ontology  \n34           at  \n35           at  \n36           at  \n37     ontology  \n38           at  \n39           at  \n40           at  \n41     ontology  \n42     ontology  \n43     ontology  \n44           at  \n45           at  \n46           at  \n47           at  ",
      "text/html": "<div>\n<style scoped>\n    .dataframe tbody tr th:only-of-type {\n        vertical-align: middle;\n    }\n\n    .dataframe tbody tr th {\n        vertical-align: top;\n    }\n\n    .dataframe thead th {\n        text-align: right;\n    }\n</style>\n<table border=\"1\" class=\"dataframe\">\n  <thead>\n    <tr style=\"text-align: right;\">\n      <th></th>\n      <th>subject_base</th>\n      <th>predicate_base</th>\n      <th>predicate</th>\n      <th>object_base</th>\n      <th>count</th>\n      <th>ns_s</th>\n      <th>ns_p</th>\n      <th>ns_o</th>\n      <th>p</th>\n      <th>asset_type_s</th>\n      <th>asset_type_p</th>\n      <th>asset_type_o</th>\n    </tr>\n  </thead>\n  <tbody>\n    <tr>\n      <th>0</th>\n      <td>http://publications.europa.eu/resource/authori...</td>\n      <td>http://www.w3.org/1999/02/22-rdf-syntax-ns#</td>\n      <td>type</td>\n      <td>http://publications.europa.eu/ontology/euvoc#</td>\n      <td>10615</td>\n      <td>place</td>\n      <td>rdf</td>\n      <td>euvoc</td>\n      <td>rdf:type</td>\n      <td>at</td>\n      <td>language</td>\n      <td>ontology</td>\n    </tr>\n    <tr>\n      <th>1</th>\n      <td>http://publications.europa.eu/resource/authori...</td>\n      <td>http://purl.org/dc/terms/</td>\n      <td>type</td>\n      <td>http://publications.europa.eu/resource/authori...</td>\n      <td>10615</td>\n      <td>place</td>\n      <td>dct</td>\n      <td>notation-type</td>\n      <td>dct:type</td>\n      <td>at</td>\n      <td>ontology</td>\n      <td>at</td>\n    </tr>\n    <tr>\n      <th>2</th>\n      <td>http://publications.europa.eu/resource/authori...</td>\n      <td>http://www.w3.org/2004/02/skos/core#</td>\n      <td>notation</td>\n      <td>http://publications.europa.eu/resource/authori...</td>\n      <td>10615</td>\n      <td>place</td>\n      <td>skos</td>\n      <td>place</td>\n      <td>skos:notation</td>\n      <td>at</td>\n      <td>ontology</td>\n      <td>at</td>\n    </tr>\n    <tr>\n      <th>3</th>\n      <td>http://publications.europa.eu/resource/authori...</td>\n      <td>http://www.w3.org/1999/02/22-rdf-syntax-ns#</td>\n      <td>type</td>\n      <td>http://publications.europa.eu/ontology/authority/</td>\n      <td>9767</td>\n      <td>language</td>\n      <td>rdf</td>\n      <td>at-ont</td>\n      <td>rdf:type</td>\n      <td>at</td>\n      <td>language</td>\n      <td>ontology</td>\n    </tr>\n    <tr>\n      <th>4</th>\n      <td>http://publications.europa.eu/resource/authori...</td>\n      <td>http://publications.europa.eu/ontology/authority/</td>\n      <td>op-mapped-code</td>\n      <td>http://publications.europa.eu/resource/authori...</td>\n      <td>9767</td>\n      <td>language</td>\n      <td>at-ont</td>\n      <td>language</td>\n      <td>at-ont:op-mapped-code</td>\n      <td>at</td>\n      <td>ontology</td>\n      <td>at</td>\n    </tr>\n    <tr>\n      <th>5</th>\n      <td>http://publications.europa.eu/resource/authori...</td>\n      <td>http://www.w3.org/2004/02/skos/core#</td>\n      <td>inScheme</td>\n      <td>http://publications.europa.eu/resource/authority/</td>\n      <td>8179</td>\n      <td>language</td>\n      <td>skos</td>\n      <td>at-base</td>\n      <td>skos:inScheme</td>\n      <td>at</td>\n      <td>ontology</td>\n      <td>at</td>\n    </tr>\n    <tr>\n      <th>6</th>\n      <td>http://publications.europa.eu/resource/authori...</td>\n      <td>http://www.w3.org/1999/02/22-rdf-syntax-ns#</td>\n      <td>type</td>\n      <td>http://www.w3.org/2004/02/skos/core#</td>\n      <td>8179</td>\n      <td>language</td>\n      <td>rdf</td>\n      <td>skos</td>\n      <td>rdf:type</td>\n      <td>at</td>\n      <td>language</td>\n      <td>ontology</td>\n    </tr>\n    <tr>\n      <th>7</th>\n      <td>http://publications.europa.eu/resource/authori...</td>\n      <td>http://www.w3.org/2004/02/skos/core#</td>\n      <td>inScheme</td>\n      <td>http://publications.europa.eu/resource/authority/</td>\n      <td>4363</td>\n      <td>place</td>\n      <td>skos</td>\n      <td>at-base</td>\n      <td>skos:inScheme</td>\n      <td>at</td>\n      <td>ontology</td>\n      <td>at</td>\n    </tr>\n    <tr>\n      <th>8</th>\n      <td>http://publications.europa.eu/resource/authori...</td>\n      <td>http://www.w3.org/1999/02/22-rdf-syntax-ns#</td>\n      <td>type</td>\n      <td>http://www.w3.org/2004/02/skos/core#</td>\n      <td>4363</td>\n      <td>place</td>\n      <td>rdf</td>\n      <td>skos</td>\n      <td>rdf:type</td>\n      <td>at</td>\n      <td>language</td>\n      <td>ontology</td>\n    </tr>\n    <tr>\n      <th>9</th>\n      <td>http://publications.europa.eu/resource/authori...</td>\n      <td>http://www.w3.org/2004/02/skos/core#</td>\n      <td>topConceptOf</td>\n      <td>http://publications.europa.eu/resource/authority/</td>\n      <td>4363</td>\n      <td>place</td>\n      <td>skos</td>\n      <td>at-base</td>\n      <td>skos:topConceptOf</td>\n      <td>at</td>\n      <td>ontology</td>\n      <td>at</td>\n    </tr>\n    <tr>\n      <th>10</th>\n      <td>http://publications.europa.eu/resource/authori...</td>\n      <td>http://publications.europa.eu/ontology/authority/</td>\n      <td>op-mapped-code</td>\n      <td>http://publications.europa.eu/resource/authori...</td>\n      <td>2510</td>\n      <td>cob</td>\n      <td>at-ont</td>\n      <td>cob</td>\n      <td>at-ont:op-mapped-code</td>\n      <td>at</td>\n      <td>ontology</td>\n      <td>at</td>\n    </tr>\n    <tr>\n      <th>11</th>\n      <td>http://publications.europa.eu/resource/authori...</td>\n      <td>http://www.w3.org/1999/02/22-rdf-syntax-ns#</td>\n      <td>type</td>\n      <td>http://publications.europa.eu/ontology/authority/</td>\n      <td>2510</td>\n      <td>cob</td>\n      <td>rdf</td>\n      <td>at-ont</td>\n      <td>rdf:type</td>\n      <td>at</td>\n      <td>language</td>\n      <td>ontology</td>\n    </tr>\n    <tr>\n      <th>12</th>\n      <td>http://publications.europa.eu/resource/authori...</td>\n      <td>http://www.w3.org/2004/02/skos/core#</td>\n      <td>inScheme</td>\n      <td>http://publications.europa.eu/resource/authority/</td>\n      <td>1511</td>\n      <td>cob</td>\n      <td>skos</td>\n      <td>at-base</td>\n      <td>skos:inScheme</td>\n      <td>at</td>\n      <td>ontology</td>\n      <td>at</td>\n    </tr>\n    <tr>\n      <th>13</th>\n      <td>http://publications.europa.eu/resource/authori...</td>\n      <td>http://www.w3.org/1999/02/22-rdf-syntax-ns#</td>\n      <td>type</td>\n      <td>http://www.w3.org/2004/02/skos/core#</td>\n      <td>1511</td>\n      <td>cob</td>\n      <td>rdf</td>\n      <td>skos</td>\n      <td>rdf:type</td>\n      <td>at</td>\n      <td>language</td>\n      <td>ontology</td>\n    </tr>\n    <tr>\n      <th>14</th>\n      <td>http://publications.europa.eu/resource/authori...</td>\n      <td>http://www.w3.org/2004/02/skos/core#</td>\n      <td>broader</td>\n      <td>http://publications.europa.eu/resource/authori...</td>\n      <td>1251</td>\n      <td>cob</td>\n      <td>skos</td>\n      <td>cob</td>\n      <td>skos:broader</td>\n      <td>at</td>\n      <td>ontology</td>\n      <td>at</td>\n    </tr>\n    <tr>\n      <th>15</th>\n      <td>http://publications.europa.eu/resource/authori...</td>\n      <td>http://www.w3.org/2004/02/skos/core#</td>\n      <td>narrower</td>\n      <td>http://publications.europa.eu/resource/authori...</td>\n      <td>1251</td>\n      <td>cob</td>\n      <td>skos</td>\n      <td>cob</td>\n      <td>skos:narrower</td>\n      <td>at</td>\n      <td>ontology</td>\n      <td>at</td>\n    </tr>\n    <tr>\n      <th>16</th>\n      <td>http://publications.europa.eu/resource/authori...</td>\n      <td>http://www.w3.org/1999/02/22-rdf-syntax-ns#</td>\n      <td>type</td>\n      <td>http://publications.europa.eu/ontology/authority/</td>\n      <td>1228</td>\n      <td>country</td>\n      <td>rdf</td>\n      <td>at-ont</td>\n      <td>rdf:type</td>\n      <td>at</td>\n      <td>language</td>\n      <td>ontology</td>\n    </tr>\n    <tr>\n      <th>17</th>\n      <td>http://publications.europa.eu/resource/authori...</td>\n      <td>http://publications.europa.eu/ontology/authority/</td>\n      <td>op-mapped-code</td>\n      <td>http://publications.europa.eu/resource/authori...</td>\n      <td>1228</td>\n      <td>country</td>\n      <td>at-ont</td>\n      <td>country</td>\n      <td>at-ont:op-mapped-code</td>\n      <td>at</td>\n      <td>ontology</td>\n      <td>at</td>\n    </tr>\n    <tr>\n      <th>18</th>\n      <td>http://publications.europa.eu/resource/authori...</td>\n      <td>http://www.w3.org/1999/02/22-rdf-syntax-ns#</td>\n      <td>type</td>\n      <td>http://publications.europa.eu/ontology/authority/</td>\n      <td>721</td>\n      <td>site</td>\n      <td>rdf</td>\n      <td>at-ont</td>\n      <td>rdf:type</td>\n      <td>at</td>\n      <td>language</td>\n      <td>ontology</td>\n    </tr>\n    <tr>\n      <th>19</th>\n      <td>http://publications.europa.eu/resource/authori...</td>\n      <td>http://publications.europa.eu/ontology/authority/</td>\n      <td>op-mapped-code</td>\n      <td>http://publications.europa.eu/resource/authori...</td>\n      <td>721</td>\n      <td>site</td>\n      <td>at-ont</td>\n      <td>site</td>\n      <td>at-ont:op-mapped-code</td>\n      <td>at</td>\n      <td>ontology</td>\n      <td>at</td>\n    </tr>\n    <tr>\n      <th>20</th>\n      <td>http://publications.europa.eu/resource/authori...</td>\n      <td>http://publications.europa.eu/ontology/authority/</td>\n      <td>op-mapped-code</td>\n      <td>http://publications.europa.eu/resource/authori...</td>\n      <td>697</td>\n      <td>place</td>\n      <td>at-ont</td>\n      <td>place</td>\n      <td>at-ont:op-mapped-code</td>\n      <td>at</td>\n      <td>ontology</td>\n      <td>at</td>\n    </tr>\n    <tr>\n      <th>21</th>\n      <td>http://publications.europa.eu/resource/authori...</td>\n      <td>http://www.w3.org/1999/02/22-rdf-syntax-ns#</td>\n      <td>type</td>\n      <td>http://publications.europa.eu/ontology/authority/</td>\n      <td>697</td>\n      <td>place</td>\n      <td>rdf</td>\n      <td>at-ont</td>\n      <td>rdf:type</td>\n      <td>at</td>\n      <td>language</td>\n      <td>ontology</td>\n    </tr>\n    <tr>\n      <th>22</th>\n      <td>http://publications.europa.eu/resource/authori...</td>\n      <td>http://www.w3.org/1999/02/22-rdf-syntax-ns#</td>\n      <td>type</td>\n      <td>http://publications.europa.eu/ontology/euvoc#</td>\n      <td>468</td>\n      <td>currency</td>\n      <td>rdf</td>\n      <td>euvoc</td>\n      <td>rdf:type</td>\n      <td>at</td>\n      <td>language</td>\n      <td>ontology</td>\n    </tr>\n    <tr>\n      <th>23</th>\n      <td>http://publications.europa.eu/resource/authori...</td>\n      <td>http://www.w3.org/2004/02/skos/core#</td>\n      <td>notation</td>\n      <td>http://publications.europa.eu/resource/authori...</td>\n      <td>468</td>\n      <td>currency</td>\n      <td>skos</td>\n      <td>currency</td>\n      <td>skos:notation</td>\n      <td>at</td>\n      <td>ontology</td>\n      <td>at</td>\n    </tr>\n    <tr>\n      <th>24</th>\n      <td>http://publications.europa.eu/resource/authori...</td>\n      <td>http://purl.org/dc/terms/</td>\n      <td>type</td>\n      <td>http://publications.europa.eu/resource/authori...</td>\n      <td>468</td>\n      <td>currency</td>\n      <td>dct</td>\n      <td>notation-type</td>\n      <td>dct:type</td>\n      <td>at</td>\n      <td>ontology</td>\n      <td>at</td>\n    </tr>\n    <tr>\n      <th>25</th>\n      <td>http://publications.europa.eu/resource/authori...</td>\n      <td>http://www.w3.org/1999/02/22-rdf-syntax-ns#</td>\n      <td>type</td>\n      <td>http://www.w3.org/2004/02/skos/core#</td>\n      <td>404</td>\n      <td>site</td>\n      <td>rdf</td>\n      <td>skos</td>\n      <td>rdf:type</td>\n      <td>at</td>\n      <td>language</td>\n      <td>ontology</td>\n    </tr>\n    <tr>\n      <th>26</th>\n      <td>http://publications.europa.eu/resource/authori...</td>\n      <td>http://www.w3.org/2004/02/skos/core#</td>\n      <td>inScheme</td>\n      <td>http://publications.europa.eu/resource/authority/</td>\n      <td>404</td>\n      <td>site</td>\n      <td>skos</td>\n      <td>at-base</td>\n      <td>skos:inScheme</td>\n      <td>at</td>\n      <td>ontology</td>\n      <td>at</td>\n    </tr>\n    <tr>\n      <th>27</th>\n      <td>http://publications.europa.eu/resource/authori...</td>\n      <td>http://www.w3.org/2004/02/skos/core#</td>\n      <td>inScheme</td>\n      <td>http://publications.europa.eu/resource/authority/</td>\n      <td>289</td>\n      <td>currency</td>\n      <td>skos</td>\n      <td>at-base</td>\n      <td>skos:inScheme</td>\n      <td>at</td>\n      <td>ontology</td>\n      <td>at</td>\n    </tr>\n    <tr>\n      <th>28</th>\n      <td>http://publications.europa.eu/resource/authori...</td>\n      <td>http://www.w3.org/1999/02/22-rdf-syntax-ns#</td>\n      <td>type</td>\n      <td>http://www.w3.org/2004/02/skos/core#</td>\n      <td>289</td>\n      <td>currency</td>\n      <td>rdf</td>\n      <td>skos</td>\n      <td>rdf:type</td>\n      <td>at</td>\n      <td>language</td>\n      <td>ontology</td>\n    </tr>\n    <tr>\n      <th>29</th>\n      <td>http://publications.europa.eu/resource/authori...</td>\n      <td>http://www.w3.org/2004/02/skos/core#</td>\n      <td>topConceptOf</td>\n      <td>http://publications.europa.eu/resource/authority/</td>\n      <td>289</td>\n      <td>currency</td>\n      <td>skos</td>\n      <td>at-base</td>\n      <td>skos:topConceptOf</td>\n      <td>at</td>\n      <td>ontology</td>\n      <td>at</td>\n    </tr>\n    <tr>\n      <th>30</th>\n      <td>http://publications.europa.eu/resource/authori...</td>\n      <td>http://www.w3.org/1999/02/22-rdf-syntax-ns#</td>\n      <td>type</td>\n      <td>http://www.w3.org/2004/02/skos/core#</td>\n      <td>284</td>\n      <td>country</td>\n      <td>rdf</td>\n      <td>skos</td>\n      <td>rdf:type</td>\n      <td>at</td>\n      <td>language</td>\n      <td>ontology</td>\n    </tr>\n    <tr>\n      <th>31</th>\n      <td>http://publications.europa.eu/resource/authori...</td>\n      <td>http://www.w3.org/2004/02/skos/core#</td>\n      <td>inScheme</td>\n      <td>http://publications.europa.eu/resource/authority/</td>\n      <td>284</td>\n      <td>country</td>\n      <td>skos</td>\n      <td>at-base</td>\n      <td>skos:inScheme</td>\n      <td>at</td>\n      <td>ontology</td>\n      <td>at</td>\n    </tr>\n    <tr>\n      <th>32</th>\n      <td>http://publications.europa.eu/resource/authori...</td>\n      <td>http://www.w3.org/2004/02/skos/core#</td>\n      <td>broader</td>\n      <td>http://publications.europa.eu/resource/authori...</td>\n      <td>52</td>\n      <td>country</td>\n      <td>skos</td>\n      <td>country</td>\n      <td>skos:broader</td>\n      <td>at</td>\n      <td>ontology</td>\n      <td>at</td>\n    </tr>\n    <tr>\n      <th>33</th>\n      <td>http://publications.europa.eu/resource/authori...</td>\n      <td>http://www.w3.org/1999/02/22-rdf-syntax-ns#</td>\n      <td>type</td>\n      <td>http://www.w3.org/2004/02/skos/core#</td>\n      <td>46</td>\n      <td>cob-clas</td>\n      <td>rdf</td>\n      <td>skos</td>\n      <td>rdf:type</td>\n      <td>at</td>\n      <td>language</td>\n      <td>ontology</td>\n    </tr>\n    <tr>\n      <th>34</th>\n      <td>http://publications.europa.eu/resource/authori...</td>\n      <td>http://www.w3.org/2004/02/skos/core#</td>\n      <td>inScheme</td>\n      <td>http://publications.europa.eu/resource/authority/</td>\n      <td>46</td>\n      <td>cob-clas</td>\n      <td>skos</td>\n      <td>at-base</td>\n      <td>skos:inScheme</td>\n      <td>at</td>\n      <td>ontology</td>\n      <td>at</td>\n    </tr>\n    <tr>\n      <th>35</th>\n      <td>http://publications.europa.eu/resource/authori...</td>\n      <td>http://www.w3.org/2004/02/skos/core#</td>\n      <td>broader</td>\n      <td>http://publications.europa.eu/resource/authori...</td>\n      <td>44</td>\n      <td>cob-clas</td>\n      <td>skos</td>\n      <td>cob-clas</td>\n      <td>skos:broader</td>\n      <td>at</td>\n      <td>ontology</td>\n      <td>at</td>\n    </tr>\n    <tr>\n      <th>36</th>\n      <td>http://publications.europa.eu/resource/authori...</td>\n      <td>http://www.w3.org/2004/02/skos/core#</td>\n      <td>narrower</td>\n      <td>http://publications.europa.eu/resource/authori...</td>\n      <td>44</td>\n      <td>cob-clas</td>\n      <td>skos</td>\n      <td>cob-clas</td>\n      <td>skos:narrower</td>\n      <td>at</td>\n      <td>ontology</td>\n      <td>at</td>\n    </tr>\n    <tr>\n      <th>37</th>\n      <td>http://publications.europa.eu/resource/authori...</td>\n      <td>http://www.w3.org/1999/02/22-rdf-syntax-ns#</td>\n      <td>type</td>\n      <td>http://publications.europa.eu/ontology/euvoc#</td>\n      <td>14</td>\n      <td>cob-clas</td>\n      <td>rdf</td>\n      <td>euvoc</td>\n      <td>rdf:type</td>\n      <td>at</td>\n      <td>language</td>\n      <td>ontology</td>\n    </tr>\n    <tr>\n      <th>38</th>\n      <td>http://publications.europa.eu/resource/authori...</td>\n      <td>http://purl.org/dc/terms/</td>\n      <td>type</td>\n      <td>http://publications.europa.eu/resource/authori...</td>\n      <td>14</td>\n      <td>cob-clas</td>\n      <td>dct</td>\n      <td>notation-type</td>\n      <td>dct:type</td>\n      <td>at</td>\n      <td>ontology</td>\n      <td>at</td>\n    </tr>\n    <tr>\n      <th>39</th>\n      <td>http://publications.europa.eu/resource/authori...</td>\n      <td>http://www.w3.org/2004/02/skos/core#</td>\n      <td>notation</td>\n      <td>http://publications.europa.eu/resource/authori...</td>\n      <td>14</td>\n      <td>cob-clas</td>\n      <td>skos</td>\n      <td>cob-clas</td>\n      <td>skos:notation</td>\n      <td>at</td>\n      <td>ontology</td>\n      <td>at</td>\n    </tr>\n    <tr>\n      <th>40</th>\n      <td>http://publications.europa.eu/resource/authori...</td>\n      <td>http://publications.europa.eu/ontology/authority/</td>\n      <td>op-mapped-code</td>\n      <td>http://publications.europa.eu/resource/authori...</td>\n      <td>13</td>\n      <td>cob-clas</td>\n      <td>at-ont</td>\n      <td>cob-clas</td>\n      <td>at-ont:op-mapped-code</td>\n      <td>at</td>\n      <td>ontology</td>\n      <td>at</td>\n    </tr>\n    <tr>\n      <th>41</th>\n      <td>http://publications.europa.eu/resource/authori...</td>\n      <td>http://www.w3.org/1999/02/22-rdf-syntax-ns#</td>\n      <td>type</td>\n      <td>http://publications.europa.eu/ontology/authority/</td>\n      <td>13</td>\n      <td>cob-clas</td>\n      <td>rdf</td>\n      <td>at-ont</td>\n      <td>rdf:type</td>\n      <td>at</td>\n      <td>language</td>\n      <td>ontology</td>\n    </tr>\n    <tr>\n      <th>42</th>\n      <td>http://publications.europa.eu/resource/authority/</td>\n      <td>http://www.w3.org/1999/02/22-rdf-syntax-ns#</td>\n      <td>type</td>\n      <td>http://www.w3.org/2004/02/skos/core#</td>\n      <td>8</td>\n      <td>at-base</td>\n      <td>rdf</td>\n      <td>skos</td>\n      <td>rdf:type</td>\n      <td>at</td>\n      <td>language</td>\n      <td>ontology</td>\n    </tr>\n    <tr>\n      <th>43</th>\n      <td>http://publications.europa.eu/resource/authori...</td>\n      <td>http://www.w3.org/1999/02/22-rdf-syntax-ns#</td>\n      <td>type</td>\n      <td>http://www.w3.org/2004/02/skos/core#</td>\n      <td>8</td>\n      <td>membership-clas</td>\n      <td>rdf</td>\n      <td>skos</td>\n      <td>rdf:type</td>\n      <td>at</td>\n      <td>language</td>\n      <td>ontology</td>\n    </tr>\n    <tr>\n      <th>44</th>\n      <td>http://publications.europa.eu/resource/authori...</td>\n      <td>http://www.w3.org/2004/02/skos/core#</td>\n      <td>topConceptOf</td>\n      <td>http://publications.europa.eu/resource/authority/</td>\n      <td>8</td>\n      <td>membership-clas</td>\n      <td>skos</td>\n      <td>at-base</td>\n      <td>skos:topConceptOf</td>\n      <td>at</td>\n      <td>ontology</td>\n      <td>at</td>\n    </tr>\n    <tr>\n      <th>45</th>\n      <td>http://publications.europa.eu/resource/authori...</td>\n      <td>http://www.w3.org/2004/02/skos/core#</td>\n      <td>inScheme</td>\n      <td>http://publications.europa.eu/resource/authority/</td>\n      <td>8</td>\n      <td>membership-clas</td>\n      <td>skos</td>\n      <td>at-base</td>\n      <td>skos:inScheme</td>\n      <td>at</td>\n      <td>ontology</td>\n      <td>at</td>\n    </tr>\n    <tr>\n      <th>46</th>\n      <td>http://publications.europa.eu/resource/authori...</td>\n      <td>http://www.w3.org/2004/02/skos/core#</td>\n      <td>exactMatch</td>\n      <td>http://publications.europa.eu/resource/authori...</td>\n      <td>4</td>\n      <td>membership-clas</td>\n      <td>skos</td>\n      <td>cob</td>\n      <td>skos:exactMatch</td>\n      <td>at</td>\n      <td>ontology</td>\n      <td>at</td>\n    </tr>\n    <tr>\n      <th>47</th>\n      <td>http://publications.europa.eu/resource/authori...</td>\n      <td>http://www.w3.org/2004/02/skos/core#</td>\n      <td>topConceptOf</td>\n      <td>http://publications.europa.eu/resource/authority/</td>\n      <td>2</td>\n      <td>cob-clas</td>\n      <td>skos</td>\n      <td>at-base</td>\n      <td>skos:topConceptOf</td>\n      <td>at</td>\n      <td>ontology</td>\n      <td>at</td>\n    </tr>\n  </tbody>\n</table>\n</div>"
     },
     "execution_count": 211,
     "metadata": {},
     "output_type": "execute_result"
    }
   ],
   "source": [
    "df"
   ],
   "metadata": {
    "collapsed": false
   }
  },
  {
   "cell_type": "code",
   "execution_count": 212,
   "outputs": [],
   "source": [
    "ns_df = df[[\"ns_s\", \"ns_p\",\"p\", \"ns_o\", \"asset_type_s\",\"asset_type_p\", \"asset_type_o\" , \"count\"]]"
   ],
   "metadata": {
    "collapsed": false
   }
  },
  {
   "cell_type": "code",
   "execution_count": 213,
   "outputs": [],
   "source": [
    "ns_df.to_csv(\"ns_s_p_o.csv\", index=False)"
   ],
   "metadata": {
    "collapsed": false
   }
  },
  {
   "cell_type": "code",
   "execution_count": 229,
   "outputs": [],
   "source": [
    "ns_sp = ns_df[[\"ns_s\", \"ns_p\", \"count\"]]\n",
    "ns_so = ns_df[[\"ns_s\", \"ns_o\", \"count\"]]\n",
    "ns_sp.columns = [\"source\", \"target\", \"count\"]\n",
    "ns_so.columns = [\"source\", \"target\", \"count\"]"
   ],
   "metadata": {
    "collapsed": false
   }
  },
  {
   "cell_type": "code",
   "execution_count": 230,
   "outputs": [],
   "source": [
    "ns_sp_so = pd.concat([ns_sp, ns_so])\n",
    "ns_sp_so = ns_sp_so.groupby(by=[\"source\", \"target\"]).sum(numeric_only=True).reset_index()"
   ],
   "metadata": {
    "collapsed": false
   }
  },
  {
   "cell_type": "code",
   "execution_count": 232,
   "outputs": [],
   "source": [
    "ns_sp_so.to_csv(\"ns_sp_so.csv\", index=False)"
   ],
   "metadata": {
    "collapsed": false
   }
  },
  {
   "cell_type": "code",
   "execution_count": null,
   "outputs": [],
   "source": [
    "at_ns_df = ns_df.groupby(by=\"ns_s\")\n",
    "for ns_s, ns_p_o in at_ns_df:\n",
    "    ns_s_to_ns_o = (ns_p_o.groupby(by=\"ns_o\").sum(numeric_only=True)).reset_index()\n",
    "    ns_s_to_ns_o[\"ns_s\"] = ns_s\n",
    "    display(ns_s_to_ns_o)\n",
    "    figure = px.pie(ns_s_to_ns_o, values=\"count\", names=\"ns_o\", title=ns_s,\n",
    "\t\t\t\t\twidth=500,\n",
    "                    height=500)\n",
    "    figure.show()"
   ],
   "metadata": {
    "collapsed": false,
    "pycharm": {
     "is_executing": true
    }
   }
  },
  {
   "cell_type": "code",
   "execution_count": 240,
   "outputs": [],
   "source": [
    "import networkx as nx"
   ],
   "metadata": {
    "collapsed": false
   }
  },
  {
   "cell_type": "code",
   "execution_count": 234,
   "outputs": [],
   "source": [
    "net_df = ns_sp_so.copy()"
   ],
   "metadata": {
    "collapsed": false
   }
  },
  {
   "cell_type": "code",
   "execution_count": 235,
   "outputs": [],
   "source": [
    "net_df[\"weight\"] = net_df[\"count\"].apply(lambda x: x / 2000)"
   ],
   "metadata": {
    "collapsed": false
   }
  },
  {
   "cell_type": "code",
   "execution_count": 237,
   "outputs": [
    {
     "data": {
      "text/plain": "             source         target  count   weight\n0           at-base            rdf      8   0.0040\n1           at-base           skos      8   0.0040\n2               cob        at-base   1511   0.7555\n3               cob         at-ont   5020   2.5100\n4               cob            cob   5012   2.5060\n5               cob            rdf   4021   2.0105\n6               cob           skos   5524   2.7620\n7          cob-clas        at-base     48   0.0240\n8          cob-clas         at-ont     26   0.0130\n9          cob-clas       cob-clas    115   0.0575\n10         cob-clas            dct     14   0.0070\n11         cob-clas          euvoc     14   0.0070\n12         cob-clas  notation-type     14   0.0070\n13         cob-clas            rdf     73   0.0365\n14         cob-clas           skos    196   0.0980\n15          country        at-base    284   0.1420\n16          country         at-ont   2456   1.2280\n17          country        country   1280   0.6400\n18          country            rdf   1512   0.7560\n19          country           skos    620   0.3100\n20         currency        at-base    578   0.2890\n21         currency       currency    468   0.2340\n22         currency            dct    468   0.2340\n23         currency          euvoc    468   0.2340\n24         currency  notation-type    468   0.2340\n25         currency            rdf    757   0.3785\n26         currency           skos   1335   0.6675\n27         language        at-base   8179   4.0895\n28         language         at-ont  19534   9.7670\n29         language       language   9767   4.8835\n30         language            rdf  17946   8.9730\n31         language           skos  16358   8.1790\n32  membership-clas        at-base     16   0.0080\n33  membership-clas            cob      4   0.0020\n34  membership-clas            rdf      8   0.0040\n35  membership-clas           skos     28   0.0140\n36            place        at-base   8726   4.3630\n37            place         at-ont   1394   0.6970\n38            place            dct  10615   5.3075\n39            place          euvoc  10615   5.3075\n40            place  notation-type  10615   5.3075\n41            place          place  11312   5.6560\n42            place            rdf  15675   7.8375\n43            place           skos  23704  11.8520\n44             site        at-base    404   0.2020\n45             site         at-ont   1442   0.7210\n46             site            rdf   1125   0.5625\n47             site           site    721   0.3605\n48             site           skos    808   0.4040",
      "text/html": "<div>\n<style scoped>\n    .dataframe tbody tr th:only-of-type {\n        vertical-align: middle;\n    }\n\n    .dataframe tbody tr th {\n        vertical-align: top;\n    }\n\n    .dataframe thead th {\n        text-align: right;\n    }\n</style>\n<table border=\"1\" class=\"dataframe\">\n  <thead>\n    <tr style=\"text-align: right;\">\n      <th></th>\n      <th>source</th>\n      <th>target</th>\n      <th>count</th>\n      <th>weight</th>\n    </tr>\n  </thead>\n  <tbody>\n    <tr>\n      <th>0</th>\n      <td>at-base</td>\n      <td>rdf</td>\n      <td>8</td>\n      <td>0.0040</td>\n    </tr>\n    <tr>\n      <th>1</th>\n      <td>at-base</td>\n      <td>skos</td>\n      <td>8</td>\n      <td>0.0040</td>\n    </tr>\n    <tr>\n      <th>2</th>\n      <td>cob</td>\n      <td>at-base</td>\n      <td>1511</td>\n      <td>0.7555</td>\n    </tr>\n    <tr>\n      <th>3</th>\n      <td>cob</td>\n      <td>at-ont</td>\n      <td>5020</td>\n      <td>2.5100</td>\n    </tr>\n    <tr>\n      <th>4</th>\n      <td>cob</td>\n      <td>cob</td>\n      <td>5012</td>\n      <td>2.5060</td>\n    </tr>\n    <tr>\n      <th>5</th>\n      <td>cob</td>\n      <td>rdf</td>\n      <td>4021</td>\n      <td>2.0105</td>\n    </tr>\n    <tr>\n      <th>6</th>\n      <td>cob</td>\n      <td>skos</td>\n      <td>5524</td>\n      <td>2.7620</td>\n    </tr>\n    <tr>\n      <th>7</th>\n      <td>cob-clas</td>\n      <td>at-base</td>\n      <td>48</td>\n      <td>0.0240</td>\n    </tr>\n    <tr>\n      <th>8</th>\n      <td>cob-clas</td>\n      <td>at-ont</td>\n      <td>26</td>\n      <td>0.0130</td>\n    </tr>\n    <tr>\n      <th>9</th>\n      <td>cob-clas</td>\n      <td>cob-clas</td>\n      <td>115</td>\n      <td>0.0575</td>\n    </tr>\n    <tr>\n      <th>10</th>\n      <td>cob-clas</td>\n      <td>dct</td>\n      <td>14</td>\n      <td>0.0070</td>\n    </tr>\n    <tr>\n      <th>11</th>\n      <td>cob-clas</td>\n      <td>euvoc</td>\n      <td>14</td>\n      <td>0.0070</td>\n    </tr>\n    <tr>\n      <th>12</th>\n      <td>cob-clas</td>\n      <td>notation-type</td>\n      <td>14</td>\n      <td>0.0070</td>\n    </tr>\n    <tr>\n      <th>13</th>\n      <td>cob-clas</td>\n      <td>rdf</td>\n      <td>73</td>\n      <td>0.0365</td>\n    </tr>\n    <tr>\n      <th>14</th>\n      <td>cob-clas</td>\n      <td>skos</td>\n      <td>196</td>\n      <td>0.0980</td>\n    </tr>\n    <tr>\n      <th>15</th>\n      <td>country</td>\n      <td>at-base</td>\n      <td>284</td>\n      <td>0.1420</td>\n    </tr>\n    <tr>\n      <th>16</th>\n      <td>country</td>\n      <td>at-ont</td>\n      <td>2456</td>\n      <td>1.2280</td>\n    </tr>\n    <tr>\n      <th>17</th>\n      <td>country</td>\n      <td>country</td>\n      <td>1280</td>\n      <td>0.6400</td>\n    </tr>\n    <tr>\n      <th>18</th>\n      <td>country</td>\n      <td>rdf</td>\n      <td>1512</td>\n      <td>0.7560</td>\n    </tr>\n    <tr>\n      <th>19</th>\n      <td>country</td>\n      <td>skos</td>\n      <td>620</td>\n      <td>0.3100</td>\n    </tr>\n    <tr>\n      <th>20</th>\n      <td>currency</td>\n      <td>at-base</td>\n      <td>578</td>\n      <td>0.2890</td>\n    </tr>\n    <tr>\n      <th>21</th>\n      <td>currency</td>\n      <td>currency</td>\n      <td>468</td>\n      <td>0.2340</td>\n    </tr>\n    <tr>\n      <th>22</th>\n      <td>currency</td>\n      <td>dct</td>\n      <td>468</td>\n      <td>0.2340</td>\n    </tr>\n    <tr>\n      <th>23</th>\n      <td>currency</td>\n      <td>euvoc</td>\n      <td>468</td>\n      <td>0.2340</td>\n    </tr>\n    <tr>\n      <th>24</th>\n      <td>currency</td>\n      <td>notation-type</td>\n      <td>468</td>\n      <td>0.2340</td>\n    </tr>\n    <tr>\n      <th>25</th>\n      <td>currency</td>\n      <td>rdf</td>\n      <td>757</td>\n      <td>0.3785</td>\n    </tr>\n    <tr>\n      <th>26</th>\n      <td>currency</td>\n      <td>skos</td>\n      <td>1335</td>\n      <td>0.6675</td>\n    </tr>\n    <tr>\n      <th>27</th>\n      <td>language</td>\n      <td>at-base</td>\n      <td>8179</td>\n      <td>4.0895</td>\n    </tr>\n    <tr>\n      <th>28</th>\n      <td>language</td>\n      <td>at-ont</td>\n      <td>19534</td>\n      <td>9.7670</td>\n    </tr>\n    <tr>\n      <th>29</th>\n      <td>language</td>\n      <td>language</td>\n      <td>9767</td>\n      <td>4.8835</td>\n    </tr>\n    <tr>\n      <th>30</th>\n      <td>language</td>\n      <td>rdf</td>\n      <td>17946</td>\n      <td>8.9730</td>\n    </tr>\n    <tr>\n      <th>31</th>\n      <td>language</td>\n      <td>skos</td>\n      <td>16358</td>\n      <td>8.1790</td>\n    </tr>\n    <tr>\n      <th>32</th>\n      <td>membership-clas</td>\n      <td>at-base</td>\n      <td>16</td>\n      <td>0.0080</td>\n    </tr>\n    <tr>\n      <th>33</th>\n      <td>membership-clas</td>\n      <td>cob</td>\n      <td>4</td>\n      <td>0.0020</td>\n    </tr>\n    <tr>\n      <th>34</th>\n      <td>membership-clas</td>\n      <td>rdf</td>\n      <td>8</td>\n      <td>0.0040</td>\n    </tr>\n    <tr>\n      <th>35</th>\n      <td>membership-clas</td>\n      <td>skos</td>\n      <td>28</td>\n      <td>0.0140</td>\n    </tr>\n    <tr>\n      <th>36</th>\n      <td>place</td>\n      <td>at-base</td>\n      <td>8726</td>\n      <td>4.3630</td>\n    </tr>\n    <tr>\n      <th>37</th>\n      <td>place</td>\n      <td>at-ont</td>\n      <td>1394</td>\n      <td>0.6970</td>\n    </tr>\n    <tr>\n      <th>38</th>\n      <td>place</td>\n      <td>dct</td>\n      <td>10615</td>\n      <td>5.3075</td>\n    </tr>\n    <tr>\n      <th>39</th>\n      <td>place</td>\n      <td>euvoc</td>\n      <td>10615</td>\n      <td>5.3075</td>\n    </tr>\n    <tr>\n      <th>40</th>\n      <td>place</td>\n      <td>notation-type</td>\n      <td>10615</td>\n      <td>5.3075</td>\n    </tr>\n    <tr>\n      <th>41</th>\n      <td>place</td>\n      <td>place</td>\n      <td>11312</td>\n      <td>5.6560</td>\n    </tr>\n    <tr>\n      <th>42</th>\n      <td>place</td>\n      <td>rdf</td>\n      <td>15675</td>\n      <td>7.8375</td>\n    </tr>\n    <tr>\n      <th>43</th>\n      <td>place</td>\n      <td>skos</td>\n      <td>23704</td>\n      <td>11.8520</td>\n    </tr>\n    <tr>\n      <th>44</th>\n      <td>site</td>\n      <td>at-base</td>\n      <td>404</td>\n      <td>0.2020</td>\n    </tr>\n    <tr>\n      <th>45</th>\n      <td>site</td>\n      <td>at-ont</td>\n      <td>1442</td>\n      <td>0.7210</td>\n    </tr>\n    <tr>\n      <th>46</th>\n      <td>site</td>\n      <td>rdf</td>\n      <td>1125</td>\n      <td>0.5625</td>\n    </tr>\n    <tr>\n      <th>47</th>\n      <td>site</td>\n      <td>site</td>\n      <td>721</td>\n      <td>0.3605</td>\n    </tr>\n    <tr>\n      <th>48</th>\n      <td>site</td>\n      <td>skos</td>\n      <td>808</td>\n      <td>0.4040</td>\n    </tr>\n  </tbody>\n</table>\n</div>"
     },
     "execution_count": 237,
     "metadata": {},
     "output_type": "execute_result"
    }
   ],
   "source": [
    "net_df"
   ],
   "metadata": {
    "collapsed": false
   }
  },
  {
   "cell_type": "code",
   "execution_count": 253,
   "outputs": [],
   "source": [
    "graph = nx.from_pandas_edgelist(net_df, source=\"source\", target=\"target\", edge_attr=\"weight\", create_using=nx.DiGraph)"
   ],
   "metadata": {
    "collapsed": false
   }
  },
  {
   "cell_type": "code",
   "execution_count": 255,
   "outputs": [],
   "source": [
    "from pyvis.network import Network\n",
    "net = Network('1000px', '100%', directed =True, notebook=True, cdn_resources=\"remote\", neighborhood_highlight=True)\n",
    "net.from_nx(graph)\n",
    "frame = net.write_html(\"result_graph.html\", notebook=True)"
   ],
   "metadata": {
    "collapsed": false
   }
  }
 ],
 "metadata": {
  "kernelspec": {
   "display_name": "Python 3",
   "language": "python",
   "name": "python3"
  },
  "language_info": {
   "codemirror_mode": {
    "name": "ipython",
    "version": 2
   },
   "file_extension": ".py",
   "mimetype": "text/x-python",
   "name": "python",
   "nbconvert_exporter": "python",
   "pygments_lexer": "ipython2",
   "version": "2.7.6"
  }
 },
 "nbformat": 4,
 "nbformat_minor": 0
}
