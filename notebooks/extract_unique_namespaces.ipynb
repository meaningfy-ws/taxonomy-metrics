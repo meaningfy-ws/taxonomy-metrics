{
 "cells": [
  {
   "cell_type": "code",
   "execution_count": 3,
   "metadata": {
    "collapsed": true,
    "ExecuteTime": {
     "start_time": "2023-04-16T15:53:37.429562Z",
     "end_time": "2023-04-16T15:53:37.760722Z"
    }
   },
   "outputs": [],
   "source": [
    "import pandas as pd\n",
    "import rdflib\n",
    "from notebooks.resources.input_data import AUTHORITY_TABLES_DIR_PATH, PREFIX_DEFINITION_FILE_PATH"
   ]
  },
  {
   "cell_type": "code",
   "execution_count": 4,
   "outputs": [],
   "source": [
    "input_data_files = [file_path for file_path in AUTHORITY_TABLES_DIR_PATH.iterdir() if\n",
    "                    file_path.is_file() and file_path.suffix == \".rdf\"]"
   ],
   "metadata": {
    "collapsed": false,
    "ExecuteTime": {
     "start_time": "2023-04-16T15:53:40.979516Z",
     "end_time": "2023-04-16T15:53:41.017530Z"
    }
   }
  },
  {
   "cell_type": "code",
   "execution_count": 5,
   "outputs": [],
   "source": [
    "# read rdf graph from all files from input_data_files\n",
    "g = rdflib.Graph()\n",
    "for file_path in input_data_files:\n",
    "    g.parse(str(file_path), format=\"xml\")"
   ],
   "metadata": {
    "collapsed": false,
    "ExecuteTime": {
     "start_time": "2023-04-16T15:53:42.665955Z",
     "end_time": "2023-04-16T15:56:08.039527Z"
    }
   }
  },
  {
   "cell_type": "code",
   "execution_count": 6,
   "outputs": [],
   "source": [
    "def extract_namespace_from_uri(uri):\n",
    "    if uri.startswith(\"http\"):\n",
    "        counter = 0\n",
    "        for char in uri[::-1]:\n",
    "            if char == \"/\" or char == \"#\":\n",
    "                return uri[:-counter] if counter else str(uri)\n",
    "            counter += 1\n",
    "    return \"unknown_namespace\""
   ],
   "metadata": {
    "collapsed": false,
    "ExecuteTime": {
     "start_time": "2023-04-16T15:56:08.042527Z",
     "end_time": "2023-04-16T15:56:08.047527Z"
    }
   }
  },
  {
   "cell_type": "code",
   "execution_count": 7,
   "outputs": [],
   "source": [
    "def filter_blank_nodes_and_literals(triples):\n",
    "    for s, p, o in triples:\n",
    "        if not isinstance(o, rdflib.term.Literal) and not isinstance(o, rdflib.term.BNode) and not isinstance(s, rdflib.term.BNode):\n",
    "            yield s, p, o"
   ],
   "metadata": {
    "collapsed": false,
    "ExecuteTime": {
     "start_time": "2023-04-16T15:56:08.046527Z",
     "end_time": "2023-04-16T15:56:08.049615Z"
    }
   }
  },
  {
   "cell_type": "code",
   "execution_count": 8,
   "outputs": [],
   "source": [
    "def filter_literals(triples):\n",
    "    for s, p, o in triples:\n",
    "        if not isinstance(o, rdflib.term.Literal):\n",
    "            yield s, p, o"
   ],
   "metadata": {
    "collapsed": false,
    "ExecuteTime": {
     "start_time": "2023-04-16T15:56:08.052615Z",
     "end_time": "2023-04-16T15:56:08.058615Z"
    }
   }
  },
  {
   "cell_type": "code",
   "execution_count": 9,
   "outputs": [],
   "source": [
    "def inject_namespace_to_blank_nodes(input_graph: rdflib.Graph)->rdflib.Graph:\n",
    "    \"\"\"\n",
    "    This function injects the namespace of the subject to the blank nodes in the object position.\n",
    "    \"\"\"\n",
    "    output_graph = rdflib.Graph()\n",
    "    for s, p, o in input_graph:\n",
    "        if isinstance(o, rdflib.term.BNode):\n",
    "            new_object_uri = f\"{extract_namespace_from_uri(s)}{o}\"\n",
    "            for so, po, oo in input_graph.triples(triple=(o, None, None)):\n",
    "                output_graph.remove((so, po, oo))\n",
    "                output_graph.add((rdflib.term.URIRef(new_object_uri), po, oo))\n",
    "            output_graph.remove((s, p, o))\n",
    "            output_graph.add((s, p, rdflib.term.URIRef(new_object_uri)))\n",
    "        else:\n",
    "            output_graph.add((s, p, o))\n",
    "    return output_graph"
   ],
   "metadata": {
    "collapsed": false,
    "ExecuteTime": {
     "start_time": "2023-04-16T15:56:08.058615Z",
     "end_time": "2023-04-16T15:56:08.061615Z"
    }
   }
  },
  {
   "cell_type": "code",
   "execution_count": 10,
   "outputs": [],
   "source": [
    "g = inject_namespace_to_blank_nodes(g)"
   ],
   "metadata": {
    "collapsed": false,
    "ExecuteTime": {
     "start_time": "2023-04-16T15:56:08.407324Z",
     "end_time": "2023-04-16T15:57:04.033122Z"
    }
   }
  },
  {
   "cell_type": "code",
   "execution_count": 11,
   "outputs": [],
   "source": [
    "remove_predicates = {\"hasTelephone\", \"hasAddress\",\"homepage\",\"hasEmail\"}"
   ],
   "metadata": {
    "collapsed": false,
    "ExecuteTime": {
     "start_time": "2023-04-16T15:57:04.032111Z",
     "end_time": "2023-04-16T15:57:04.084938Z"
    }
   }
  },
  {
   "cell_type": "code",
   "execution_count": 12,
   "outputs": [],
   "source": [
    "results = []\n",
    "unique_namespaces = set()\n",
    "for s, p, o in filter_blank_nodes_and_literals(g):\n",
    "    namespace_s = extract_namespace_from_uri(s)\n",
    "    namespace_p = extract_namespace_from_uri(p)\n",
    "    namespace_o = extract_namespace_from_uri(o)\n",
    "    predicate = p.split(\"#\")[-1] if \"#\" in p else p.split(\"/\")[-1]\n",
    "    if predicate in remove_predicates:\n",
    "        continue\n",
    "    unique_namespaces.add(namespace_s)\n",
    "    unique_namespaces.add(namespace_p)\n",
    "    unique_namespaces.add(namespace_o)\n",
    "    results.append((namespace_s, namespace_p, predicate, namespace_o))"
   ],
   "metadata": {
    "collapsed": false,
    "ExecuteTime": {
     "start_time": "2023-04-16T15:57:04.499202Z",
     "end_time": "2023-04-16T15:57:13.312357Z"
    }
   }
  },
  {
   "cell_type": "code",
   "execution_count": 13,
   "outputs": [
    {
     "data": {
      "text/plain": "40"
     },
     "execution_count": 13,
     "metadata": {},
     "output_type": "execute_result"
    }
   ],
   "source": [
    "len(unique_namespaces)"
   ],
   "metadata": {
    "collapsed": false,
    "ExecuteTime": {
     "start_time": "2023-04-16T15:57:13.315356Z",
     "end_time": "2023-04-16T15:57:13.329461Z"
    }
   }
  },
  {
   "cell_type": "code",
   "execution_count": 14,
   "outputs": [],
   "source": [
    "pd.DataFrame(unique_namespaces, columns=[\"namespace\"]).to_csv(\"unique_namespaces.csv\", index=False)"
   ],
   "metadata": {
    "collapsed": false,
    "ExecuteTime": {
     "start_time": "2023-04-16T15:57:13.330461Z",
     "end_time": "2023-04-16T15:57:13.331461Z"
    }
   }
  },
  {
   "cell_type": "code",
   "execution_count": 15,
   "outputs": [],
   "source": [
    "tmp_df = pd.DataFrame(pd.Series(results).value_counts().reset_index())\n",
    "tmp_df.columns = [\"results\", \"count\"]\n",
    "tmp_df[\"subject_base\"] = tmp_df[\"results\"].apply(lambda x: x[0])\n",
    "tmp_df[\"predicate_base\"] = tmp_df[\"results\"].apply(lambda x: x[1])\n",
    "tmp_df[\"predicate\"] = tmp_df[\"results\"].apply(lambda x: x[2])\n",
    "tmp_df[\"object_base\"] = tmp_df[\"results\"].apply(lambda x: x[3])\n",
    "df = tmp_df[[\"subject_base\", \"predicate_base\",\"predicate\", \"object_base\", \"count\"]]"
   ],
   "metadata": {
    "collapsed": false,
    "ExecuteTime": {
     "start_time": "2023-04-16T15:59:06.133127Z",
     "end_time": "2023-04-16T15:59:06.318497Z"
    }
   }
  },
  {
   "cell_type": "code",
   "execution_count": 50,
   "outputs": [],
   "source": [
    "prefixes_df = pd.read_csv(PREFIX_DEFINITION_FILE_PATH)"
   ],
   "metadata": {
    "collapsed": false,
    "ExecuteTime": {
     "start_time": "2023-04-16T16:27:45.616311Z",
     "end_time": "2023-04-16T16:27:45.625377Z"
    }
   }
  },
  {
   "cell_type": "code",
   "execution_count": 51,
   "outputs": [
    {
     "data": {
      "text/plain": "                                             base URI           prefix  \\\n0   http://publications.europa.eu/ontology/authority/           at-ont   \n1       http://publications.europa.eu/ontology/euvoc#            euvoc   \n2   http://publications.europa.eu/resource/authority/          at-base   \n3   http://publications.europa.eu/resource/authori...         cob-clas   \n4   http://publications.europa.eu/resource/authori...              cob   \n5   http://publications.europa.eu/resource/authori...          country   \n6   http://publications.europa.eu/resource/authori...         currency   \n7   http://publications.europa.eu/resource/authori...         language   \n8   http://publications.europa.eu/resource/authori...  membership-clas   \n9   http://publications.europa.eu/resource/authori...    notation-type   \n10  http://publications.europa.eu/resource/authori...            place   \n11  http://publications.europa.eu/resource/authori...             site   \n12                   http://purl.org/dc/elements/1.1/               dc   \n13                          http://purl.org/dc/terms/              dct   \n14        http://www.w3.org/1999/02/22-rdf-syntax-ns#              rdf   \n15              http://www.w3.org/2000/01/rdf-schema#             rdfs   \n16                     http://www.w3.org/2002/07/owl#              owl   \n17               http://www.w3.org/2004/02/skos/core#             skos   \n18       http://www.lexinfo.net/ontology/2.0/lexinfo#          lexinfo   \n19              http://www.opengis.net/ont/geosparql#        geosparql   \n20                 http://www.w3.org/2008/05/skos-xl#            skoxl   \n21                      http://lemon-model.net/lemon#            lemon   \n22                          http://www.w3.org/ns/org#              org   \n23           http://www.w3.org/2003/01/geo/wgs84_pos#         geowgs84   \n24                         http://lexvo.org/ontology#            lexvo   \n25                   http://www.w3.org/2006/vcard/ns#            vcard   \n\n                             label           type  \n0         Authority Table (legacy)       ontology  \n1           EU Vocabulary Ontology       ontology  \n2                Base AT namespace             at  \n3   Corporate Body Classification              at  \n4                   Corporate Body             at  \n5                          Country             at  \n6                         Currency             at  \n7                         Language             at  \n8        Membership Classification             at  \n9                    Notation Type             at  \n10                           Place             at  \n11                            Site             at  \n12            Dublin Core Elements       ontology  \n13               Dublin Core Terms       ontology  \n14                             RDF       language  \n15                            RDFS       language  \n16                             OWL       language  \n17                            SKOS       ontology  \n18                         LexInfo       ontology  \n19                       GeoSPARQL       ontology  \n20                         SKOS-XL       language  \n21                           Lemon  lexicon model  \n22                             ORG       ontology  \n23                           WGS84     vocabulary  \n24                       lexvo.org       ontolofy  \n25                           vCard       ontology  ",
      "text/html": "<div>\n<style scoped>\n    .dataframe tbody tr th:only-of-type {\n        vertical-align: middle;\n    }\n\n    .dataframe tbody tr th {\n        vertical-align: top;\n    }\n\n    .dataframe thead th {\n        text-align: right;\n    }\n</style>\n<table border=\"1\" class=\"dataframe\">\n  <thead>\n    <tr style=\"text-align: right;\">\n      <th></th>\n      <th>base URI</th>\n      <th>prefix</th>\n      <th>label</th>\n      <th>type</th>\n    </tr>\n  </thead>\n  <tbody>\n    <tr>\n      <th>0</th>\n      <td>http://publications.europa.eu/ontology/authority/</td>\n      <td>at-ont</td>\n      <td>Authority Table (legacy)</td>\n      <td>ontology</td>\n    </tr>\n    <tr>\n      <th>1</th>\n      <td>http://publications.europa.eu/ontology/euvoc#</td>\n      <td>euvoc</td>\n      <td>EU Vocabulary Ontology</td>\n      <td>ontology</td>\n    </tr>\n    <tr>\n      <th>2</th>\n      <td>http://publications.europa.eu/resource/authority/</td>\n      <td>at-base</td>\n      <td>Base AT namespace</td>\n      <td>at</td>\n    </tr>\n    <tr>\n      <th>3</th>\n      <td>http://publications.europa.eu/resource/authori...</td>\n      <td>cob-clas</td>\n      <td>Corporate Body Classification</td>\n      <td>at</td>\n    </tr>\n    <tr>\n      <th>4</th>\n      <td>http://publications.europa.eu/resource/authori...</td>\n      <td>cob</td>\n      <td>Corporate Body</td>\n      <td>at</td>\n    </tr>\n    <tr>\n      <th>5</th>\n      <td>http://publications.europa.eu/resource/authori...</td>\n      <td>country</td>\n      <td>Country</td>\n      <td>at</td>\n    </tr>\n    <tr>\n      <th>6</th>\n      <td>http://publications.europa.eu/resource/authori...</td>\n      <td>currency</td>\n      <td>Currency</td>\n      <td>at</td>\n    </tr>\n    <tr>\n      <th>7</th>\n      <td>http://publications.europa.eu/resource/authori...</td>\n      <td>language</td>\n      <td>Language</td>\n      <td>at</td>\n    </tr>\n    <tr>\n      <th>8</th>\n      <td>http://publications.europa.eu/resource/authori...</td>\n      <td>membership-clas</td>\n      <td>Membership Classification</td>\n      <td>at</td>\n    </tr>\n    <tr>\n      <th>9</th>\n      <td>http://publications.europa.eu/resource/authori...</td>\n      <td>notation-type</td>\n      <td>Notation Type</td>\n      <td>at</td>\n    </tr>\n    <tr>\n      <th>10</th>\n      <td>http://publications.europa.eu/resource/authori...</td>\n      <td>place</td>\n      <td>Place</td>\n      <td>at</td>\n    </tr>\n    <tr>\n      <th>11</th>\n      <td>http://publications.europa.eu/resource/authori...</td>\n      <td>site</td>\n      <td>Site</td>\n      <td>at</td>\n    </tr>\n    <tr>\n      <th>12</th>\n      <td>http://purl.org/dc/elements/1.1/</td>\n      <td>dc</td>\n      <td>Dublin Core Elements</td>\n      <td>ontology</td>\n    </tr>\n    <tr>\n      <th>13</th>\n      <td>http://purl.org/dc/terms/</td>\n      <td>dct</td>\n      <td>Dublin Core Terms</td>\n      <td>ontology</td>\n    </tr>\n    <tr>\n      <th>14</th>\n      <td>http://www.w3.org/1999/02/22-rdf-syntax-ns#</td>\n      <td>rdf</td>\n      <td>RDF</td>\n      <td>language</td>\n    </tr>\n    <tr>\n      <th>15</th>\n      <td>http://www.w3.org/2000/01/rdf-schema#</td>\n      <td>rdfs</td>\n      <td>RDFS</td>\n      <td>language</td>\n    </tr>\n    <tr>\n      <th>16</th>\n      <td>http://www.w3.org/2002/07/owl#</td>\n      <td>owl</td>\n      <td>OWL</td>\n      <td>language</td>\n    </tr>\n    <tr>\n      <th>17</th>\n      <td>http://www.w3.org/2004/02/skos/core#</td>\n      <td>skos</td>\n      <td>SKOS</td>\n      <td>ontology</td>\n    </tr>\n    <tr>\n      <th>18</th>\n      <td>http://www.lexinfo.net/ontology/2.0/lexinfo#</td>\n      <td>lexinfo</td>\n      <td>LexInfo</td>\n      <td>ontology</td>\n    </tr>\n    <tr>\n      <th>19</th>\n      <td>http://www.opengis.net/ont/geosparql#</td>\n      <td>geosparql</td>\n      <td>GeoSPARQL</td>\n      <td>ontology</td>\n    </tr>\n    <tr>\n      <th>20</th>\n      <td>http://www.w3.org/2008/05/skos-xl#</td>\n      <td>skoxl</td>\n      <td>SKOS-XL</td>\n      <td>language</td>\n    </tr>\n    <tr>\n      <th>21</th>\n      <td>http://lemon-model.net/lemon#</td>\n      <td>lemon</td>\n      <td>Lemon</td>\n      <td>lexicon model</td>\n    </tr>\n    <tr>\n      <th>22</th>\n      <td>http://www.w3.org/ns/org#</td>\n      <td>org</td>\n      <td>ORG</td>\n      <td>ontology</td>\n    </tr>\n    <tr>\n      <th>23</th>\n      <td>http://www.w3.org/2003/01/geo/wgs84_pos#</td>\n      <td>geowgs84</td>\n      <td>WGS84</td>\n      <td>vocabulary</td>\n    </tr>\n    <tr>\n      <th>24</th>\n      <td>http://lexvo.org/ontology#</td>\n      <td>lexvo</td>\n      <td>lexvo.org</td>\n      <td>ontolofy</td>\n    </tr>\n    <tr>\n      <th>25</th>\n      <td>http://www.w3.org/2006/vcard/ns#</td>\n      <td>vcard</td>\n      <td>vCard</td>\n      <td>ontology</td>\n    </tr>\n  </tbody>\n</table>\n</div>"
     },
     "execution_count": 51,
     "metadata": {},
     "output_type": "execute_result"
    }
   ],
   "source": [
    "prefixes_df"
   ],
   "metadata": {
    "collapsed": false,
    "ExecuteTime": {
     "start_time": "2023-04-16T16:27:48.985848Z",
     "end_time": "2023-04-16T16:27:48.991847Z"
    }
   }
  },
  {
   "cell_type": "code",
   "execution_count": 29,
   "outputs": [],
   "source": [
    "def get_prefix_by_namespace(namespace: str, prefixes_df: pd.DataFrame, new_prefixes: dict)->str:\n",
    "    \"\"\"\n",
    "    This function injects the prefixes to the namespaces.\n",
    "    \"\"\"\n",
    "    if namespace in prefixes_df[\"base URI\"].values:\n",
    "        return prefixes_df[prefixes_df[\"base URI\"] == namespace][\"prefix\"].values[0]\n",
    "    elif namespace not in new_prefixes.keys():\n",
    "        new_prefixes[namespace] = f\"ns{len(new_prefixes.keys())+1}\"\n",
    "    return new_prefixes[namespace]\n",
    "\n",
    "def get_prefix_type_by_namespace(namespace: str, prefixes_df: pd.DataFrame)->str:\n",
    "    \"\"\"\n",
    "    This function injects the prefixes to the namespaces.\n",
    "    \"\"\"\n",
    "    if namespace in prefixes_df[\"base URI\"].values:\n",
    "        return prefixes_df[prefixes_df[\"base URI\"] == namespace][\"type\"].values[0]\n",
    "    else:\n",
    "        return \"unknown\"\n"
   ],
   "metadata": {
    "collapsed": false,
    "ExecuteTime": {
     "start_time": "2023-04-16T16:15:34.338242Z",
     "end_time": "2023-04-16T16:15:34.358239Z"
    }
   }
  },
  {
   "cell_type": "code",
   "execution_count": 52,
   "outputs": [],
   "source": [
    "new_prefixes = dict()"
   ],
   "metadata": {
    "collapsed": false,
    "ExecuteTime": {
     "start_time": "2023-04-16T16:28:05.102880Z",
     "end_time": "2023-04-16T16:28:05.108868Z"
    }
   }
  },
  {
   "cell_type": "code",
   "execution_count": 53,
   "outputs": [],
   "source": [
    "df[\"ns_s\"] = df[\"subject_base\"].apply(lambda x: get_prefix_by_namespace(x, prefixes_df, new_prefixes))\n",
    "df[\"ns_p\"] = df[\"predicate_base\"].apply(lambda x: get_prefix_by_namespace(x, prefixes_df, new_prefixes))\n",
    "df[\"ns_o\"] = df[\"object_base\"].apply(lambda x: get_prefix_by_namespace(x, prefixes_df, new_prefixes))\n",
    "df[\"p\"] = df[\"ns_p\"]+\":\"+df[\"predicate\"]"
   ],
   "metadata": {
    "collapsed": false,
    "ExecuteTime": {
     "start_time": "2023-04-16T16:28:06.796538Z",
     "end_time": "2023-04-16T16:28:06.906308Z"
    }
   }
  },
  {
   "cell_type": "code",
   "execution_count": 54,
   "outputs": [],
   "source": [
    "df[\"asset_type_s\"] = df[\"subject_base\"].apply(lambda x: get_prefix_type_by_namespace(x, prefixes_df))\n",
    "df[\"asset_type_p\"] = df[\"predicate_base\"].apply(lambda x: get_prefix_type_by_namespace(x, prefixes_df))\n",
    "df[\"asset_type_o\"] = df[\"object_base\"].apply(lambda x: get_prefix_type_by_namespace(x, prefixes_df))"
   ],
   "metadata": {
    "collapsed": false,
    "ExecuteTime": {
     "start_time": "2023-04-16T16:28:09.572064Z",
     "end_time": "2023-04-16T16:28:09.672649Z"
    }
   }
  },
  {
   "cell_type": "code",
   "execution_count": 55,
   "outputs": [],
   "source": [
    "new_prefixes_df = pd.DataFrame.from_dict(new_prefixes, orient=\"index\").reset_index()\n",
    "new_prefixes_df.columns = [\"base URI\", \"prefix\"]"
   ],
   "metadata": {
    "collapsed": false,
    "ExecuteTime": {
     "start_time": "2023-04-16T16:28:12.072761Z",
     "end_time": "2023-04-16T16:28:12.092611Z"
    }
   }
  },
  {
   "cell_type": "code",
   "execution_count": 56,
   "outputs": [
    {
     "data": {
      "text/plain": "                                             base URI prefix\n0   http://publications.europa.eu/resource/authori...    ns1\n1   http://publications.europa.eu/resource/authori...    ns2\n2   http://publications.europa.eu/resource/authori...    ns3\n3   http://publications.europa.eu/resource/authori...    ns4\n4   http://publications.europa.eu/resource/authori...    ns5\n5   http://publications.europa.eu/resource/authori...    ns6\n6   http://publications.europa.eu/resource/authori...    ns7\n7                                   unknown_namespace    ns8\n8   http://publications.europa.eu/resource/authori...    ns9\n9                           http://eurovoc.europa.eu/   ns10\n10  http://publications.europa.eu/resource/authori...   ns11\n11  http://publications.europa.eu/resource/authori...   ns12\n12             http://id.loc.gov/vocabulary/iso639-1/   ns13\n13  http://publications.europa.eu/resource/authori...   ns14\n14            http://publications.europa.eu/ontology/   ns15\n15  http://publications.europa.eu/resource/authori...   ns16",
      "text/html": "<div>\n<style scoped>\n    .dataframe tbody tr th:only-of-type {\n        vertical-align: middle;\n    }\n\n    .dataframe tbody tr th {\n        vertical-align: top;\n    }\n\n    .dataframe thead th {\n        text-align: right;\n    }\n</style>\n<table border=\"1\" class=\"dataframe\">\n  <thead>\n    <tr style=\"text-align: right;\">\n      <th></th>\n      <th>base URI</th>\n      <th>prefix</th>\n    </tr>\n  </thead>\n  <tbody>\n    <tr>\n      <th>0</th>\n      <td>http://publications.europa.eu/resource/authori...</td>\n      <td>ns1</td>\n    </tr>\n    <tr>\n      <th>1</th>\n      <td>http://publications.europa.eu/resource/authori...</td>\n      <td>ns2</td>\n    </tr>\n    <tr>\n      <th>2</th>\n      <td>http://publications.europa.eu/resource/authori...</td>\n      <td>ns3</td>\n    </tr>\n    <tr>\n      <th>3</th>\n      <td>http://publications.europa.eu/resource/authori...</td>\n      <td>ns4</td>\n    </tr>\n    <tr>\n      <th>4</th>\n      <td>http://publications.europa.eu/resource/authori...</td>\n      <td>ns5</td>\n    </tr>\n    <tr>\n      <th>5</th>\n      <td>http://publications.europa.eu/resource/authori...</td>\n      <td>ns6</td>\n    </tr>\n    <tr>\n      <th>6</th>\n      <td>http://publications.europa.eu/resource/authori...</td>\n      <td>ns7</td>\n    </tr>\n    <tr>\n      <th>7</th>\n      <td>unknown_namespace</td>\n      <td>ns8</td>\n    </tr>\n    <tr>\n      <th>8</th>\n      <td>http://publications.europa.eu/resource/authori...</td>\n      <td>ns9</td>\n    </tr>\n    <tr>\n      <th>9</th>\n      <td>http://eurovoc.europa.eu/</td>\n      <td>ns10</td>\n    </tr>\n    <tr>\n      <th>10</th>\n      <td>http://publications.europa.eu/resource/authori...</td>\n      <td>ns11</td>\n    </tr>\n    <tr>\n      <th>11</th>\n      <td>http://publications.europa.eu/resource/authori...</td>\n      <td>ns12</td>\n    </tr>\n    <tr>\n      <th>12</th>\n      <td>http://id.loc.gov/vocabulary/iso639-1/</td>\n      <td>ns13</td>\n    </tr>\n    <tr>\n      <th>13</th>\n      <td>http://publications.europa.eu/resource/authori...</td>\n      <td>ns14</td>\n    </tr>\n    <tr>\n      <th>14</th>\n      <td>http://publications.europa.eu/ontology/</td>\n      <td>ns15</td>\n    </tr>\n    <tr>\n      <th>15</th>\n      <td>http://publications.europa.eu/resource/authori...</td>\n      <td>ns16</td>\n    </tr>\n  </tbody>\n</table>\n</div>"
     },
     "execution_count": 56,
     "metadata": {},
     "output_type": "execute_result"
    }
   ],
   "source": [
    "new_prefixes_df"
   ],
   "metadata": {
    "collapsed": false,
    "ExecuteTime": {
     "start_time": "2023-04-16T16:28:13.485360Z",
     "end_time": "2023-04-16T16:28:13.507882Z"
    }
   }
  },
  {
   "cell_type": "code",
   "execution_count": 57,
   "outputs": [],
   "source": [
    "new_prefixes_df.to_csv(\"new_prefixes.csv\", index=False)"
   ],
   "metadata": {
    "collapsed": false,
    "ExecuteTime": {
     "start_time": "2023-04-16T16:28:44.049645Z",
     "end_time": "2023-04-16T16:28:44.075185Z"
    }
   }
  },
  {
   "cell_type": "code",
   "execution_count": 33,
   "outputs": [
    {
     "data": {
      "text/plain": "                                         subject_base  \\\n0   http://publications.europa.eu/resource/authori...   \n1   http://publications.europa.eu/resource/authori...   \n2   http://publications.europa.eu/resource/authori...   \n3   http://publications.europa.eu/resource/authori...   \n4   http://publications.europa.eu/resource/authori...   \n5   http://publications.europa.eu/resource/authori...   \n6   http://publications.europa.eu/resource/authori...   \n7   http://publications.europa.eu/resource/authori...   \n8   http://publications.europa.eu/resource/authori...   \n9   http://publications.europa.eu/resource/authori...   \n10  http://publications.europa.eu/resource/authori...   \n11  http://publications.europa.eu/resource/authori...   \n12  http://publications.europa.eu/resource/authori...   \n13  http://publications.europa.eu/resource/authori...   \n14  http://publications.europa.eu/resource/authori...   \n15  http://publications.europa.eu/resource/authori...   \n16  http://publications.europa.eu/resource/authori...   \n17  http://publications.europa.eu/resource/authori...   \n18  http://publications.europa.eu/resource/authori...   \n19  http://publications.europa.eu/resource/authori...   \n20  http://publications.europa.eu/resource/authori...   \n21  http://publications.europa.eu/resource/authori...   \n22  http://publications.europa.eu/resource/authori...   \n23  http://publications.europa.eu/resource/authori...   \n24  http://publications.europa.eu/resource/authori...   \n25  http://publications.europa.eu/resource/authori...   \n26  http://publications.europa.eu/resource/authori...   \n27  http://publications.europa.eu/resource/authori...   \n28  http://publications.europa.eu/resource/authori...   \n29  http://publications.europa.eu/resource/authori...   \n30  http://publications.europa.eu/resource/authori...   \n31  http://publications.europa.eu/resource/authori...   \n32  http://publications.europa.eu/resource/authori...   \n33  http://publications.europa.eu/resource/authori...   \n34  http://publications.europa.eu/resource/authori...   \n35  http://publications.europa.eu/resource/authori...   \n36  http://publications.europa.eu/resource/authori...   \n37  http://publications.europa.eu/resource/authori...   \n38  http://publications.europa.eu/resource/authori...   \n39  http://publications.europa.eu/resource/authori...   \n40  http://publications.europa.eu/resource/authori...   \n41  http://publications.europa.eu/resource/authori...   \n42  http://publications.europa.eu/resource/authori...   \n43  http://publications.europa.eu/resource/authori...   \n44  http://publications.europa.eu/resource/authori...   \n45  http://publications.europa.eu/resource/authori...   \n46  http://publications.europa.eu/resource/authori...   \n47  http://publications.europa.eu/resource/authori...   \n48  http://publications.europa.eu/resource/authori...   \n49  http://publications.europa.eu/resource/authori...   \n\n                                       predicate_base       predicate  \\\n0       http://publications.europa.eu/ontology/euvoc#          status   \n1         http://www.w3.org/1999/02/22-rdf-syntax-ns#            type   \n2                           http://purl.org/dc/terms/            type   \n3       http://publications.europa.eu/ontology/euvoc#          status   \n4       http://publications.europa.eu/ontology/euvoc#          status   \n5         http://www.w3.org/1999/02/22-rdf-syntax-ns#            type   \n6                           http://purl.org/dc/terms/            type   \n7         http://www.w3.org/1999/02/22-rdf-syntax-ns#            type   \n8                  http://www.w3.org/2008/05/skos-xl#       prefLabel   \n9       http://publications.europa.eu/ontology/euvoc#          status   \n10                          http://purl.org/dc/terms/            type   \n11                 http://www.w3.org/2008/05/skos-xl#       prefLabel   \n12                          http://purl.org/dc/terms/            type   \n13        http://www.w3.org/1999/02/22-rdf-syntax-ns#            type   \n14                 http://www.w3.org/2008/05/skos-xl#        altLabel   \n15                 http://www.w3.org/2008/05/skos-xl#        altLabel   \n16        http://www.w3.org/1999/02/22-rdf-syntax-ns#            type   \n17        http://www.w3.org/1999/02/22-rdf-syntax-ns#            type   \n18                 http://www.w3.org/2008/05/skos-xl#       prefLabel   \n19      http://publications.europa.eu/ontology/euvoc#          status   \n20        http://www.w3.org/1999/02/22-rdf-syntax-ns#            type   \n21                          http://purl.org/dc/terms/            type   \n22       http://www.lexinfo.net/ontology/2.0/lexinfo#          gender   \n23                      http://lemon-model.net/lemon#         context   \n24                      http://lemon-model.net/lemon#         context   \n25      http://publications.europa.eu/ontology/euvoc#      xlNotation   \n26                          http://purl.org/dc/terms/            type   \n27                 http://www.w3.org/2008/05/skos-xl#       prefLabel   \n28                          http://purl.org/dc/terms/            type   \n29      http://publications.europa.eu/ontology/euvoc#      xlNotation   \n30        http://www.w3.org/1999/02/22-rdf-syntax-ns#            type   \n31  http://publications.europa.eu/ontology/authority/  op-mapped-code   \n32                 http://www.w3.org/2008/05/skos-xl#        altLabel   \n33               http://www.w3.org/2004/02/skos/core#        inScheme   \n34               http://www.w3.org/2004/02/skos/core#    topConceptOf   \n35                          http://purl.org/dc/terms/            type   \n36        http://www.w3.org/1999/02/22-rdf-syntax-ns#            type   \n37                          http://purl.org/dc/terms/            type   \n38                 http://www.w3.org/2008/05/skos-xl#        altLabel   \n39      http://publications.europa.eu/ontology/euvoc#    xlDefinition   \n40        http://www.w3.org/1999/02/22-rdf-syntax-ns#            type   \n41                 http://www.w3.org/2008/05/skos-xl#       prefLabel   \n42                 http://www.w3.org/2008/05/skos-xl#        altLabel   \n43                      http://lemon-model.net/lemon#         context   \n44      http://publications.europa.eu/ontology/euvoc#      xlNotation   \n45                          http://purl.org/dc/terms/            type   \n46        http://www.w3.org/1999/02/22-rdf-syntax-ns#            type   \n47               http://www.w3.org/2004/02/skos/core#    topConceptOf   \n48               http://www.w3.org/2004/02/skos/core#        inScheme   \n49              http://www.opengis.net/ont/geosparql#        sfWithin   \n\n                                          object_base  count      ns_s  \\\n0   http://publications.europa.eu/resource/authori...  65733       cob   \n1                  http://www.w3.org/2008/05/skos-xl#  59401       cob   \n2   http://publications.europa.eu/resource/authori...  59401       cob   \n3   http://publications.europa.eu/resource/authori...  53388     place   \n4   http://publications.europa.eu/resource/authori...  39018   country   \n5                  http://www.w3.org/2008/05/skos-xl#  38410     place   \n6   http://publications.europa.eu/resource/authori...  38409     place   \n7                  http://www.w3.org/2008/05/skos-xl#  37421   country   \n8   http://publications.europa.eu/resource/authori...  34859       cob   \n9   http://publications.europa.eu/resource/authori...  34453  language   \n10  http://publications.europa.eu/resource/authori...  34193   country   \n11  http://publications.europa.eu/resource/authori...  32762     place   \n12  http://publications.europa.eu/resource/authori...  25769  language   \n13                 http://www.w3.org/2008/05/skos-xl#  25769  language   \n14  http://publications.europa.eu/resource/authori...  24542       cob   \n15  http://publications.europa.eu/resource/authori...  24308   country   \n16      http://publications.europa.eu/ontology/euvoc#  22468     place   \n17      http://publications.europa.eu/ontology/euvoc#  18470  language   \n18  http://publications.europa.eu/resource/authori...  17126  language   \n19  http://publications.europa.eu/resource/authori...  15439  currency   \n20                 http://www.w3.org/2008/05/skos-xl#  14682  currency   \n21  http://publications.europa.eu/resource/authori...  14682  currency   \n22  http://publications.europa.eu/resource/authori...  11708   country   \n23  http://publications.europa.eu/resource/authori...  11281   country   \n24  http://publications.europa.eu/resource/authori...  11123     place   \n25  http://publications.europa.eu/resource/authori...  10615     place   \n26  http://publications.europa.eu/resource/authori...  10615     place   \n27  http://publications.europa.eu/resource/authori...   9885   country   \n28  http://publications.europa.eu/resource/authori...   9767  language   \n29  http://publications.europa.eu/resource/authori...   9767  language   \n30  http://publications.europa.eu/ontology/authority/   9767  language   \n31  http://publications.europa.eu/resource/authori...   9767  language   \n32  http://publications.europa.eu/resource/authori...   8643  language   \n33  http://publications.europa.eu/resource/authority/   8178  language   \n34  http://publications.europa.eu/resource/authority/   8178  language   \n35  http://publications.europa.eu/resource/authori...   8178  language   \n36               http://www.w3.org/2004/02/skos/core#   8178  language   \n37  http://publications.europa.eu/resource/authori...   8057     place   \n38  http://publications.europa.eu/resource/authori...   7957  currency   \n39  http://publications.europa.eu/resource/authori...   7430     place   \n40      http://publications.europa.eu/ontology/euvoc#   7136       cob   \n41  http://publications.europa.eu/resource/authori...   6724  currency   \n42  http://publications.europa.eu/resource/authori...   5647     place   \n43  http://publications.europa.eu/resource/authori...   5029       cob   \n44  http://publications.europa.eu/resource/authori...   4826       cob   \n45  http://publications.europa.eu/resource/authori...   4826       cob   \n46               http://www.w3.org/2004/02/skos/core#   4363     place   \n47  http://publications.europa.eu/resource/authority/   4363     place   \n48  http://publications.europa.eu/resource/authority/   4363     place   \n49  http://publications.europa.eu/resource/authori...   4362     place   \n\n       ns_p             ns_o                      p asset_type_s  \\\n0     euvoc              ns3           euvoc:status           at   \n1       rdf              ns1               rdf:type           at   \n2       dct              ns4               dct:type           at   \n3     euvoc              ns3           euvoc:status           at   \n4     euvoc              ns3           euvoc:status           at   \n5       rdf              ns1               rdf:type           at   \n6       dct              ns4               dct:type           at   \n7       rdf              ns1               rdf:type           at   \n8       ns1              cob          ns1:prefLabel           at   \n9     euvoc              ns3           euvoc:status           at   \n10      dct              ns4               dct:type           at   \n11      ns1            place          ns1:prefLabel           at   \n12      dct              ns4               dct:type           at   \n13      rdf              ns1               rdf:type           at   \n14      ns1              cob           ns1:altLabel           at   \n15      ns1          country           ns1:altLabel           at   \n16      rdf            euvoc               rdf:type           at   \n17      rdf            euvoc               rdf:type           at   \n18      ns1         language          ns1:prefLabel           at   \n19    euvoc              ns3           euvoc:status           at   \n20      rdf              ns1               rdf:type           at   \n21      dct              ns4               dct:type           at   \n22  lexinfo              ns5         lexinfo:gender           at   \n23    lemon              ns6          lemon:context           at   \n24    lemon              ns6          lemon:context           at   \n25    euvoc            place       euvoc:xlNotation           at   \n26      dct    notation-type               dct:type           at   \n27      ns1          country          ns1:prefLabel           at   \n28      dct    notation-type               dct:type           at   \n29    euvoc         language       euvoc:xlNotation           at   \n30      rdf           at-ont               rdf:type           at   \n31   at-ont         language  at-ont:op-mapped-code           at   \n32      ns1         language           ns1:altLabel           at   \n33     skos          at-base          skos:inScheme           at   \n34     skos          at-base      skos:topConceptOf           at   \n35      dct  membership-clas               dct:type           at   \n36      rdf             skos               rdf:type           at   \n37      dct  membership-clas               dct:type           at   \n38      ns1         currency           ns1:altLabel           at   \n39    euvoc            place     euvoc:xlDefinition           at   \n40      rdf            euvoc               rdf:type           at   \n41      ns1         currency          ns1:prefLabel           at   \n42      ns1            place           ns1:altLabel           at   \n43    lemon              ns6          lemon:context           at   \n44    euvoc              cob       euvoc:xlNotation           at   \n45      dct    notation-type               dct:type           at   \n46      rdf             skos               rdf:type           at   \n47     skos          at-base      skos:topConceptOf           at   \n48     skos          at-base          skos:inScheme           at   \n49      ns2          country           ns2:sfWithin           at   \n\n     asset_type_p asset_type_o  \n0        ontology      unknown  \n1        language      unknown  \n2        ontology      unknown  \n3        ontology      unknown  \n4        ontology      unknown  \n5        language      unknown  \n6        ontology      unknown  \n7        language      unknown  \n8         unknown           at  \n9        ontology      unknown  \n10       ontology      unknown  \n11        unknown           at  \n12       ontology      unknown  \n13       language      unknown  \n14        unknown           at  \n15        unknown           at  \n16       language     ontology  \n17       language     ontology  \n18        unknown           at  \n19       ontology      unknown  \n20       language      unknown  \n21       ontology      unknown  \n22       ontology      unknown  \n23  lexicon model      unknown  \n24  lexicon model      unknown  \n25       ontology           at  \n26       ontology           at  \n27        unknown           at  \n28       ontology           at  \n29       ontology           at  \n30       language     ontology  \n31       ontology           at  \n32        unknown           at  \n33       ontology           at  \n34       ontology           at  \n35       ontology           at  \n36       language     ontology  \n37       ontology           at  \n38        unknown           at  \n39       ontology           at  \n40       language     ontology  \n41        unknown           at  \n42        unknown           at  \n43  lexicon model      unknown  \n44       ontology           at  \n45       ontology           at  \n46       language     ontology  \n47       ontology           at  \n48       ontology           at  \n49        unknown           at  ",
      "text/html": "<div>\n<style scoped>\n    .dataframe tbody tr th:only-of-type {\n        vertical-align: middle;\n    }\n\n    .dataframe tbody tr th {\n        vertical-align: top;\n    }\n\n    .dataframe thead th {\n        text-align: right;\n    }\n</style>\n<table border=\"1\" class=\"dataframe\">\n  <thead>\n    <tr style=\"text-align: right;\">\n      <th></th>\n      <th>subject_base</th>\n      <th>predicate_base</th>\n      <th>predicate</th>\n      <th>object_base</th>\n      <th>count</th>\n      <th>ns_s</th>\n      <th>ns_p</th>\n      <th>ns_o</th>\n      <th>p</th>\n      <th>asset_type_s</th>\n      <th>asset_type_p</th>\n      <th>asset_type_o</th>\n    </tr>\n  </thead>\n  <tbody>\n    <tr>\n      <th>0</th>\n      <td>http://publications.europa.eu/resource/authori...</td>\n      <td>http://publications.europa.eu/ontology/euvoc#</td>\n      <td>status</td>\n      <td>http://publications.europa.eu/resource/authori...</td>\n      <td>65733</td>\n      <td>cob</td>\n      <td>euvoc</td>\n      <td>ns3</td>\n      <td>euvoc:status</td>\n      <td>at</td>\n      <td>ontology</td>\n      <td>unknown</td>\n    </tr>\n    <tr>\n      <th>1</th>\n      <td>http://publications.europa.eu/resource/authori...</td>\n      <td>http://www.w3.org/1999/02/22-rdf-syntax-ns#</td>\n      <td>type</td>\n      <td>http://www.w3.org/2008/05/skos-xl#</td>\n      <td>59401</td>\n      <td>cob</td>\n      <td>rdf</td>\n      <td>ns1</td>\n      <td>rdf:type</td>\n      <td>at</td>\n      <td>language</td>\n      <td>unknown</td>\n    </tr>\n    <tr>\n      <th>2</th>\n      <td>http://publications.europa.eu/resource/authori...</td>\n      <td>http://purl.org/dc/terms/</td>\n      <td>type</td>\n      <td>http://publications.europa.eu/resource/authori...</td>\n      <td>59401</td>\n      <td>cob</td>\n      <td>dct</td>\n      <td>ns4</td>\n      <td>dct:type</td>\n      <td>at</td>\n      <td>ontology</td>\n      <td>unknown</td>\n    </tr>\n    <tr>\n      <th>3</th>\n      <td>http://publications.europa.eu/resource/authori...</td>\n      <td>http://publications.europa.eu/ontology/euvoc#</td>\n      <td>status</td>\n      <td>http://publications.europa.eu/resource/authori...</td>\n      <td>53388</td>\n      <td>place</td>\n      <td>euvoc</td>\n      <td>ns3</td>\n      <td>euvoc:status</td>\n      <td>at</td>\n      <td>ontology</td>\n      <td>unknown</td>\n    </tr>\n    <tr>\n      <th>4</th>\n      <td>http://publications.europa.eu/resource/authori...</td>\n      <td>http://publications.europa.eu/ontology/euvoc#</td>\n      <td>status</td>\n      <td>http://publications.europa.eu/resource/authori...</td>\n      <td>39018</td>\n      <td>country</td>\n      <td>euvoc</td>\n      <td>ns3</td>\n      <td>euvoc:status</td>\n      <td>at</td>\n      <td>ontology</td>\n      <td>unknown</td>\n    </tr>\n    <tr>\n      <th>5</th>\n      <td>http://publications.europa.eu/resource/authori...</td>\n      <td>http://www.w3.org/1999/02/22-rdf-syntax-ns#</td>\n      <td>type</td>\n      <td>http://www.w3.org/2008/05/skos-xl#</td>\n      <td>38410</td>\n      <td>place</td>\n      <td>rdf</td>\n      <td>ns1</td>\n      <td>rdf:type</td>\n      <td>at</td>\n      <td>language</td>\n      <td>unknown</td>\n    </tr>\n    <tr>\n      <th>6</th>\n      <td>http://publications.europa.eu/resource/authori...</td>\n      <td>http://purl.org/dc/terms/</td>\n      <td>type</td>\n      <td>http://publications.europa.eu/resource/authori...</td>\n      <td>38409</td>\n      <td>place</td>\n      <td>dct</td>\n      <td>ns4</td>\n      <td>dct:type</td>\n      <td>at</td>\n      <td>ontology</td>\n      <td>unknown</td>\n    </tr>\n    <tr>\n      <th>7</th>\n      <td>http://publications.europa.eu/resource/authori...</td>\n      <td>http://www.w3.org/1999/02/22-rdf-syntax-ns#</td>\n      <td>type</td>\n      <td>http://www.w3.org/2008/05/skos-xl#</td>\n      <td>37421</td>\n      <td>country</td>\n      <td>rdf</td>\n      <td>ns1</td>\n      <td>rdf:type</td>\n      <td>at</td>\n      <td>language</td>\n      <td>unknown</td>\n    </tr>\n    <tr>\n      <th>8</th>\n      <td>http://publications.europa.eu/resource/authori...</td>\n      <td>http://www.w3.org/2008/05/skos-xl#</td>\n      <td>prefLabel</td>\n      <td>http://publications.europa.eu/resource/authori...</td>\n      <td>34859</td>\n      <td>cob</td>\n      <td>ns1</td>\n      <td>cob</td>\n      <td>ns1:prefLabel</td>\n      <td>at</td>\n      <td>unknown</td>\n      <td>at</td>\n    </tr>\n    <tr>\n      <th>9</th>\n      <td>http://publications.europa.eu/resource/authori...</td>\n      <td>http://publications.europa.eu/ontology/euvoc#</td>\n      <td>status</td>\n      <td>http://publications.europa.eu/resource/authori...</td>\n      <td>34453</td>\n      <td>language</td>\n      <td>euvoc</td>\n      <td>ns3</td>\n      <td>euvoc:status</td>\n      <td>at</td>\n      <td>ontology</td>\n      <td>unknown</td>\n    </tr>\n    <tr>\n      <th>10</th>\n      <td>http://publications.europa.eu/resource/authori...</td>\n      <td>http://purl.org/dc/terms/</td>\n      <td>type</td>\n      <td>http://publications.europa.eu/resource/authori...</td>\n      <td>34193</td>\n      <td>country</td>\n      <td>dct</td>\n      <td>ns4</td>\n      <td>dct:type</td>\n      <td>at</td>\n      <td>ontology</td>\n      <td>unknown</td>\n    </tr>\n    <tr>\n      <th>11</th>\n      <td>http://publications.europa.eu/resource/authori...</td>\n      <td>http://www.w3.org/2008/05/skos-xl#</td>\n      <td>prefLabel</td>\n      <td>http://publications.europa.eu/resource/authori...</td>\n      <td>32762</td>\n      <td>place</td>\n      <td>ns1</td>\n      <td>place</td>\n      <td>ns1:prefLabel</td>\n      <td>at</td>\n      <td>unknown</td>\n      <td>at</td>\n    </tr>\n    <tr>\n      <th>12</th>\n      <td>http://publications.europa.eu/resource/authori...</td>\n      <td>http://purl.org/dc/terms/</td>\n      <td>type</td>\n      <td>http://publications.europa.eu/resource/authori...</td>\n      <td>25769</td>\n      <td>language</td>\n      <td>dct</td>\n      <td>ns4</td>\n      <td>dct:type</td>\n      <td>at</td>\n      <td>ontology</td>\n      <td>unknown</td>\n    </tr>\n    <tr>\n      <th>13</th>\n      <td>http://publications.europa.eu/resource/authori...</td>\n      <td>http://www.w3.org/1999/02/22-rdf-syntax-ns#</td>\n      <td>type</td>\n      <td>http://www.w3.org/2008/05/skos-xl#</td>\n      <td>25769</td>\n      <td>language</td>\n      <td>rdf</td>\n      <td>ns1</td>\n      <td>rdf:type</td>\n      <td>at</td>\n      <td>language</td>\n      <td>unknown</td>\n    </tr>\n    <tr>\n      <th>14</th>\n      <td>http://publications.europa.eu/resource/authori...</td>\n      <td>http://www.w3.org/2008/05/skos-xl#</td>\n      <td>altLabel</td>\n      <td>http://publications.europa.eu/resource/authori...</td>\n      <td>24542</td>\n      <td>cob</td>\n      <td>ns1</td>\n      <td>cob</td>\n      <td>ns1:altLabel</td>\n      <td>at</td>\n      <td>unknown</td>\n      <td>at</td>\n    </tr>\n    <tr>\n      <th>15</th>\n      <td>http://publications.europa.eu/resource/authori...</td>\n      <td>http://www.w3.org/2008/05/skos-xl#</td>\n      <td>altLabel</td>\n      <td>http://publications.europa.eu/resource/authori...</td>\n      <td>24308</td>\n      <td>country</td>\n      <td>ns1</td>\n      <td>country</td>\n      <td>ns1:altLabel</td>\n      <td>at</td>\n      <td>unknown</td>\n      <td>at</td>\n    </tr>\n    <tr>\n      <th>16</th>\n      <td>http://publications.europa.eu/resource/authori...</td>\n      <td>http://www.w3.org/1999/02/22-rdf-syntax-ns#</td>\n      <td>type</td>\n      <td>http://publications.europa.eu/ontology/euvoc#</td>\n      <td>22468</td>\n      <td>place</td>\n      <td>rdf</td>\n      <td>euvoc</td>\n      <td>rdf:type</td>\n      <td>at</td>\n      <td>language</td>\n      <td>ontology</td>\n    </tr>\n    <tr>\n      <th>17</th>\n      <td>http://publications.europa.eu/resource/authori...</td>\n      <td>http://www.w3.org/1999/02/22-rdf-syntax-ns#</td>\n      <td>type</td>\n      <td>http://publications.europa.eu/ontology/euvoc#</td>\n      <td>18470</td>\n      <td>language</td>\n      <td>rdf</td>\n      <td>euvoc</td>\n      <td>rdf:type</td>\n      <td>at</td>\n      <td>language</td>\n      <td>ontology</td>\n    </tr>\n    <tr>\n      <th>18</th>\n      <td>http://publications.europa.eu/resource/authori...</td>\n      <td>http://www.w3.org/2008/05/skos-xl#</td>\n      <td>prefLabel</td>\n      <td>http://publications.europa.eu/resource/authori...</td>\n      <td>17126</td>\n      <td>language</td>\n      <td>ns1</td>\n      <td>language</td>\n      <td>ns1:prefLabel</td>\n      <td>at</td>\n      <td>unknown</td>\n      <td>at</td>\n    </tr>\n    <tr>\n      <th>19</th>\n      <td>http://publications.europa.eu/resource/authori...</td>\n      <td>http://publications.europa.eu/ontology/euvoc#</td>\n      <td>status</td>\n      <td>http://publications.europa.eu/resource/authori...</td>\n      <td>15439</td>\n      <td>currency</td>\n      <td>euvoc</td>\n      <td>ns3</td>\n      <td>euvoc:status</td>\n      <td>at</td>\n      <td>ontology</td>\n      <td>unknown</td>\n    </tr>\n    <tr>\n      <th>20</th>\n      <td>http://publications.europa.eu/resource/authori...</td>\n      <td>http://www.w3.org/1999/02/22-rdf-syntax-ns#</td>\n      <td>type</td>\n      <td>http://www.w3.org/2008/05/skos-xl#</td>\n      <td>14682</td>\n      <td>currency</td>\n      <td>rdf</td>\n      <td>ns1</td>\n      <td>rdf:type</td>\n      <td>at</td>\n      <td>language</td>\n      <td>unknown</td>\n    </tr>\n    <tr>\n      <th>21</th>\n      <td>http://publications.europa.eu/resource/authori...</td>\n      <td>http://purl.org/dc/terms/</td>\n      <td>type</td>\n      <td>http://publications.europa.eu/resource/authori...</td>\n      <td>14682</td>\n      <td>currency</td>\n      <td>dct</td>\n      <td>ns4</td>\n      <td>dct:type</td>\n      <td>at</td>\n      <td>ontology</td>\n      <td>unknown</td>\n    </tr>\n    <tr>\n      <th>22</th>\n      <td>http://publications.europa.eu/resource/authori...</td>\n      <td>http://www.lexinfo.net/ontology/2.0/lexinfo#</td>\n      <td>gender</td>\n      <td>http://publications.europa.eu/resource/authori...</td>\n      <td>11708</td>\n      <td>country</td>\n      <td>lexinfo</td>\n      <td>ns5</td>\n      <td>lexinfo:gender</td>\n      <td>at</td>\n      <td>ontology</td>\n      <td>unknown</td>\n    </tr>\n    <tr>\n      <th>23</th>\n      <td>http://publications.europa.eu/resource/authori...</td>\n      <td>http://lemon-model.net/lemon#</td>\n      <td>context</td>\n      <td>http://publications.europa.eu/resource/authori...</td>\n      <td>11281</td>\n      <td>country</td>\n      <td>lemon</td>\n      <td>ns6</td>\n      <td>lemon:context</td>\n      <td>at</td>\n      <td>lexicon model</td>\n      <td>unknown</td>\n    </tr>\n    <tr>\n      <th>24</th>\n      <td>http://publications.europa.eu/resource/authori...</td>\n      <td>http://lemon-model.net/lemon#</td>\n      <td>context</td>\n      <td>http://publications.europa.eu/resource/authori...</td>\n      <td>11123</td>\n      <td>place</td>\n      <td>lemon</td>\n      <td>ns6</td>\n      <td>lemon:context</td>\n      <td>at</td>\n      <td>lexicon model</td>\n      <td>unknown</td>\n    </tr>\n    <tr>\n      <th>25</th>\n      <td>http://publications.europa.eu/resource/authori...</td>\n      <td>http://publications.europa.eu/ontology/euvoc#</td>\n      <td>xlNotation</td>\n      <td>http://publications.europa.eu/resource/authori...</td>\n      <td>10615</td>\n      <td>place</td>\n      <td>euvoc</td>\n      <td>place</td>\n      <td>euvoc:xlNotation</td>\n      <td>at</td>\n      <td>ontology</td>\n      <td>at</td>\n    </tr>\n    <tr>\n      <th>26</th>\n      <td>http://publications.europa.eu/resource/authori...</td>\n      <td>http://purl.org/dc/terms/</td>\n      <td>type</td>\n      <td>http://publications.europa.eu/resource/authori...</td>\n      <td>10615</td>\n      <td>place</td>\n      <td>dct</td>\n      <td>notation-type</td>\n      <td>dct:type</td>\n      <td>at</td>\n      <td>ontology</td>\n      <td>at</td>\n    </tr>\n    <tr>\n      <th>27</th>\n      <td>http://publications.europa.eu/resource/authori...</td>\n      <td>http://www.w3.org/2008/05/skos-xl#</td>\n      <td>prefLabel</td>\n      <td>http://publications.europa.eu/resource/authori...</td>\n      <td>9885</td>\n      <td>country</td>\n      <td>ns1</td>\n      <td>country</td>\n      <td>ns1:prefLabel</td>\n      <td>at</td>\n      <td>unknown</td>\n      <td>at</td>\n    </tr>\n    <tr>\n      <th>28</th>\n      <td>http://publications.europa.eu/resource/authori...</td>\n      <td>http://purl.org/dc/terms/</td>\n      <td>type</td>\n      <td>http://publications.europa.eu/resource/authori...</td>\n      <td>9767</td>\n      <td>language</td>\n      <td>dct</td>\n      <td>notation-type</td>\n      <td>dct:type</td>\n      <td>at</td>\n      <td>ontology</td>\n      <td>at</td>\n    </tr>\n    <tr>\n      <th>29</th>\n      <td>http://publications.europa.eu/resource/authori...</td>\n      <td>http://publications.europa.eu/ontology/euvoc#</td>\n      <td>xlNotation</td>\n      <td>http://publications.europa.eu/resource/authori...</td>\n      <td>9767</td>\n      <td>language</td>\n      <td>euvoc</td>\n      <td>language</td>\n      <td>euvoc:xlNotation</td>\n      <td>at</td>\n      <td>ontology</td>\n      <td>at</td>\n    </tr>\n    <tr>\n      <th>30</th>\n      <td>http://publications.europa.eu/resource/authori...</td>\n      <td>http://www.w3.org/1999/02/22-rdf-syntax-ns#</td>\n      <td>type</td>\n      <td>http://publications.europa.eu/ontology/authority/</td>\n      <td>9767</td>\n      <td>language</td>\n      <td>rdf</td>\n      <td>at-ont</td>\n      <td>rdf:type</td>\n      <td>at</td>\n      <td>language</td>\n      <td>ontology</td>\n    </tr>\n    <tr>\n      <th>31</th>\n      <td>http://publications.europa.eu/resource/authori...</td>\n      <td>http://publications.europa.eu/ontology/authority/</td>\n      <td>op-mapped-code</td>\n      <td>http://publications.europa.eu/resource/authori...</td>\n      <td>9767</td>\n      <td>language</td>\n      <td>at-ont</td>\n      <td>language</td>\n      <td>at-ont:op-mapped-code</td>\n      <td>at</td>\n      <td>ontology</td>\n      <td>at</td>\n    </tr>\n    <tr>\n      <th>32</th>\n      <td>http://publications.europa.eu/resource/authori...</td>\n      <td>http://www.w3.org/2008/05/skos-xl#</td>\n      <td>altLabel</td>\n      <td>http://publications.europa.eu/resource/authori...</td>\n      <td>8643</td>\n      <td>language</td>\n      <td>ns1</td>\n      <td>language</td>\n      <td>ns1:altLabel</td>\n      <td>at</td>\n      <td>unknown</td>\n      <td>at</td>\n    </tr>\n    <tr>\n      <th>33</th>\n      <td>http://publications.europa.eu/resource/authori...</td>\n      <td>http://www.w3.org/2004/02/skos/core#</td>\n      <td>inScheme</td>\n      <td>http://publications.europa.eu/resource/authority/</td>\n      <td>8178</td>\n      <td>language</td>\n      <td>skos</td>\n      <td>at-base</td>\n      <td>skos:inScheme</td>\n      <td>at</td>\n      <td>ontology</td>\n      <td>at</td>\n    </tr>\n    <tr>\n      <th>34</th>\n      <td>http://publications.europa.eu/resource/authori...</td>\n      <td>http://www.w3.org/2004/02/skos/core#</td>\n      <td>topConceptOf</td>\n      <td>http://publications.europa.eu/resource/authority/</td>\n      <td>8178</td>\n      <td>language</td>\n      <td>skos</td>\n      <td>at-base</td>\n      <td>skos:topConceptOf</td>\n      <td>at</td>\n      <td>ontology</td>\n      <td>at</td>\n    </tr>\n    <tr>\n      <th>35</th>\n      <td>http://publications.europa.eu/resource/authori...</td>\n      <td>http://purl.org/dc/terms/</td>\n      <td>type</td>\n      <td>http://publications.europa.eu/resource/authori...</td>\n      <td>8178</td>\n      <td>language</td>\n      <td>dct</td>\n      <td>membership-clas</td>\n      <td>dct:type</td>\n      <td>at</td>\n      <td>ontology</td>\n      <td>at</td>\n    </tr>\n    <tr>\n      <th>36</th>\n      <td>http://publications.europa.eu/resource/authori...</td>\n      <td>http://www.w3.org/1999/02/22-rdf-syntax-ns#</td>\n      <td>type</td>\n      <td>http://www.w3.org/2004/02/skos/core#</td>\n      <td>8178</td>\n      <td>language</td>\n      <td>rdf</td>\n      <td>skos</td>\n      <td>rdf:type</td>\n      <td>at</td>\n      <td>language</td>\n      <td>ontology</td>\n    </tr>\n    <tr>\n      <th>37</th>\n      <td>http://publications.europa.eu/resource/authori...</td>\n      <td>http://purl.org/dc/terms/</td>\n      <td>type</td>\n      <td>http://publications.europa.eu/resource/authori...</td>\n      <td>8057</td>\n      <td>place</td>\n      <td>dct</td>\n      <td>membership-clas</td>\n      <td>dct:type</td>\n      <td>at</td>\n      <td>ontology</td>\n      <td>at</td>\n    </tr>\n    <tr>\n      <th>38</th>\n      <td>http://publications.europa.eu/resource/authori...</td>\n      <td>http://www.w3.org/2008/05/skos-xl#</td>\n      <td>altLabel</td>\n      <td>http://publications.europa.eu/resource/authori...</td>\n      <td>7957</td>\n      <td>currency</td>\n      <td>ns1</td>\n      <td>currency</td>\n      <td>ns1:altLabel</td>\n      <td>at</td>\n      <td>unknown</td>\n      <td>at</td>\n    </tr>\n    <tr>\n      <th>39</th>\n      <td>http://publications.europa.eu/resource/authori...</td>\n      <td>http://publications.europa.eu/ontology/euvoc#</td>\n      <td>xlDefinition</td>\n      <td>http://publications.europa.eu/resource/authori...</td>\n      <td>7430</td>\n      <td>place</td>\n      <td>euvoc</td>\n      <td>place</td>\n      <td>euvoc:xlDefinition</td>\n      <td>at</td>\n      <td>ontology</td>\n      <td>at</td>\n    </tr>\n    <tr>\n      <th>40</th>\n      <td>http://publications.europa.eu/resource/authori...</td>\n      <td>http://www.w3.org/1999/02/22-rdf-syntax-ns#</td>\n      <td>type</td>\n      <td>http://publications.europa.eu/ontology/euvoc#</td>\n      <td>7136</td>\n      <td>cob</td>\n      <td>rdf</td>\n      <td>euvoc</td>\n      <td>rdf:type</td>\n      <td>at</td>\n      <td>language</td>\n      <td>ontology</td>\n    </tr>\n    <tr>\n      <th>41</th>\n      <td>http://publications.europa.eu/resource/authori...</td>\n      <td>http://www.w3.org/2008/05/skos-xl#</td>\n      <td>prefLabel</td>\n      <td>http://publications.europa.eu/resource/authori...</td>\n      <td>6724</td>\n      <td>currency</td>\n      <td>ns1</td>\n      <td>currency</td>\n      <td>ns1:prefLabel</td>\n      <td>at</td>\n      <td>unknown</td>\n      <td>at</td>\n    </tr>\n    <tr>\n      <th>42</th>\n      <td>http://publications.europa.eu/resource/authori...</td>\n      <td>http://www.w3.org/2008/05/skos-xl#</td>\n      <td>altLabel</td>\n      <td>http://publications.europa.eu/resource/authori...</td>\n      <td>5647</td>\n      <td>place</td>\n      <td>ns1</td>\n      <td>place</td>\n      <td>ns1:altLabel</td>\n      <td>at</td>\n      <td>unknown</td>\n      <td>at</td>\n    </tr>\n    <tr>\n      <th>43</th>\n      <td>http://publications.europa.eu/resource/authori...</td>\n      <td>http://lemon-model.net/lemon#</td>\n      <td>context</td>\n      <td>http://publications.europa.eu/resource/authori...</td>\n      <td>5029</td>\n      <td>cob</td>\n      <td>lemon</td>\n      <td>ns6</td>\n      <td>lemon:context</td>\n      <td>at</td>\n      <td>lexicon model</td>\n      <td>unknown</td>\n    </tr>\n    <tr>\n      <th>44</th>\n      <td>http://publications.europa.eu/resource/authori...</td>\n      <td>http://publications.europa.eu/ontology/euvoc#</td>\n      <td>xlNotation</td>\n      <td>http://publications.europa.eu/resource/authori...</td>\n      <td>4826</td>\n      <td>cob</td>\n      <td>euvoc</td>\n      <td>cob</td>\n      <td>euvoc:xlNotation</td>\n      <td>at</td>\n      <td>ontology</td>\n      <td>at</td>\n    </tr>\n    <tr>\n      <th>45</th>\n      <td>http://publications.europa.eu/resource/authori...</td>\n      <td>http://purl.org/dc/terms/</td>\n      <td>type</td>\n      <td>http://publications.europa.eu/resource/authori...</td>\n      <td>4826</td>\n      <td>cob</td>\n      <td>dct</td>\n      <td>notation-type</td>\n      <td>dct:type</td>\n      <td>at</td>\n      <td>ontology</td>\n      <td>at</td>\n    </tr>\n    <tr>\n      <th>46</th>\n      <td>http://publications.europa.eu/resource/authori...</td>\n      <td>http://www.w3.org/1999/02/22-rdf-syntax-ns#</td>\n      <td>type</td>\n      <td>http://www.w3.org/2004/02/skos/core#</td>\n      <td>4363</td>\n      <td>place</td>\n      <td>rdf</td>\n      <td>skos</td>\n      <td>rdf:type</td>\n      <td>at</td>\n      <td>language</td>\n      <td>ontology</td>\n    </tr>\n    <tr>\n      <th>47</th>\n      <td>http://publications.europa.eu/resource/authori...</td>\n      <td>http://www.w3.org/2004/02/skos/core#</td>\n      <td>topConceptOf</td>\n      <td>http://publications.europa.eu/resource/authority/</td>\n      <td>4363</td>\n      <td>place</td>\n      <td>skos</td>\n      <td>at-base</td>\n      <td>skos:topConceptOf</td>\n      <td>at</td>\n      <td>ontology</td>\n      <td>at</td>\n    </tr>\n    <tr>\n      <th>48</th>\n      <td>http://publications.europa.eu/resource/authori...</td>\n      <td>http://www.w3.org/2004/02/skos/core#</td>\n      <td>inScheme</td>\n      <td>http://publications.europa.eu/resource/authority/</td>\n      <td>4363</td>\n      <td>place</td>\n      <td>skos</td>\n      <td>at-base</td>\n      <td>skos:inScheme</td>\n      <td>at</td>\n      <td>ontology</td>\n      <td>at</td>\n    </tr>\n    <tr>\n      <th>49</th>\n      <td>http://publications.europa.eu/resource/authori...</td>\n      <td>http://www.opengis.net/ont/geosparql#</td>\n      <td>sfWithin</td>\n      <td>http://publications.europa.eu/resource/authori...</td>\n      <td>4362</td>\n      <td>place</td>\n      <td>ns2</td>\n      <td>country</td>\n      <td>ns2:sfWithin</td>\n      <td>at</td>\n      <td>unknown</td>\n      <td>at</td>\n    </tr>\n  </tbody>\n</table>\n</div>"
     },
     "execution_count": 33,
     "metadata": {},
     "output_type": "execute_result"
    }
   ],
   "source": [
    "df.head(50)"
   ],
   "metadata": {
    "collapsed": false,
    "ExecuteTime": {
     "start_time": "2023-04-16T16:15:41.930807Z",
     "end_time": "2023-04-16T16:15:41.934805Z"
    }
   }
  },
  {
   "cell_type": "code",
   "execution_count": 58,
   "outputs": [],
   "source": [
    "ns_df = df[[\"ns_s\", \"ns_p\",\"p\", \"ns_o\", \"asset_type_s\",\"asset_type_p\", \"asset_type_o\" , \"count\"]]"
   ],
   "metadata": {
    "collapsed": false,
    "ExecuteTime": {
     "start_time": "2023-04-16T16:28:49.183422Z",
     "end_time": "2023-04-16T16:28:49.193546Z"
    }
   }
  },
  {
   "cell_type": "code",
   "execution_count": 59,
   "outputs": [],
   "source": [
    "ns_df.to_csv(\"ns_s_p_o.csv\", index=False)"
   ],
   "metadata": {
    "collapsed": false,
    "ExecuteTime": {
     "start_time": "2023-04-16T16:28:50.644087Z",
     "end_time": "2023-04-16T16:28:50.654086Z"
    }
   }
  },
  {
   "cell_type": "code",
   "execution_count": 60,
   "outputs": [],
   "source": [
    "ns_sp = ns_df[[\"ns_s\", \"ns_p\", \"count\"]]\n",
    "ns_so = ns_df[[\"ns_s\", \"ns_o\", \"count\"]]\n",
    "ns_sp.columns = [\"source\", \"target\", \"count\"]\n",
    "ns_so.columns = [\"source\", \"target\", \"count\"]"
   ],
   "metadata": {
    "collapsed": false,
    "ExecuteTime": {
     "start_time": "2023-04-16T16:28:51.883966Z",
     "end_time": "2023-04-16T16:28:51.894961Z"
    }
   }
  },
  {
   "cell_type": "code",
   "execution_count": 61,
   "outputs": [],
   "source": [
    "ns_sp_so = pd.concat([ns_sp, ns_so])\n",
    "ns_sp_so = ns_sp_so.groupby(by=[\"source\", \"target\"]).sum(numeric_only=True).reset_index()"
   ],
   "metadata": {
    "collapsed": false,
    "ExecuteTime": {
     "start_time": "2023-04-16T16:28:53.783513Z",
     "end_time": "2023-04-16T16:28:53.792511Z"
    }
   }
  },
  {
   "cell_type": "code",
   "execution_count": 62,
   "outputs": [],
   "source": [
    "ns_sp_so.to_csv(\"ns_sp_so.csv\", index=False)"
   ],
   "metadata": {
    "collapsed": false,
    "ExecuteTime": {
     "start_time": "2023-04-16T16:28:55.294543Z",
     "end_time": "2023-04-16T16:28:55.305144Z"
    }
   }
  },
  {
   "cell_type": "code",
   "execution_count": 63,
   "outputs": [],
   "source": [
    "import networkx as nx"
   ],
   "metadata": {
    "collapsed": false,
    "ExecuteTime": {
     "start_time": "2023-04-16T16:28:56.993769Z",
     "end_time": "2023-04-16T16:28:57.006508Z"
    }
   }
  },
  {
   "cell_type": "code",
   "execution_count": 64,
   "outputs": [],
   "source": [
    "net_df = ns_sp_so.copy()"
   ],
   "metadata": {
    "collapsed": false,
    "ExecuteTime": {
     "start_time": "2023-04-16T16:28:57.969298Z",
     "end_time": "2023-04-16T16:28:57.979320Z"
    }
   }
  },
  {
   "cell_type": "code",
   "execution_count": 65,
   "outputs": [],
   "source": [
    "net_df[\"weight\"] = net_df[\"count\"].apply(lambda x: x / net_df[\"count\"].mean())"
   ],
   "metadata": {
    "collapsed": false,
    "ExecuteTime": {
     "start_time": "2023-04-16T16:28:59.164082Z",
     "end_time": "2023-04-16T16:28:59.180742Z"
    }
   }
  },
  {
   "cell_type": "code",
   "execution_count": 66,
   "outputs": [
    {
     "data": {
      "text/plain": "      source    target  count    weight\n0    at-base   at-base      4  0.000335\n1    at-base       cob      1  0.000084\n2    at-base  cob-clas      2  0.000168\n3    at-base   country      1  0.000084\n4    at-base  currency      2  0.000168\n..       ...       ...    ...       ...\n168     site       rdf   3455  0.289421\n169     site      site   2262  0.189485\n170     site      skos   1212  0.101528\n171     site     skoxl   1584  0.132690\n172     site     vcard    849  0.071120\n\n[173 rows x 4 columns]",
      "text/html": "<div>\n<style scoped>\n    .dataframe tbody tr th:only-of-type {\n        vertical-align: middle;\n    }\n\n    .dataframe tbody tr th {\n        vertical-align: top;\n    }\n\n    .dataframe thead th {\n        text-align: right;\n    }\n</style>\n<table border=\"1\" class=\"dataframe\">\n  <thead>\n    <tr style=\"text-align: right;\">\n      <th></th>\n      <th>source</th>\n      <th>target</th>\n      <th>count</th>\n      <th>weight</th>\n    </tr>\n  </thead>\n  <tbody>\n    <tr>\n      <th>0</th>\n      <td>at-base</td>\n      <td>at-base</td>\n      <td>4</td>\n      <td>0.000335</td>\n    </tr>\n    <tr>\n      <th>1</th>\n      <td>at-base</td>\n      <td>cob</td>\n      <td>1</td>\n      <td>0.000084</td>\n    </tr>\n    <tr>\n      <th>2</th>\n      <td>at-base</td>\n      <td>cob-clas</td>\n      <td>2</td>\n      <td>0.000168</td>\n    </tr>\n    <tr>\n      <th>3</th>\n      <td>at-base</td>\n      <td>country</td>\n      <td>1</td>\n      <td>0.000084</td>\n    </tr>\n    <tr>\n      <th>4</th>\n      <td>at-base</td>\n      <td>currency</td>\n      <td>2</td>\n      <td>0.000168</td>\n    </tr>\n    <tr>\n      <th>...</th>\n      <td>...</td>\n      <td>...</td>\n      <td>...</td>\n      <td>...</td>\n    </tr>\n    <tr>\n      <th>168</th>\n      <td>site</td>\n      <td>rdf</td>\n      <td>3455</td>\n      <td>0.289421</td>\n    </tr>\n    <tr>\n      <th>169</th>\n      <td>site</td>\n      <td>site</td>\n      <td>2262</td>\n      <td>0.189485</td>\n    </tr>\n    <tr>\n      <th>170</th>\n      <td>site</td>\n      <td>skos</td>\n      <td>1212</td>\n      <td>0.101528</td>\n    </tr>\n    <tr>\n      <th>171</th>\n      <td>site</td>\n      <td>skoxl</td>\n      <td>1584</td>\n      <td>0.132690</td>\n    </tr>\n    <tr>\n      <th>172</th>\n      <td>site</td>\n      <td>vcard</td>\n      <td>849</td>\n      <td>0.071120</td>\n    </tr>\n  </tbody>\n</table>\n<p>173 rows × 4 columns</p>\n</div>"
     },
     "execution_count": 66,
     "metadata": {},
     "output_type": "execute_result"
    }
   ],
   "source": [
    "net_df"
   ],
   "metadata": {
    "collapsed": false,
    "ExecuteTime": {
     "start_time": "2023-04-16T16:29:01.282376Z",
     "end_time": "2023-04-16T16:29:01.307475Z"
    }
   }
  },
  {
   "cell_type": "code",
   "execution_count": 67,
   "outputs": [],
   "source": [
    "graph = nx.from_pandas_edgelist(net_df, source=\"source\", target=\"target\", edge_attr=\"weight\", create_using=nx.DiGraph)"
   ],
   "metadata": {
    "collapsed": false,
    "ExecuteTime": {
     "start_time": "2023-04-16T16:29:03.240329Z",
     "end_time": "2023-04-16T16:29:03.245325Z"
    }
   }
  },
  {
   "cell_type": "code",
   "execution_count": 68,
   "outputs": [],
   "source": [
    "from pyvis.network import Network\n",
    "net = Network('1000px', '100%', directed =True, notebook=True, cdn_resources=\"remote\", neighborhood_highlight=True)\n",
    "net.from_nx(graph)\n",
    "net.toggle_physics(False)\n",
    "frame = net.write_html(\"result_graph.html\", notebook=True)"
   ],
   "metadata": {
    "collapsed": false,
    "ExecuteTime": {
     "start_time": "2023-04-16T16:29:04.544474Z",
     "end_time": "2023-04-16T16:29:04.559557Z"
    }
   }
  }
 ],
 "metadata": {
  "kernelspec": {
   "display_name": "Python 3",
   "language": "python",
   "name": "python3"
  },
  "language_info": {
   "codemirror_mode": {
    "name": "ipython",
    "version": 2
   },
   "file_extension": ".py",
   "mimetype": "text/x-python",
   "name": "python",
   "nbconvert_exporter": "python",
   "pygments_lexer": "ipython2",
   "version": "2.7.6"
  }
 },
 "nbformat": 4,
 "nbformat_minor": 0
}
