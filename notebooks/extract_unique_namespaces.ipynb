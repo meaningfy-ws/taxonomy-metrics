{
 "cells": [
  {
   "cell_type": "code",
   "execution_count": 1,
   "metadata": {
    "collapsed": true,
    "ExecuteTime": {
     "end_time": "2023-05-23T12:09:11.664340Z",
     "start_time": "2023-05-23T12:09:10.896406Z"
    }
   },
   "outputs": [],
   "source": [
    "import pandas as pd\n",
    "import rdflib\n",
    "from notebooks.resources.input_data import AUTHORITY_TABLES_DIR_PATH, PREFIX_DEFINITION_FILE_PATH"
   ]
  },
  {
   "cell_type": "code",
   "execution_count": 2,
   "outputs": [],
   "source": [
    "input_data_files = [file_path for file_path in AUTHORITY_TABLES_DIR_PATH.iterdir() if\n",
    "                    file_path.is_file() and file_path.suffix == \".rdf\"]"
   ],
   "metadata": {
    "collapsed": false,
    "ExecuteTime": {
     "end_time": "2023-05-23T12:09:11.666666Z",
     "start_time": "2023-05-23T12:09:11.665127Z"
    }
   }
  },
  {
   "cell_type": "code",
   "execution_count": 3,
   "outputs": [],
   "source": [
    "# read rdf graph from all files from input_data_files\n",
    "g = rdflib.Graph()\n",
    "for file_path in input_data_files:\n",
    "    g.parse(str(file_path), format=\"xml\")"
   ],
   "metadata": {
    "collapsed": false,
    "ExecuteTime": {
     "end_time": "2023-05-23T12:10:22.916393Z",
     "start_time": "2023-05-23T12:09:11.667627Z"
    }
   }
  },
  {
   "cell_type": "code",
   "execution_count": 4,
   "outputs": [],
   "source": [
    "def extract_namespace_from_uri(uri):\n",
    "    if uri.startswith(\"http\"):\n",
    "        counter = 0\n",
    "        for char in uri[::-1]:\n",
    "            if char == \"/\" or char == \"#\":\n",
    "                return uri[:-counter] if counter else str(uri)\n",
    "            counter += 1\n",
    "    return \"unknown_namespace\""
   ],
   "metadata": {
    "collapsed": false,
    "ExecuteTime": {
     "end_time": "2023-05-23T12:10:22.918694Z",
     "start_time": "2023-05-23T12:10:22.915634Z"
    }
   }
  },
  {
   "cell_type": "code",
   "execution_count": 5,
   "outputs": [],
   "source": [
    "def filter_blank_nodes_and_literals(triples):\n",
    "    for s, p, o in triples:\n",
    "        if not isinstance(o, rdflib.term.Literal) and not isinstance(o, rdflib.term.BNode) and not isinstance(s, rdflib.term.BNode):\n",
    "            yield s, p, o"
   ],
   "metadata": {
    "collapsed": false,
    "ExecuteTime": {
     "end_time": "2023-05-23T12:10:22.921549Z",
     "start_time": "2023-05-23T12:10:22.920429Z"
    }
   }
  },
  {
   "cell_type": "code",
   "execution_count": 6,
   "outputs": [],
   "source": [
    "def filter_literals(triples):\n",
    "    for s, p, o in triples:\n",
    "        if not isinstance(o, rdflib.term.Literal):\n",
    "            yield s, p, o"
   ],
   "metadata": {
    "collapsed": false,
    "ExecuteTime": {
     "end_time": "2023-05-23T12:10:22.923493Z",
     "start_time": "2023-05-23T12:10:22.922350Z"
    }
   }
  },
  {
   "cell_type": "code",
   "execution_count": 7,
   "outputs": [],
   "source": [
    "def inject_namespace_to_blank_nodes(input_graph: rdflib.Graph)->rdflib.Graph:\n",
    "    \"\"\"\n",
    "    This function injects the namespace of the subject to the blank nodes in the object position.\n",
    "    \"\"\"\n",
    "    output_graph = rdflib.Graph()\n",
    "    for s, p, o in input_graph:\n",
    "        if isinstance(o, rdflib.term.BNode):\n",
    "            new_object_uri = f\"{extract_namespace_from_uri(s)}{o}\"\n",
    "            for so, po, oo in input_graph.triples(triple=(o, None, None)):\n",
    "                output_graph.remove((so, po, oo))\n",
    "                output_graph.add((rdflib.term.URIRef(new_object_uri), po, oo))\n",
    "            output_graph.remove((s, p, o))\n",
    "            output_graph.add((s, p, rdflib.term.URIRef(new_object_uri)))\n",
    "        else:\n",
    "            output_graph.add((s, p, o))\n",
    "    return output_graph"
   ],
   "metadata": {
    "collapsed": false,
    "ExecuteTime": {
     "end_time": "2023-05-23T12:10:22.926634Z",
     "start_time": "2023-05-23T12:10:22.925368Z"
    }
   }
  },
  {
   "cell_type": "code",
   "execution_count": 8,
   "outputs": [],
   "source": [
    "g = inject_namespace_to_blank_nodes(g)"
   ],
   "metadata": {
    "collapsed": false,
    "ExecuteTime": {
     "end_time": "2023-05-23T12:11:05.463161Z",
     "start_time": "2023-05-23T12:10:23.370589Z"
    }
   }
  },
  {
   "cell_type": "code",
   "execution_count": 9,
   "outputs": [],
   "source": [
    "remove_predicates = {\"hasTelephone\", \"hasAddress\",\"homepage\",\"hasEmail\"}"
   ],
   "metadata": {
    "collapsed": false,
    "ExecuteTime": {
     "end_time": "2023-05-23T12:11:05.464828Z",
     "start_time": "2023-05-23T12:11:05.459752Z"
    }
   }
  },
  {
   "cell_type": "code",
   "execution_count": 10,
   "outputs": [],
   "source": [
    "results = []\n",
    "unique_namespaces = set()\n",
    "for s, p, o in filter_blank_nodes_and_literals(g):\n",
    "    namespace_s = extract_namespace_from_uri(s)\n",
    "    namespace_p = extract_namespace_from_uri(p)\n",
    "    namespace_o = extract_namespace_from_uri(o)\n",
    "    predicate = p.split(\"#\")[-1] if \"#\" in p else p.split(\"/\")[-1]\n",
    "    if predicate in remove_predicates:\n",
    "        continue\n",
    "    unique_namespaces.add(namespace_s)\n",
    "    unique_namespaces.add(namespace_p)\n",
    "    unique_namespaces.add(namespace_o)\n",
    "    results.append((namespace_s, namespace_p, predicate, namespace_o))"
   ],
   "metadata": {
    "collapsed": false,
    "ExecuteTime": {
     "end_time": "2023-05-23T12:11:12.118082Z",
     "start_time": "2023-05-23T12:11:05.464742Z"
    }
   }
  },
  {
   "cell_type": "code",
   "execution_count": 11,
   "outputs": [
    {
     "data": {
      "text/plain": "40"
     },
     "execution_count": 11,
     "metadata": {},
     "output_type": "execute_result"
    }
   ],
   "source": [
    "len(unique_namespaces)"
   ],
   "metadata": {
    "collapsed": false,
    "ExecuteTime": {
     "end_time": "2023-05-23T12:11:12.120015Z",
     "start_time": "2023-05-23T12:11:12.110385Z"
    }
   }
  },
  {
   "cell_type": "code",
   "execution_count": 12,
   "outputs": [],
   "source": [
    "pd.DataFrame(unique_namespaces, columns=[\"namespace\"]).to_csv(\"unique_namespaces.csv\", index=False)"
   ],
   "metadata": {
    "collapsed": false,
    "ExecuteTime": {
     "end_time": "2023-05-23T12:11:12.140903Z",
     "start_time": "2023-05-23T12:11:12.117104Z"
    }
   }
  },
  {
   "cell_type": "code",
   "execution_count": 13,
   "outputs": [],
   "source": [
    "tmp_df = pd.DataFrame(pd.Series(results).value_counts().reset_index())\n",
    "tmp_df.columns = [\"results\", \"count\"]\n",
    "tmp_df[\"subject_base\"] = tmp_df[\"results\"].apply(lambda x: x[0])\n",
    "tmp_df[\"predicate_base\"] = tmp_df[\"results\"].apply(lambda x: x[1])\n",
    "tmp_df[\"predicate\"] = tmp_df[\"results\"].apply(lambda x: x[2])\n",
    "tmp_df[\"object_base\"] = tmp_df[\"results\"].apply(lambda x: x[3])\n",
    "df = tmp_df[[\"subject_base\", \"predicate_base\",\"predicate\", \"object_base\", \"count\"]]"
   ],
   "metadata": {
    "collapsed": false,
    "ExecuteTime": {
     "end_time": "2023-05-23T12:11:12.483860Z",
     "start_time": "2023-05-23T12:11:12.181676Z"
    }
   }
  },
  {
   "cell_type": "code",
   "execution_count": 14,
   "outputs": [],
   "source": [
    "prefixes_df = pd.read_csv(PREFIX_DEFINITION_FILE_PATH)"
   ],
   "metadata": {
    "collapsed": false,
    "ExecuteTime": {
     "end_time": "2023-05-23T12:11:12.489492Z",
     "start_time": "2023-05-23T12:11:12.486492Z"
    }
   }
  },
  {
   "cell_type": "code",
   "execution_count": 15,
   "outputs": [
    {
     "data": {
      "text/plain": "                                             base URI           prefix  \\\n0   http://publications.europa.eu/ontology/authority/           at-ont   \n1       http://publications.europa.eu/ontology/euvoc#            euvoc   \n2   http://publications.europa.eu/resource/authority/          at-base   \n3   http://publications.europa.eu/resource/authori...         cob-clas   \n4   http://publications.europa.eu/resource/authori...              cob   \n5   http://publications.europa.eu/resource/authori...          country   \n6   http://publications.europa.eu/resource/authori...         currency   \n7   http://publications.europa.eu/resource/authori...         language   \n8   http://publications.europa.eu/resource/authori...  membership-clas   \n9   http://publications.europa.eu/resource/authori...    notation-type   \n10  http://publications.europa.eu/resource/authori...            place   \n11  http://publications.europa.eu/resource/authori...             site   \n12                   http://purl.org/dc/elements/1.1/               dc   \n13                          http://purl.org/dc/terms/              dct   \n14        http://www.w3.org/1999/02/22-rdf-syntax-ns#              rdf   \n15              http://www.w3.org/2000/01/rdf-schema#             rdfs   \n16                     http://www.w3.org/2002/07/owl#              owl   \n17               http://www.w3.org/2004/02/skos/core#             skos   \n18       http://www.lexinfo.net/ontology/2.0/lexinfo#          lexinfo   \n19              http://www.opengis.net/ont/geosparql#        geosparql   \n20                 http://www.w3.org/2008/05/skos-xl#            skoxl   \n21                      http://lemon-model.net/lemon#            lemon   \n22                          http://www.w3.org/ns/org#              org   \n23           http://www.w3.org/2003/01/geo/wgs84_pos#         geowgs84   \n24                         http://lexvo.org/ontology#            lexvo   \n25                   http://www.w3.org/2006/vcard/ns#            vcard   \n\n                             label           type  \n0         Authority Table (legacy)       ontology  \n1           EU Vocabulary Ontology       ontology  \n2                Base AT namespace             at  \n3   Corporate Body Classification              at  \n4                   Corporate Body             at  \n5                          Country             at  \n6                         Currency             at  \n7                         Language             at  \n8        Membership Classification             at  \n9                    Notation Type             at  \n10                           Place             at  \n11                            Site             at  \n12            Dublin Core Elements       ontology  \n13               Dublin Core Terms       ontology  \n14                             RDF       language  \n15                            RDFS       language  \n16                             OWL       language  \n17                            SKOS       ontology  \n18                         LexInfo       ontology  \n19                       GeoSPARQL       ontology  \n20                         SKOS-XL       language  \n21                           Lemon  lexicon model  \n22                             ORG       ontology  \n23                           WGS84     vocabulary  \n24                       lexvo.org       ontolofy  \n25                           vCard       ontology  ",
      "text/html": "<div>\n<style scoped>\n    .dataframe tbody tr th:only-of-type {\n        vertical-align: middle;\n    }\n\n    .dataframe tbody tr th {\n        vertical-align: top;\n    }\n\n    .dataframe thead th {\n        text-align: right;\n    }\n</style>\n<table border=\"1\" class=\"dataframe\">\n  <thead>\n    <tr style=\"text-align: right;\">\n      <th></th>\n      <th>base URI</th>\n      <th>prefix</th>\n      <th>label</th>\n      <th>type</th>\n    </tr>\n  </thead>\n  <tbody>\n    <tr>\n      <th>0</th>\n      <td>http://publications.europa.eu/ontology/authority/</td>\n      <td>at-ont</td>\n      <td>Authority Table (legacy)</td>\n      <td>ontology</td>\n    </tr>\n    <tr>\n      <th>1</th>\n      <td>http://publications.europa.eu/ontology/euvoc#</td>\n      <td>euvoc</td>\n      <td>EU Vocabulary Ontology</td>\n      <td>ontology</td>\n    </tr>\n    <tr>\n      <th>2</th>\n      <td>http://publications.europa.eu/resource/authority/</td>\n      <td>at-base</td>\n      <td>Base AT namespace</td>\n      <td>at</td>\n    </tr>\n    <tr>\n      <th>3</th>\n      <td>http://publications.europa.eu/resource/authori...</td>\n      <td>cob-clas</td>\n      <td>Corporate Body Classification</td>\n      <td>at</td>\n    </tr>\n    <tr>\n      <th>4</th>\n      <td>http://publications.europa.eu/resource/authori...</td>\n      <td>cob</td>\n      <td>Corporate Body</td>\n      <td>at</td>\n    </tr>\n    <tr>\n      <th>5</th>\n      <td>http://publications.europa.eu/resource/authori...</td>\n      <td>country</td>\n      <td>Country</td>\n      <td>at</td>\n    </tr>\n    <tr>\n      <th>6</th>\n      <td>http://publications.europa.eu/resource/authori...</td>\n      <td>currency</td>\n      <td>Currency</td>\n      <td>at</td>\n    </tr>\n    <tr>\n      <th>7</th>\n      <td>http://publications.europa.eu/resource/authori...</td>\n      <td>language</td>\n      <td>Language</td>\n      <td>at</td>\n    </tr>\n    <tr>\n      <th>8</th>\n      <td>http://publications.europa.eu/resource/authori...</td>\n      <td>membership-clas</td>\n      <td>Membership Classification</td>\n      <td>at</td>\n    </tr>\n    <tr>\n      <th>9</th>\n      <td>http://publications.europa.eu/resource/authori...</td>\n      <td>notation-type</td>\n      <td>Notation Type</td>\n      <td>at</td>\n    </tr>\n    <tr>\n      <th>10</th>\n      <td>http://publications.europa.eu/resource/authori...</td>\n      <td>place</td>\n      <td>Place</td>\n      <td>at</td>\n    </tr>\n    <tr>\n      <th>11</th>\n      <td>http://publications.europa.eu/resource/authori...</td>\n      <td>site</td>\n      <td>Site</td>\n      <td>at</td>\n    </tr>\n    <tr>\n      <th>12</th>\n      <td>http://purl.org/dc/elements/1.1/</td>\n      <td>dc</td>\n      <td>Dublin Core Elements</td>\n      <td>ontology</td>\n    </tr>\n    <tr>\n      <th>13</th>\n      <td>http://purl.org/dc/terms/</td>\n      <td>dct</td>\n      <td>Dublin Core Terms</td>\n      <td>ontology</td>\n    </tr>\n    <tr>\n      <th>14</th>\n      <td>http://www.w3.org/1999/02/22-rdf-syntax-ns#</td>\n      <td>rdf</td>\n      <td>RDF</td>\n      <td>language</td>\n    </tr>\n    <tr>\n      <th>15</th>\n      <td>http://www.w3.org/2000/01/rdf-schema#</td>\n      <td>rdfs</td>\n      <td>RDFS</td>\n      <td>language</td>\n    </tr>\n    <tr>\n      <th>16</th>\n      <td>http://www.w3.org/2002/07/owl#</td>\n      <td>owl</td>\n      <td>OWL</td>\n      <td>language</td>\n    </tr>\n    <tr>\n      <th>17</th>\n      <td>http://www.w3.org/2004/02/skos/core#</td>\n      <td>skos</td>\n      <td>SKOS</td>\n      <td>ontology</td>\n    </tr>\n    <tr>\n      <th>18</th>\n      <td>http://www.lexinfo.net/ontology/2.0/lexinfo#</td>\n      <td>lexinfo</td>\n      <td>LexInfo</td>\n      <td>ontology</td>\n    </tr>\n    <tr>\n      <th>19</th>\n      <td>http://www.opengis.net/ont/geosparql#</td>\n      <td>geosparql</td>\n      <td>GeoSPARQL</td>\n      <td>ontology</td>\n    </tr>\n    <tr>\n      <th>20</th>\n      <td>http://www.w3.org/2008/05/skos-xl#</td>\n      <td>skoxl</td>\n      <td>SKOS-XL</td>\n      <td>language</td>\n    </tr>\n    <tr>\n      <th>21</th>\n      <td>http://lemon-model.net/lemon#</td>\n      <td>lemon</td>\n      <td>Lemon</td>\n      <td>lexicon model</td>\n    </tr>\n    <tr>\n      <th>22</th>\n      <td>http://www.w3.org/ns/org#</td>\n      <td>org</td>\n      <td>ORG</td>\n      <td>ontology</td>\n    </tr>\n    <tr>\n      <th>23</th>\n      <td>http://www.w3.org/2003/01/geo/wgs84_pos#</td>\n      <td>geowgs84</td>\n      <td>WGS84</td>\n      <td>vocabulary</td>\n    </tr>\n    <tr>\n      <th>24</th>\n      <td>http://lexvo.org/ontology#</td>\n      <td>lexvo</td>\n      <td>lexvo.org</td>\n      <td>ontolofy</td>\n    </tr>\n    <tr>\n      <th>25</th>\n      <td>http://www.w3.org/2006/vcard/ns#</td>\n      <td>vcard</td>\n      <td>vCard</td>\n      <td>ontology</td>\n    </tr>\n  </tbody>\n</table>\n</div>"
     },
     "execution_count": 15,
     "metadata": {},
     "output_type": "execute_result"
    }
   ],
   "source": [
    "prefixes_df"
   ],
   "metadata": {
    "collapsed": false,
    "ExecuteTime": {
     "end_time": "2023-05-23T12:11:12.494909Z",
     "start_time": "2023-05-23T12:11:12.490362Z"
    }
   }
  },
  {
   "cell_type": "code",
   "execution_count": 16,
   "outputs": [],
   "source": [
    "def get_prefix_by_namespace(namespace: str, prefixes_df: pd.DataFrame, new_prefixes: dict)->str:\n",
    "    \"\"\"\n",
    "    This function injects the prefixes to the namespaces.\n",
    "    \"\"\"\n",
    "    if namespace in prefixes_df[\"base URI\"].values:\n",
    "        return prefixes_df[prefixes_df[\"base URI\"] == namespace][\"prefix\"].values[0]\n",
    "    elif namespace not in new_prefixes.keys():\n",
    "        new_prefixes[namespace] = f\"ns{len(new_prefixes.keys())+1}\"\n",
    "    return new_prefixes[namespace]\n",
    "\n",
    "def get_prefix_type_by_namespace(namespace: str, prefixes_df: pd.DataFrame)->str:\n",
    "    \"\"\"\n",
    "    This function injects the prefixes to the namespaces.\n",
    "    \"\"\"\n",
    "    if namespace in prefixes_df[\"base URI\"].values:\n",
    "        return prefixes_df[prefixes_df[\"base URI\"] == namespace][\"type\"].values[0]\n",
    "    else:\n",
    "        return \"unknown\"\n"
   ],
   "metadata": {
    "collapsed": false,
    "ExecuteTime": {
     "end_time": "2023-05-23T12:11:12.497278Z",
     "start_time": "2023-05-23T12:11:12.496225Z"
    }
   }
  },
  {
   "cell_type": "code",
   "execution_count": 17,
   "outputs": [],
   "source": [
    "new_prefixes = dict()"
   ],
   "metadata": {
    "collapsed": false,
    "ExecuteTime": {
     "end_time": "2023-05-23T12:11:12.499165Z",
     "start_time": "2023-05-23T12:11:12.497907Z"
    }
   }
  },
  {
   "cell_type": "code",
   "execution_count": 18,
   "outputs": [],
   "source": [
    "df[\"ns_s\"] = df[\"subject_base\"].apply(lambda x: get_prefix_by_namespace(x, prefixes_df, new_prefixes))\n",
    "df[\"ns_p\"] = df[\"predicate_base\"].apply(lambda x: get_prefix_by_namespace(x, prefixes_df, new_prefixes))\n",
    "df[\"ns_o\"] = df[\"object_base\"].apply(lambda x: get_prefix_by_namespace(x, prefixes_df, new_prefixes))\n",
    "df[\"p\"] = df[\"ns_p\"]+\":\"+df[\"predicate\"]"
   ],
   "metadata": {
    "collapsed": false,
    "ExecuteTime": {
     "end_time": "2023-05-23T12:11:12.597983Z",
     "start_time": "2023-05-23T12:11:12.570421Z"
    }
   }
  },
  {
   "cell_type": "code",
   "execution_count": 19,
   "outputs": [],
   "source": [
    "df[\"asset_type_s\"] = df[\"subject_base\"].apply(lambda x: get_prefix_type_by_namespace(x, prefixes_df))\n",
    "df[\"asset_type_p\"] = df[\"predicate_base\"].apply(lambda x: get_prefix_type_by_namespace(x, prefixes_df))\n",
    "df[\"asset_type_o\"] = df[\"object_base\"].apply(lambda x: get_prefix_type_by_namespace(x, prefixes_df))"
   ],
   "metadata": {
    "collapsed": false,
    "ExecuteTime": {
     "end_time": "2023-05-23T12:11:12.598281Z",
     "start_time": "2023-05-23T12:11:12.591325Z"
    }
   }
  },
  {
   "cell_type": "code",
   "execution_count": 20,
   "outputs": [],
   "source": [
    "new_prefixes_df = pd.DataFrame.from_dict(new_prefixes, orient=\"index\").reset_index()\n",
    "new_prefixes_df.columns = [\"base URI\", \"prefix\"]"
   ],
   "metadata": {
    "collapsed": false,
    "ExecuteTime": {
     "end_time": "2023-05-23T12:11:12.598352Z",
     "start_time": "2023-05-23T12:11:12.592606Z"
    }
   }
  },
  {
   "cell_type": "code",
   "execution_count": 21,
   "outputs": [
    {
     "data": {
      "text/plain": "                                             base URI prefix\n0   http://publications.europa.eu/resource/authori...    ns1\n1   http://publications.europa.eu/resource/authori...    ns2\n2   http://publications.europa.eu/resource/authori...    ns3\n3   http://publications.europa.eu/resource/authori...    ns4\n4   http://publications.europa.eu/resource/authori...    ns5\n5   http://publications.europa.eu/resource/authori...    ns6\n6   http://publications.europa.eu/resource/authori...    ns7\n7                                   unknown_namespace    ns8\n8   http://publications.europa.eu/resource/authori...    ns9\n9                           http://eurovoc.europa.eu/   ns10\n10  http://publications.europa.eu/resource/authori...   ns11\n11  http://publications.europa.eu/resource/authori...   ns12\n12             http://id.loc.gov/vocabulary/iso639-1/   ns13\n13  http://publications.europa.eu/resource/authori...   ns14\n14            http://publications.europa.eu/ontology/   ns15\n15  http://publications.europa.eu/resource/authori...   ns16",
      "text/html": "<div>\n<style scoped>\n    .dataframe tbody tr th:only-of-type {\n        vertical-align: middle;\n    }\n\n    .dataframe tbody tr th {\n        vertical-align: top;\n    }\n\n    .dataframe thead th {\n        text-align: right;\n    }\n</style>\n<table border=\"1\" class=\"dataframe\">\n  <thead>\n    <tr style=\"text-align: right;\">\n      <th></th>\n      <th>base URI</th>\n      <th>prefix</th>\n    </tr>\n  </thead>\n  <tbody>\n    <tr>\n      <th>0</th>\n      <td>http://publications.europa.eu/resource/authori...</td>\n      <td>ns1</td>\n    </tr>\n    <tr>\n      <th>1</th>\n      <td>http://publications.europa.eu/resource/authori...</td>\n      <td>ns2</td>\n    </tr>\n    <tr>\n      <th>2</th>\n      <td>http://publications.europa.eu/resource/authori...</td>\n      <td>ns3</td>\n    </tr>\n    <tr>\n      <th>3</th>\n      <td>http://publications.europa.eu/resource/authori...</td>\n      <td>ns4</td>\n    </tr>\n    <tr>\n      <th>4</th>\n      <td>http://publications.europa.eu/resource/authori...</td>\n      <td>ns5</td>\n    </tr>\n    <tr>\n      <th>5</th>\n      <td>http://publications.europa.eu/resource/authori...</td>\n      <td>ns6</td>\n    </tr>\n    <tr>\n      <th>6</th>\n      <td>http://publications.europa.eu/resource/authori...</td>\n      <td>ns7</td>\n    </tr>\n    <tr>\n      <th>7</th>\n      <td>unknown_namespace</td>\n      <td>ns8</td>\n    </tr>\n    <tr>\n      <th>8</th>\n      <td>http://publications.europa.eu/resource/authori...</td>\n      <td>ns9</td>\n    </tr>\n    <tr>\n      <th>9</th>\n      <td>http://eurovoc.europa.eu/</td>\n      <td>ns10</td>\n    </tr>\n    <tr>\n      <th>10</th>\n      <td>http://publications.europa.eu/resource/authori...</td>\n      <td>ns11</td>\n    </tr>\n    <tr>\n      <th>11</th>\n      <td>http://publications.europa.eu/resource/authori...</td>\n      <td>ns12</td>\n    </tr>\n    <tr>\n      <th>12</th>\n      <td>http://id.loc.gov/vocabulary/iso639-1/</td>\n      <td>ns13</td>\n    </tr>\n    <tr>\n      <th>13</th>\n      <td>http://publications.europa.eu/resource/authori...</td>\n      <td>ns14</td>\n    </tr>\n    <tr>\n      <th>14</th>\n      <td>http://publications.europa.eu/ontology/</td>\n      <td>ns15</td>\n    </tr>\n    <tr>\n      <th>15</th>\n      <td>http://publications.europa.eu/resource/authori...</td>\n      <td>ns16</td>\n    </tr>\n  </tbody>\n</table>\n</div>"
     },
     "execution_count": 21,
     "metadata": {},
     "output_type": "execute_result"
    }
   ],
   "source": [
    "new_prefixes_df"
   ],
   "metadata": {
    "collapsed": false,
    "ExecuteTime": {
     "end_time": "2023-05-23T12:11:12.603201Z",
     "start_time": "2023-05-23T12:11:12.597380Z"
    }
   }
  },
  {
   "cell_type": "code",
   "execution_count": 22,
   "outputs": [],
   "source": [
    "new_prefixes_df.to_csv(\"new_prefixes.csv\", index=False)"
   ],
   "metadata": {
    "collapsed": false,
    "ExecuteTime": {
     "end_time": "2023-05-23T12:11:12.621656Z",
     "start_time": "2023-05-23T12:11:12.603353Z"
    }
   }
  },
  {
   "cell_type": "code",
   "execution_count": 23,
   "outputs": [
    {
     "data": {
      "text/plain": "                                         subject_base  \\\n0   http://publications.europa.eu/resource/authori...   \n1   http://publications.europa.eu/resource/authori...   \n2   http://publications.europa.eu/resource/authori...   \n3   http://publications.europa.eu/resource/authori...   \n4   http://publications.europa.eu/resource/authori...   \n5   http://publications.europa.eu/resource/authori...   \n6   http://publications.europa.eu/resource/authori...   \n7   http://publications.europa.eu/resource/authori...   \n8   http://publications.europa.eu/resource/authori...   \n9   http://publications.europa.eu/resource/authori...   \n10  http://publications.europa.eu/resource/authori...   \n11  http://publications.europa.eu/resource/authori...   \n12  http://publications.europa.eu/resource/authori...   \n13  http://publications.europa.eu/resource/authori...   \n14  http://publications.europa.eu/resource/authori...   \n15  http://publications.europa.eu/resource/authori...   \n16  http://publications.europa.eu/resource/authori...   \n17  http://publications.europa.eu/resource/authori...   \n18  http://publications.europa.eu/resource/authori...   \n19  http://publications.europa.eu/resource/authori...   \n20  http://publications.europa.eu/resource/authori...   \n21  http://publications.europa.eu/resource/authori...   \n22  http://publications.europa.eu/resource/authori...   \n23  http://publications.europa.eu/resource/authori...   \n24  http://publications.europa.eu/resource/authori...   \n25  http://publications.europa.eu/resource/authori...   \n26  http://publications.europa.eu/resource/authori...   \n27  http://publications.europa.eu/resource/authori...   \n28  http://publications.europa.eu/resource/authori...   \n29  http://publications.europa.eu/resource/authori...   \n30  http://publications.europa.eu/resource/authori...   \n31  http://publications.europa.eu/resource/authori...   \n32  http://publications.europa.eu/resource/authori...   \n33  http://publications.europa.eu/resource/authori...   \n34  http://publications.europa.eu/resource/authori...   \n35  http://publications.europa.eu/resource/authori...   \n36  http://publications.europa.eu/resource/authori...   \n37  http://publications.europa.eu/resource/authori...   \n38  http://publications.europa.eu/resource/authori...   \n39  http://publications.europa.eu/resource/authori...   \n40  http://publications.europa.eu/resource/authori...   \n41  http://publications.europa.eu/resource/authori...   \n42  http://publications.europa.eu/resource/authori...   \n43  http://publications.europa.eu/resource/authori...   \n44  http://publications.europa.eu/resource/authori...   \n45  http://publications.europa.eu/resource/authori...   \n46  http://publications.europa.eu/resource/authori...   \n47  http://publications.europa.eu/resource/authori...   \n48  http://publications.europa.eu/resource/authori...   \n49  http://publications.europa.eu/resource/authori...   \n\n                                       predicate_base       predicate  \\\n0       http://publications.europa.eu/ontology/euvoc#          status   \n1         http://www.w3.org/1999/02/22-rdf-syntax-ns#            type   \n2                           http://purl.org/dc/terms/            type   \n3       http://publications.europa.eu/ontology/euvoc#          status   \n4       http://publications.europa.eu/ontology/euvoc#          status   \n5         http://www.w3.org/1999/02/22-rdf-syntax-ns#            type   \n6                           http://purl.org/dc/terms/            type   \n7         http://www.w3.org/1999/02/22-rdf-syntax-ns#            type   \n8                  http://www.w3.org/2008/05/skos-xl#       prefLabel   \n9       http://publications.europa.eu/ontology/euvoc#          status   \n10                          http://purl.org/dc/terms/            type   \n11                 http://www.w3.org/2008/05/skos-xl#       prefLabel   \n12                          http://purl.org/dc/terms/            type   \n13        http://www.w3.org/1999/02/22-rdf-syntax-ns#            type   \n14                 http://www.w3.org/2008/05/skos-xl#        altLabel   \n15                 http://www.w3.org/2008/05/skos-xl#        altLabel   \n16        http://www.w3.org/1999/02/22-rdf-syntax-ns#            type   \n17        http://www.w3.org/1999/02/22-rdf-syntax-ns#            type   \n18                 http://www.w3.org/2008/05/skos-xl#       prefLabel   \n19      http://publications.europa.eu/ontology/euvoc#          status   \n20                          http://purl.org/dc/terms/            type   \n21        http://www.w3.org/1999/02/22-rdf-syntax-ns#            type   \n22       http://www.lexinfo.net/ontology/2.0/lexinfo#          gender   \n23                      http://lemon-model.net/lemon#         context   \n24                      http://lemon-model.net/lemon#         context   \n25      http://publications.europa.eu/ontology/euvoc#      xlNotation   \n26                          http://purl.org/dc/terms/            type   \n27                 http://www.w3.org/2008/05/skos-xl#       prefLabel   \n28      http://publications.europa.eu/ontology/euvoc#      xlNotation   \n29  http://publications.europa.eu/ontology/authority/  op-mapped-code   \n30                          http://purl.org/dc/terms/            type   \n31        http://www.w3.org/1999/02/22-rdf-syntax-ns#            type   \n32                 http://www.w3.org/2008/05/skos-xl#        altLabel   \n33               http://www.w3.org/2004/02/skos/core#    topConceptOf   \n34                          http://purl.org/dc/terms/            type   \n35               http://www.w3.org/2004/02/skos/core#        inScheme   \n36        http://www.w3.org/1999/02/22-rdf-syntax-ns#            type   \n37                          http://purl.org/dc/terms/            type   \n38                 http://www.w3.org/2008/05/skos-xl#        altLabel   \n39      http://publications.europa.eu/ontology/euvoc#    xlDefinition   \n40        http://www.w3.org/1999/02/22-rdf-syntax-ns#            type   \n41                 http://www.w3.org/2008/05/skos-xl#       prefLabel   \n42                 http://www.w3.org/2008/05/skos-xl#        altLabel   \n43                      http://lemon-model.net/lemon#         context   \n44      http://publications.europa.eu/ontology/euvoc#      xlNotation   \n45                          http://purl.org/dc/terms/            type   \n46               http://www.w3.org/2004/02/skos/core#    topConceptOf   \n47        http://www.w3.org/1999/02/22-rdf-syntax-ns#            type   \n48               http://www.w3.org/2004/02/skos/core#        inScheme   \n49              http://www.opengis.net/ont/geosparql#        sfWithin   \n\n                                          object_base  count      ns_s  \\\n0   http://publications.europa.eu/resource/authori...  65733       cob   \n1                  http://www.w3.org/2008/05/skos-xl#  59401       cob   \n2   http://publications.europa.eu/resource/authori...  59401       cob   \n3   http://publications.europa.eu/resource/authori...  53388     place   \n4   http://publications.europa.eu/resource/authori...  39018   country   \n5                  http://www.w3.org/2008/05/skos-xl#  38410     place   \n6   http://publications.europa.eu/resource/authori...  38409     place   \n7                  http://www.w3.org/2008/05/skos-xl#  37421   country   \n8   http://publications.europa.eu/resource/authori...  34859       cob   \n9   http://publications.europa.eu/resource/authori...  34453  language   \n10  http://publications.europa.eu/resource/authori...  34193   country   \n11  http://publications.europa.eu/resource/authori...  32762     place   \n12  http://publications.europa.eu/resource/authori...  25769  language   \n13                 http://www.w3.org/2008/05/skos-xl#  25769  language   \n14  http://publications.europa.eu/resource/authori...  24542       cob   \n15  http://publications.europa.eu/resource/authori...  24308   country   \n16      http://publications.europa.eu/ontology/euvoc#  22468     place   \n17      http://publications.europa.eu/ontology/euvoc#  18470  language   \n18  http://publications.europa.eu/resource/authori...  17126  language   \n19  http://publications.europa.eu/resource/authori...  15439  currency   \n20  http://publications.europa.eu/resource/authori...  14682  currency   \n21                 http://www.w3.org/2008/05/skos-xl#  14682  currency   \n22  http://publications.europa.eu/resource/authori...  11708   country   \n23  http://publications.europa.eu/resource/authori...  11281   country   \n24  http://publications.europa.eu/resource/authori...  11123     place   \n25  http://publications.europa.eu/resource/authori...  10615     place   \n26  http://publications.europa.eu/resource/authori...  10615     place   \n27  http://publications.europa.eu/resource/authori...   9885   country   \n28  http://publications.europa.eu/resource/authori...   9767  language   \n29  http://publications.europa.eu/resource/authori...   9767  language   \n30  http://publications.europa.eu/resource/authori...   9767  language   \n31  http://publications.europa.eu/ontology/authority/   9767  language   \n32  http://publications.europa.eu/resource/authori...   8643  language   \n33  http://publications.europa.eu/resource/authority/   8178  language   \n34  http://publications.europa.eu/resource/authori...   8178  language   \n35  http://publications.europa.eu/resource/authority/   8178  language   \n36               http://www.w3.org/2004/02/skos/core#   8178  language   \n37  http://publications.europa.eu/resource/authori...   8057     place   \n38  http://publications.europa.eu/resource/authori...   7957  currency   \n39  http://publications.europa.eu/resource/authori...   7430     place   \n40      http://publications.europa.eu/ontology/euvoc#   7136       cob   \n41  http://publications.europa.eu/resource/authori...   6724  currency   \n42  http://publications.europa.eu/resource/authori...   5647     place   \n43  http://publications.europa.eu/resource/authori...   5029       cob   \n44  http://publications.europa.eu/resource/authori...   4826       cob   \n45  http://publications.europa.eu/resource/authori...   4826       cob   \n46  http://publications.europa.eu/resource/authority/   4363     place   \n47               http://www.w3.org/2004/02/skos/core#   4363     place   \n48  http://publications.europa.eu/resource/authority/   4363     place   \n49  http://publications.europa.eu/resource/authori...   4362     place   \n\n         ns_p             ns_o                      p asset_type_s  \\\n0       euvoc              ns1           euvoc:status           at   \n1         rdf            skoxl               rdf:type           at   \n2         dct              ns2               dct:type           at   \n3       euvoc              ns1           euvoc:status           at   \n4       euvoc              ns1           euvoc:status           at   \n5         rdf            skoxl               rdf:type           at   \n6         dct              ns2               dct:type           at   \n7         rdf            skoxl               rdf:type           at   \n8       skoxl              cob        skoxl:prefLabel           at   \n9       euvoc              ns1           euvoc:status           at   \n10        dct              ns2               dct:type           at   \n11      skoxl            place        skoxl:prefLabel           at   \n12        dct              ns2               dct:type           at   \n13        rdf            skoxl               rdf:type           at   \n14      skoxl              cob         skoxl:altLabel           at   \n15      skoxl          country         skoxl:altLabel           at   \n16        rdf            euvoc               rdf:type           at   \n17        rdf            euvoc               rdf:type           at   \n18      skoxl         language        skoxl:prefLabel           at   \n19      euvoc              ns1           euvoc:status           at   \n20        dct              ns2               dct:type           at   \n21        rdf            skoxl               rdf:type           at   \n22    lexinfo              ns3         lexinfo:gender           at   \n23      lemon              ns4          lemon:context           at   \n24      lemon              ns4          lemon:context           at   \n25      euvoc            place       euvoc:xlNotation           at   \n26        dct    notation-type               dct:type           at   \n27      skoxl          country        skoxl:prefLabel           at   \n28      euvoc         language       euvoc:xlNotation           at   \n29     at-ont         language  at-ont:op-mapped-code           at   \n30        dct    notation-type               dct:type           at   \n31        rdf           at-ont               rdf:type           at   \n32      skoxl         language         skoxl:altLabel           at   \n33       skos          at-base      skos:topConceptOf           at   \n34        dct  membership-clas               dct:type           at   \n35       skos          at-base          skos:inScheme           at   \n36        rdf             skos               rdf:type           at   \n37        dct  membership-clas               dct:type           at   \n38      skoxl         currency         skoxl:altLabel           at   \n39      euvoc            place     euvoc:xlDefinition           at   \n40        rdf            euvoc               rdf:type           at   \n41      skoxl         currency        skoxl:prefLabel           at   \n42      skoxl            place         skoxl:altLabel           at   \n43      lemon              ns4          lemon:context           at   \n44      euvoc              cob       euvoc:xlNotation           at   \n45        dct    notation-type               dct:type           at   \n46       skos          at-base      skos:topConceptOf           at   \n47        rdf             skos               rdf:type           at   \n48       skos          at-base          skos:inScheme           at   \n49  geosparql          country     geosparql:sfWithin           at   \n\n     asset_type_p asset_type_o  \n0        ontology      unknown  \n1        language     language  \n2        ontology      unknown  \n3        ontology      unknown  \n4        ontology      unknown  \n5        language     language  \n6        ontology      unknown  \n7        language     language  \n8        language           at  \n9        ontology      unknown  \n10       ontology      unknown  \n11       language           at  \n12       ontology      unknown  \n13       language     language  \n14       language           at  \n15       language           at  \n16       language     ontology  \n17       language     ontology  \n18       language           at  \n19       ontology      unknown  \n20       ontology      unknown  \n21       language     language  \n22       ontology      unknown  \n23  lexicon model      unknown  \n24  lexicon model      unknown  \n25       ontology           at  \n26       ontology           at  \n27       language           at  \n28       ontology           at  \n29       ontology           at  \n30       ontology           at  \n31       language     ontology  \n32       language           at  \n33       ontology           at  \n34       ontology           at  \n35       ontology           at  \n36       language     ontology  \n37       ontology           at  \n38       language           at  \n39       ontology           at  \n40       language     ontology  \n41       language           at  \n42       language           at  \n43  lexicon model      unknown  \n44       ontology           at  \n45       ontology           at  \n46       ontology           at  \n47       language     ontology  \n48       ontology           at  \n49       ontology           at  ",
      "text/html": "<div>\n<style scoped>\n    .dataframe tbody tr th:only-of-type {\n        vertical-align: middle;\n    }\n\n    .dataframe tbody tr th {\n        vertical-align: top;\n    }\n\n    .dataframe thead th {\n        text-align: right;\n    }\n</style>\n<table border=\"1\" class=\"dataframe\">\n  <thead>\n    <tr style=\"text-align: right;\">\n      <th></th>\n      <th>subject_base</th>\n      <th>predicate_base</th>\n      <th>predicate</th>\n      <th>object_base</th>\n      <th>count</th>\n      <th>ns_s</th>\n      <th>ns_p</th>\n      <th>ns_o</th>\n      <th>p</th>\n      <th>asset_type_s</th>\n      <th>asset_type_p</th>\n      <th>asset_type_o</th>\n    </tr>\n  </thead>\n  <tbody>\n    <tr>\n      <th>0</th>\n      <td>http://publications.europa.eu/resource/authori...</td>\n      <td>http://publications.europa.eu/ontology/euvoc#</td>\n      <td>status</td>\n      <td>http://publications.europa.eu/resource/authori...</td>\n      <td>65733</td>\n      <td>cob</td>\n      <td>euvoc</td>\n      <td>ns1</td>\n      <td>euvoc:status</td>\n      <td>at</td>\n      <td>ontology</td>\n      <td>unknown</td>\n    </tr>\n    <tr>\n      <th>1</th>\n      <td>http://publications.europa.eu/resource/authori...</td>\n      <td>http://www.w3.org/1999/02/22-rdf-syntax-ns#</td>\n      <td>type</td>\n      <td>http://www.w3.org/2008/05/skos-xl#</td>\n      <td>59401</td>\n      <td>cob</td>\n      <td>rdf</td>\n      <td>skoxl</td>\n      <td>rdf:type</td>\n      <td>at</td>\n      <td>language</td>\n      <td>language</td>\n    </tr>\n    <tr>\n      <th>2</th>\n      <td>http://publications.europa.eu/resource/authori...</td>\n      <td>http://purl.org/dc/terms/</td>\n      <td>type</td>\n      <td>http://publications.europa.eu/resource/authori...</td>\n      <td>59401</td>\n      <td>cob</td>\n      <td>dct</td>\n      <td>ns2</td>\n      <td>dct:type</td>\n      <td>at</td>\n      <td>ontology</td>\n      <td>unknown</td>\n    </tr>\n    <tr>\n      <th>3</th>\n      <td>http://publications.europa.eu/resource/authori...</td>\n      <td>http://publications.europa.eu/ontology/euvoc#</td>\n      <td>status</td>\n      <td>http://publications.europa.eu/resource/authori...</td>\n      <td>53388</td>\n      <td>place</td>\n      <td>euvoc</td>\n      <td>ns1</td>\n      <td>euvoc:status</td>\n      <td>at</td>\n      <td>ontology</td>\n      <td>unknown</td>\n    </tr>\n    <tr>\n      <th>4</th>\n      <td>http://publications.europa.eu/resource/authori...</td>\n      <td>http://publications.europa.eu/ontology/euvoc#</td>\n      <td>status</td>\n      <td>http://publications.europa.eu/resource/authori...</td>\n      <td>39018</td>\n      <td>country</td>\n      <td>euvoc</td>\n      <td>ns1</td>\n      <td>euvoc:status</td>\n      <td>at</td>\n      <td>ontology</td>\n      <td>unknown</td>\n    </tr>\n    <tr>\n      <th>5</th>\n      <td>http://publications.europa.eu/resource/authori...</td>\n      <td>http://www.w3.org/1999/02/22-rdf-syntax-ns#</td>\n      <td>type</td>\n      <td>http://www.w3.org/2008/05/skos-xl#</td>\n      <td>38410</td>\n      <td>place</td>\n      <td>rdf</td>\n      <td>skoxl</td>\n      <td>rdf:type</td>\n      <td>at</td>\n      <td>language</td>\n      <td>language</td>\n    </tr>\n    <tr>\n      <th>6</th>\n      <td>http://publications.europa.eu/resource/authori...</td>\n      <td>http://purl.org/dc/terms/</td>\n      <td>type</td>\n      <td>http://publications.europa.eu/resource/authori...</td>\n      <td>38409</td>\n      <td>place</td>\n      <td>dct</td>\n      <td>ns2</td>\n      <td>dct:type</td>\n      <td>at</td>\n      <td>ontology</td>\n      <td>unknown</td>\n    </tr>\n    <tr>\n      <th>7</th>\n      <td>http://publications.europa.eu/resource/authori...</td>\n      <td>http://www.w3.org/1999/02/22-rdf-syntax-ns#</td>\n      <td>type</td>\n      <td>http://www.w3.org/2008/05/skos-xl#</td>\n      <td>37421</td>\n      <td>country</td>\n      <td>rdf</td>\n      <td>skoxl</td>\n      <td>rdf:type</td>\n      <td>at</td>\n      <td>language</td>\n      <td>language</td>\n    </tr>\n    <tr>\n      <th>8</th>\n      <td>http://publications.europa.eu/resource/authori...</td>\n      <td>http://www.w3.org/2008/05/skos-xl#</td>\n      <td>prefLabel</td>\n      <td>http://publications.europa.eu/resource/authori...</td>\n      <td>34859</td>\n      <td>cob</td>\n      <td>skoxl</td>\n      <td>cob</td>\n      <td>skoxl:prefLabel</td>\n      <td>at</td>\n      <td>language</td>\n      <td>at</td>\n    </tr>\n    <tr>\n      <th>9</th>\n      <td>http://publications.europa.eu/resource/authori...</td>\n      <td>http://publications.europa.eu/ontology/euvoc#</td>\n      <td>status</td>\n      <td>http://publications.europa.eu/resource/authori...</td>\n      <td>34453</td>\n      <td>language</td>\n      <td>euvoc</td>\n      <td>ns1</td>\n      <td>euvoc:status</td>\n      <td>at</td>\n      <td>ontology</td>\n      <td>unknown</td>\n    </tr>\n    <tr>\n      <th>10</th>\n      <td>http://publications.europa.eu/resource/authori...</td>\n      <td>http://purl.org/dc/terms/</td>\n      <td>type</td>\n      <td>http://publications.europa.eu/resource/authori...</td>\n      <td>34193</td>\n      <td>country</td>\n      <td>dct</td>\n      <td>ns2</td>\n      <td>dct:type</td>\n      <td>at</td>\n      <td>ontology</td>\n      <td>unknown</td>\n    </tr>\n    <tr>\n      <th>11</th>\n      <td>http://publications.europa.eu/resource/authori...</td>\n      <td>http://www.w3.org/2008/05/skos-xl#</td>\n      <td>prefLabel</td>\n      <td>http://publications.europa.eu/resource/authori...</td>\n      <td>32762</td>\n      <td>place</td>\n      <td>skoxl</td>\n      <td>place</td>\n      <td>skoxl:prefLabel</td>\n      <td>at</td>\n      <td>language</td>\n      <td>at</td>\n    </tr>\n    <tr>\n      <th>12</th>\n      <td>http://publications.europa.eu/resource/authori...</td>\n      <td>http://purl.org/dc/terms/</td>\n      <td>type</td>\n      <td>http://publications.europa.eu/resource/authori...</td>\n      <td>25769</td>\n      <td>language</td>\n      <td>dct</td>\n      <td>ns2</td>\n      <td>dct:type</td>\n      <td>at</td>\n      <td>ontology</td>\n      <td>unknown</td>\n    </tr>\n    <tr>\n      <th>13</th>\n      <td>http://publications.europa.eu/resource/authori...</td>\n      <td>http://www.w3.org/1999/02/22-rdf-syntax-ns#</td>\n      <td>type</td>\n      <td>http://www.w3.org/2008/05/skos-xl#</td>\n      <td>25769</td>\n      <td>language</td>\n      <td>rdf</td>\n      <td>skoxl</td>\n      <td>rdf:type</td>\n      <td>at</td>\n      <td>language</td>\n      <td>language</td>\n    </tr>\n    <tr>\n      <th>14</th>\n      <td>http://publications.europa.eu/resource/authori...</td>\n      <td>http://www.w3.org/2008/05/skos-xl#</td>\n      <td>altLabel</td>\n      <td>http://publications.europa.eu/resource/authori...</td>\n      <td>24542</td>\n      <td>cob</td>\n      <td>skoxl</td>\n      <td>cob</td>\n      <td>skoxl:altLabel</td>\n      <td>at</td>\n      <td>language</td>\n      <td>at</td>\n    </tr>\n    <tr>\n      <th>15</th>\n      <td>http://publications.europa.eu/resource/authori...</td>\n      <td>http://www.w3.org/2008/05/skos-xl#</td>\n      <td>altLabel</td>\n      <td>http://publications.europa.eu/resource/authori...</td>\n      <td>24308</td>\n      <td>country</td>\n      <td>skoxl</td>\n      <td>country</td>\n      <td>skoxl:altLabel</td>\n      <td>at</td>\n      <td>language</td>\n      <td>at</td>\n    </tr>\n    <tr>\n      <th>16</th>\n      <td>http://publications.europa.eu/resource/authori...</td>\n      <td>http://www.w3.org/1999/02/22-rdf-syntax-ns#</td>\n      <td>type</td>\n      <td>http://publications.europa.eu/ontology/euvoc#</td>\n      <td>22468</td>\n      <td>place</td>\n      <td>rdf</td>\n      <td>euvoc</td>\n      <td>rdf:type</td>\n      <td>at</td>\n      <td>language</td>\n      <td>ontology</td>\n    </tr>\n    <tr>\n      <th>17</th>\n      <td>http://publications.europa.eu/resource/authori...</td>\n      <td>http://www.w3.org/1999/02/22-rdf-syntax-ns#</td>\n      <td>type</td>\n      <td>http://publications.europa.eu/ontology/euvoc#</td>\n      <td>18470</td>\n      <td>language</td>\n      <td>rdf</td>\n      <td>euvoc</td>\n      <td>rdf:type</td>\n      <td>at</td>\n      <td>language</td>\n      <td>ontology</td>\n    </tr>\n    <tr>\n      <th>18</th>\n      <td>http://publications.europa.eu/resource/authori...</td>\n      <td>http://www.w3.org/2008/05/skos-xl#</td>\n      <td>prefLabel</td>\n      <td>http://publications.europa.eu/resource/authori...</td>\n      <td>17126</td>\n      <td>language</td>\n      <td>skoxl</td>\n      <td>language</td>\n      <td>skoxl:prefLabel</td>\n      <td>at</td>\n      <td>language</td>\n      <td>at</td>\n    </tr>\n    <tr>\n      <th>19</th>\n      <td>http://publications.europa.eu/resource/authori...</td>\n      <td>http://publications.europa.eu/ontology/euvoc#</td>\n      <td>status</td>\n      <td>http://publications.europa.eu/resource/authori...</td>\n      <td>15439</td>\n      <td>currency</td>\n      <td>euvoc</td>\n      <td>ns1</td>\n      <td>euvoc:status</td>\n      <td>at</td>\n      <td>ontology</td>\n      <td>unknown</td>\n    </tr>\n    <tr>\n      <th>20</th>\n      <td>http://publications.europa.eu/resource/authori...</td>\n      <td>http://purl.org/dc/terms/</td>\n      <td>type</td>\n      <td>http://publications.europa.eu/resource/authori...</td>\n      <td>14682</td>\n      <td>currency</td>\n      <td>dct</td>\n      <td>ns2</td>\n      <td>dct:type</td>\n      <td>at</td>\n      <td>ontology</td>\n      <td>unknown</td>\n    </tr>\n    <tr>\n      <th>21</th>\n      <td>http://publications.europa.eu/resource/authori...</td>\n      <td>http://www.w3.org/1999/02/22-rdf-syntax-ns#</td>\n      <td>type</td>\n      <td>http://www.w3.org/2008/05/skos-xl#</td>\n      <td>14682</td>\n      <td>currency</td>\n      <td>rdf</td>\n      <td>skoxl</td>\n      <td>rdf:type</td>\n      <td>at</td>\n      <td>language</td>\n      <td>language</td>\n    </tr>\n    <tr>\n      <th>22</th>\n      <td>http://publications.europa.eu/resource/authori...</td>\n      <td>http://www.lexinfo.net/ontology/2.0/lexinfo#</td>\n      <td>gender</td>\n      <td>http://publications.europa.eu/resource/authori...</td>\n      <td>11708</td>\n      <td>country</td>\n      <td>lexinfo</td>\n      <td>ns3</td>\n      <td>lexinfo:gender</td>\n      <td>at</td>\n      <td>ontology</td>\n      <td>unknown</td>\n    </tr>\n    <tr>\n      <th>23</th>\n      <td>http://publications.europa.eu/resource/authori...</td>\n      <td>http://lemon-model.net/lemon#</td>\n      <td>context</td>\n      <td>http://publications.europa.eu/resource/authori...</td>\n      <td>11281</td>\n      <td>country</td>\n      <td>lemon</td>\n      <td>ns4</td>\n      <td>lemon:context</td>\n      <td>at</td>\n      <td>lexicon model</td>\n      <td>unknown</td>\n    </tr>\n    <tr>\n      <th>24</th>\n      <td>http://publications.europa.eu/resource/authori...</td>\n      <td>http://lemon-model.net/lemon#</td>\n      <td>context</td>\n      <td>http://publications.europa.eu/resource/authori...</td>\n      <td>11123</td>\n      <td>place</td>\n      <td>lemon</td>\n      <td>ns4</td>\n      <td>lemon:context</td>\n      <td>at</td>\n      <td>lexicon model</td>\n      <td>unknown</td>\n    </tr>\n    <tr>\n      <th>25</th>\n      <td>http://publications.europa.eu/resource/authori...</td>\n      <td>http://publications.europa.eu/ontology/euvoc#</td>\n      <td>xlNotation</td>\n      <td>http://publications.europa.eu/resource/authori...</td>\n      <td>10615</td>\n      <td>place</td>\n      <td>euvoc</td>\n      <td>place</td>\n      <td>euvoc:xlNotation</td>\n      <td>at</td>\n      <td>ontology</td>\n      <td>at</td>\n    </tr>\n    <tr>\n      <th>26</th>\n      <td>http://publications.europa.eu/resource/authori...</td>\n      <td>http://purl.org/dc/terms/</td>\n      <td>type</td>\n      <td>http://publications.europa.eu/resource/authori...</td>\n      <td>10615</td>\n      <td>place</td>\n      <td>dct</td>\n      <td>notation-type</td>\n      <td>dct:type</td>\n      <td>at</td>\n      <td>ontology</td>\n      <td>at</td>\n    </tr>\n    <tr>\n      <th>27</th>\n      <td>http://publications.europa.eu/resource/authori...</td>\n      <td>http://www.w3.org/2008/05/skos-xl#</td>\n      <td>prefLabel</td>\n      <td>http://publications.europa.eu/resource/authori...</td>\n      <td>9885</td>\n      <td>country</td>\n      <td>skoxl</td>\n      <td>country</td>\n      <td>skoxl:prefLabel</td>\n      <td>at</td>\n      <td>language</td>\n      <td>at</td>\n    </tr>\n    <tr>\n      <th>28</th>\n      <td>http://publications.europa.eu/resource/authori...</td>\n      <td>http://publications.europa.eu/ontology/euvoc#</td>\n      <td>xlNotation</td>\n      <td>http://publications.europa.eu/resource/authori...</td>\n      <td>9767</td>\n      <td>language</td>\n      <td>euvoc</td>\n      <td>language</td>\n      <td>euvoc:xlNotation</td>\n      <td>at</td>\n      <td>ontology</td>\n      <td>at</td>\n    </tr>\n    <tr>\n      <th>29</th>\n      <td>http://publications.europa.eu/resource/authori...</td>\n      <td>http://publications.europa.eu/ontology/authority/</td>\n      <td>op-mapped-code</td>\n      <td>http://publications.europa.eu/resource/authori...</td>\n      <td>9767</td>\n      <td>language</td>\n      <td>at-ont</td>\n      <td>language</td>\n      <td>at-ont:op-mapped-code</td>\n      <td>at</td>\n      <td>ontology</td>\n      <td>at</td>\n    </tr>\n    <tr>\n      <th>30</th>\n      <td>http://publications.europa.eu/resource/authori...</td>\n      <td>http://purl.org/dc/terms/</td>\n      <td>type</td>\n      <td>http://publications.europa.eu/resource/authori...</td>\n      <td>9767</td>\n      <td>language</td>\n      <td>dct</td>\n      <td>notation-type</td>\n      <td>dct:type</td>\n      <td>at</td>\n      <td>ontology</td>\n      <td>at</td>\n    </tr>\n    <tr>\n      <th>31</th>\n      <td>http://publications.europa.eu/resource/authori...</td>\n      <td>http://www.w3.org/1999/02/22-rdf-syntax-ns#</td>\n      <td>type</td>\n      <td>http://publications.europa.eu/ontology/authority/</td>\n      <td>9767</td>\n      <td>language</td>\n      <td>rdf</td>\n      <td>at-ont</td>\n      <td>rdf:type</td>\n      <td>at</td>\n      <td>language</td>\n      <td>ontology</td>\n    </tr>\n    <tr>\n      <th>32</th>\n      <td>http://publications.europa.eu/resource/authori...</td>\n      <td>http://www.w3.org/2008/05/skos-xl#</td>\n      <td>altLabel</td>\n      <td>http://publications.europa.eu/resource/authori...</td>\n      <td>8643</td>\n      <td>language</td>\n      <td>skoxl</td>\n      <td>language</td>\n      <td>skoxl:altLabel</td>\n      <td>at</td>\n      <td>language</td>\n      <td>at</td>\n    </tr>\n    <tr>\n      <th>33</th>\n      <td>http://publications.europa.eu/resource/authori...</td>\n      <td>http://www.w3.org/2004/02/skos/core#</td>\n      <td>topConceptOf</td>\n      <td>http://publications.europa.eu/resource/authority/</td>\n      <td>8178</td>\n      <td>language</td>\n      <td>skos</td>\n      <td>at-base</td>\n      <td>skos:topConceptOf</td>\n      <td>at</td>\n      <td>ontology</td>\n      <td>at</td>\n    </tr>\n    <tr>\n      <th>34</th>\n      <td>http://publications.europa.eu/resource/authori...</td>\n      <td>http://purl.org/dc/terms/</td>\n      <td>type</td>\n      <td>http://publications.europa.eu/resource/authori...</td>\n      <td>8178</td>\n      <td>language</td>\n      <td>dct</td>\n      <td>membership-clas</td>\n      <td>dct:type</td>\n      <td>at</td>\n      <td>ontology</td>\n      <td>at</td>\n    </tr>\n    <tr>\n      <th>35</th>\n      <td>http://publications.europa.eu/resource/authori...</td>\n      <td>http://www.w3.org/2004/02/skos/core#</td>\n      <td>inScheme</td>\n      <td>http://publications.europa.eu/resource/authority/</td>\n      <td>8178</td>\n      <td>language</td>\n      <td>skos</td>\n      <td>at-base</td>\n      <td>skos:inScheme</td>\n      <td>at</td>\n      <td>ontology</td>\n      <td>at</td>\n    </tr>\n    <tr>\n      <th>36</th>\n      <td>http://publications.europa.eu/resource/authori...</td>\n      <td>http://www.w3.org/1999/02/22-rdf-syntax-ns#</td>\n      <td>type</td>\n      <td>http://www.w3.org/2004/02/skos/core#</td>\n      <td>8178</td>\n      <td>language</td>\n      <td>rdf</td>\n      <td>skos</td>\n      <td>rdf:type</td>\n      <td>at</td>\n      <td>language</td>\n      <td>ontology</td>\n    </tr>\n    <tr>\n      <th>37</th>\n      <td>http://publications.europa.eu/resource/authori...</td>\n      <td>http://purl.org/dc/terms/</td>\n      <td>type</td>\n      <td>http://publications.europa.eu/resource/authori...</td>\n      <td>8057</td>\n      <td>place</td>\n      <td>dct</td>\n      <td>membership-clas</td>\n      <td>dct:type</td>\n      <td>at</td>\n      <td>ontology</td>\n      <td>at</td>\n    </tr>\n    <tr>\n      <th>38</th>\n      <td>http://publications.europa.eu/resource/authori...</td>\n      <td>http://www.w3.org/2008/05/skos-xl#</td>\n      <td>altLabel</td>\n      <td>http://publications.europa.eu/resource/authori...</td>\n      <td>7957</td>\n      <td>currency</td>\n      <td>skoxl</td>\n      <td>currency</td>\n      <td>skoxl:altLabel</td>\n      <td>at</td>\n      <td>language</td>\n      <td>at</td>\n    </tr>\n    <tr>\n      <th>39</th>\n      <td>http://publications.europa.eu/resource/authori...</td>\n      <td>http://publications.europa.eu/ontology/euvoc#</td>\n      <td>xlDefinition</td>\n      <td>http://publications.europa.eu/resource/authori...</td>\n      <td>7430</td>\n      <td>place</td>\n      <td>euvoc</td>\n      <td>place</td>\n      <td>euvoc:xlDefinition</td>\n      <td>at</td>\n      <td>ontology</td>\n      <td>at</td>\n    </tr>\n    <tr>\n      <th>40</th>\n      <td>http://publications.europa.eu/resource/authori...</td>\n      <td>http://www.w3.org/1999/02/22-rdf-syntax-ns#</td>\n      <td>type</td>\n      <td>http://publications.europa.eu/ontology/euvoc#</td>\n      <td>7136</td>\n      <td>cob</td>\n      <td>rdf</td>\n      <td>euvoc</td>\n      <td>rdf:type</td>\n      <td>at</td>\n      <td>language</td>\n      <td>ontology</td>\n    </tr>\n    <tr>\n      <th>41</th>\n      <td>http://publications.europa.eu/resource/authori...</td>\n      <td>http://www.w3.org/2008/05/skos-xl#</td>\n      <td>prefLabel</td>\n      <td>http://publications.europa.eu/resource/authori...</td>\n      <td>6724</td>\n      <td>currency</td>\n      <td>skoxl</td>\n      <td>currency</td>\n      <td>skoxl:prefLabel</td>\n      <td>at</td>\n      <td>language</td>\n      <td>at</td>\n    </tr>\n    <tr>\n      <th>42</th>\n      <td>http://publications.europa.eu/resource/authori...</td>\n      <td>http://www.w3.org/2008/05/skos-xl#</td>\n      <td>altLabel</td>\n      <td>http://publications.europa.eu/resource/authori...</td>\n      <td>5647</td>\n      <td>place</td>\n      <td>skoxl</td>\n      <td>place</td>\n      <td>skoxl:altLabel</td>\n      <td>at</td>\n      <td>language</td>\n      <td>at</td>\n    </tr>\n    <tr>\n      <th>43</th>\n      <td>http://publications.europa.eu/resource/authori...</td>\n      <td>http://lemon-model.net/lemon#</td>\n      <td>context</td>\n      <td>http://publications.europa.eu/resource/authori...</td>\n      <td>5029</td>\n      <td>cob</td>\n      <td>lemon</td>\n      <td>ns4</td>\n      <td>lemon:context</td>\n      <td>at</td>\n      <td>lexicon model</td>\n      <td>unknown</td>\n    </tr>\n    <tr>\n      <th>44</th>\n      <td>http://publications.europa.eu/resource/authori...</td>\n      <td>http://publications.europa.eu/ontology/euvoc#</td>\n      <td>xlNotation</td>\n      <td>http://publications.europa.eu/resource/authori...</td>\n      <td>4826</td>\n      <td>cob</td>\n      <td>euvoc</td>\n      <td>cob</td>\n      <td>euvoc:xlNotation</td>\n      <td>at</td>\n      <td>ontology</td>\n      <td>at</td>\n    </tr>\n    <tr>\n      <th>45</th>\n      <td>http://publications.europa.eu/resource/authori...</td>\n      <td>http://purl.org/dc/terms/</td>\n      <td>type</td>\n      <td>http://publications.europa.eu/resource/authori...</td>\n      <td>4826</td>\n      <td>cob</td>\n      <td>dct</td>\n      <td>notation-type</td>\n      <td>dct:type</td>\n      <td>at</td>\n      <td>ontology</td>\n      <td>at</td>\n    </tr>\n    <tr>\n      <th>46</th>\n      <td>http://publications.europa.eu/resource/authori...</td>\n      <td>http://www.w3.org/2004/02/skos/core#</td>\n      <td>topConceptOf</td>\n      <td>http://publications.europa.eu/resource/authority/</td>\n      <td>4363</td>\n      <td>place</td>\n      <td>skos</td>\n      <td>at-base</td>\n      <td>skos:topConceptOf</td>\n      <td>at</td>\n      <td>ontology</td>\n      <td>at</td>\n    </tr>\n    <tr>\n      <th>47</th>\n      <td>http://publications.europa.eu/resource/authori...</td>\n      <td>http://www.w3.org/1999/02/22-rdf-syntax-ns#</td>\n      <td>type</td>\n      <td>http://www.w3.org/2004/02/skos/core#</td>\n      <td>4363</td>\n      <td>place</td>\n      <td>rdf</td>\n      <td>skos</td>\n      <td>rdf:type</td>\n      <td>at</td>\n      <td>language</td>\n      <td>ontology</td>\n    </tr>\n    <tr>\n      <th>48</th>\n      <td>http://publications.europa.eu/resource/authori...</td>\n      <td>http://www.w3.org/2004/02/skos/core#</td>\n      <td>inScheme</td>\n      <td>http://publications.europa.eu/resource/authority/</td>\n      <td>4363</td>\n      <td>place</td>\n      <td>skos</td>\n      <td>at-base</td>\n      <td>skos:inScheme</td>\n      <td>at</td>\n      <td>ontology</td>\n      <td>at</td>\n    </tr>\n    <tr>\n      <th>49</th>\n      <td>http://publications.europa.eu/resource/authori...</td>\n      <td>http://www.opengis.net/ont/geosparql#</td>\n      <td>sfWithin</td>\n      <td>http://publications.europa.eu/resource/authori...</td>\n      <td>4362</td>\n      <td>place</td>\n      <td>geosparql</td>\n      <td>country</td>\n      <td>geosparql:sfWithin</td>\n      <td>at</td>\n      <td>ontology</td>\n      <td>at</td>\n    </tr>\n  </tbody>\n</table>\n</div>"
     },
     "execution_count": 23,
     "metadata": {},
     "output_type": "execute_result"
    }
   ],
   "source": [
    "df.head(50)"
   ],
   "metadata": {
    "collapsed": false,
    "ExecuteTime": {
     "end_time": "2023-05-23T12:11:12.622854Z",
     "start_time": "2023-05-23T12:11:12.611269Z"
    }
   }
  },
  {
   "cell_type": "code",
   "execution_count": 24,
   "outputs": [],
   "source": [
    "ns_df = df[[\"ns_s\", \"ns_p\",\"p\", \"ns_o\", \"asset_type_s\",\"asset_type_p\", \"asset_type_o\" , \"count\"]]"
   ],
   "metadata": {
    "collapsed": false,
    "ExecuteTime": {
     "end_time": "2023-05-23T12:11:12.622995Z",
     "start_time": "2023-05-23T12:11:12.614805Z"
    }
   }
  },
  {
   "cell_type": "code",
   "execution_count": 39,
   "outputs": [],
   "source": [
    "# Only for AT relations\n",
    "ns_df = ns_df[(ns_df[\"asset_type_s\"]==\"at\")&(ns_df[\"asset_type_o\"]==\"at\")].copy()"
   ],
   "metadata": {
    "collapsed": false,
    "ExecuteTime": {
     "end_time": "2023-05-23T12:17:54.349274Z",
     "start_time": "2023-05-23T12:17:54.346704Z"
    }
   }
  },
  {
   "cell_type": "code",
   "execution_count": 58,
   "outputs": [
    {
     "data": {
      "text/plain": "array(['cob', 'place', 'country', 'language', 'notation-type', 'at-base',\n       'membership-clas', 'currency', 'cob-clas', 'site'], dtype=object)"
     },
     "execution_count": 58,
     "metadata": {},
     "output_type": "execute_result"
    }
   ],
   "source": [
    "ns_df[\"ns_o\"].unique()"
   ],
   "metadata": {
    "collapsed": false,
    "ExecuteTime": {
     "end_time": "2023-05-23T12:33:07.425136Z",
     "start_time": "2023-05-23T12:33:07.420891Z"
    }
   }
  },
  {
   "cell_type": "code",
   "execution_count": 40,
   "outputs": [],
   "source": [
    "ns_df.to_csv(\"ns_s_p_o.csv\", index=False)"
   ],
   "metadata": {
    "collapsed": false,
    "ExecuteTime": {
     "end_time": "2023-05-23T12:17:56.465177Z",
     "start_time": "2023-05-23T12:17:56.459911Z"
    }
   }
  },
  {
   "cell_type": "code",
   "execution_count": 65,
   "outputs": [],
   "source": [
    "ns_sp = ns_df[[\"ns_s\", \"ns_p\", \"count\"]]\n",
    "ns_so = ns_df[[\"ns_s\", \"ns_o\", \"count\"]]\n",
    "ns_sp.columns = [\"source\", \"target\", \"count\"]\n",
    "ns_so.columns = [\"source\", \"target\", \"count\"]"
   ],
   "metadata": {
    "collapsed": false,
    "ExecuteTime": {
     "end_time": "2023-05-23T12:37:38.949456Z",
     "start_time": "2023-05-23T12:37:38.946719Z"
    }
   }
  },
  {
   "cell_type": "code",
   "execution_count": 66,
   "outputs": [],
   "source": [
    "ns_sp_so = pd.concat([ns_sp, ns_so])\n",
    "ns_sp_so = ns_sp_so.groupby(by=[\"source\", \"target\"]).sum(numeric_only=True).reset_index()\n"
   ],
   "metadata": {
    "collapsed": false,
    "ExecuteTime": {
     "end_time": "2023-05-23T12:37:40.628276Z",
     "start_time": "2023-05-23T12:37:40.625345Z"
    }
   }
  },
  {
   "cell_type": "code",
   "execution_count": 69,
   "outputs": [],
   "source": [
    "filter_subjects_and_objects = {\"at-base\", \"notation-type\", \"euvoc\",\n",
    "                               \"dct\",\"geosparql\", \"owl\", \"skosxl\", \"skos\", \"geowgs84\", \"at-ont\"}"
   ],
   "metadata": {
    "collapsed": false,
    "ExecuteTime": {
     "end_time": "2023-05-23T12:40:12.628468Z",
     "start_time": "2023-05-23T12:40:12.622525Z"
    }
   }
  },
  {
   "cell_type": "code",
   "execution_count": 70,
   "outputs": [],
   "source": [
    "ns_sp_so = ns_sp_so[~ns_sp_so[\"source\"].isin(filter_subjects_and_objects)&~ns_sp_so[\"target\"].isin(filter_subjects_and_objects)]"
   ],
   "metadata": {
    "collapsed": false,
    "ExecuteTime": {
     "end_time": "2023-05-23T12:40:14.409242Z",
     "start_time": "2023-05-23T12:40:14.406890Z"
    }
   }
  },
  {
   "cell_type": "code",
   "execution_count": 72,
   "outputs": [],
   "source": [
    "ns_sp_so.to_csv(\"ns_sp_so.csv\", index=False)"
   ],
   "metadata": {
    "collapsed": false,
    "ExecuteTime": {
     "end_time": "2023-05-23T12:40:25.502984Z",
     "start_time": "2023-05-23T12:40:25.498257Z"
    }
   }
  },
  {
   "cell_type": "code",
   "execution_count": 73,
   "outputs": [],
   "source": [
    "import networkx as nx"
   ],
   "metadata": {
    "collapsed": false,
    "ExecuteTime": {
     "end_time": "2023-05-23T12:40:26.685348Z",
     "start_time": "2023-05-23T12:40:26.679058Z"
    }
   }
  },
  {
   "cell_type": "code",
   "execution_count": 74,
   "outputs": [],
   "source": [
    "net_df = ns_sp_so.copy()"
   ],
   "metadata": {
    "collapsed": false,
    "ExecuteTime": {
     "end_time": "2023-05-23T12:40:27.973648Z",
     "start_time": "2023-05-23T12:40:27.967631Z"
    }
   }
  },
  {
   "cell_type": "code",
   "execution_count": 75,
   "outputs": [],
   "source": [
    "net_df[\"weight\"] = net_df[\"count\"].apply(lambda x: x / net_df[\"count\"].mean())"
   ],
   "metadata": {
    "collapsed": false,
    "ExecuteTime": {
     "end_time": "2023-05-23T12:40:29.362786Z",
     "start_time": "2023-05-23T12:40:29.360476Z"
    }
   }
  },
  {
   "cell_type": "code",
   "execution_count": 76,
   "outputs": [
    {
     "data": {
      "text/plain": "             source           target  count    weight\n13              cob              cob  70193  5.005897\n14              cob         cob-clas   4533  0.323276\n19              cob              org   1511  0.107759\n20              cob            place   1354  0.096562\n22              cob            skoxl  59401  4.236253\n25         cob-clas         cob-clas   2422  0.172728\n30         cob-clas            skoxl   2274  0.162173\n33          country              cob    313  0.022322\n34          country          country  42573  3.036144\n37          country         language    456  0.032520\n38          country  membership-clas    399  0.028455\n40          country              org    939  0.066966\n42          country            skoxl  37421  2.668723\n44         currency          country    377  0.026886\n45         currency         currency  15683  1.118452\n51         currency            skoxl  14681  1.046993\n56         language         language  45829  3.268349\n57         language  membership-clas   8178  0.583224\n60         language            skoxl  25769  1.837747\n62  membership-clas              cob      4  0.000285\n64  membership-clas  membership-clas    200  0.014263\n66  membership-clas            skoxl    193  0.013764\n69            place          country   4362  0.311081\n74            place  membership-clas   8057  0.574595\n76            place            place  57893  4.128708\n78            place            skoxl  38409  2.739183\n81             site              cob    600  0.042790\n82             site          country    403  0.028740\n86             site              org    419  0.029881\n87             site            place    806  0.057481\n88             site             site   2262  0.161317\n90             site            skoxl    792  0.056482",
      "text/html": "<div>\n<style scoped>\n    .dataframe tbody tr th:only-of-type {\n        vertical-align: middle;\n    }\n\n    .dataframe tbody tr th {\n        vertical-align: top;\n    }\n\n    .dataframe thead th {\n        text-align: right;\n    }\n</style>\n<table border=\"1\" class=\"dataframe\">\n  <thead>\n    <tr style=\"text-align: right;\">\n      <th></th>\n      <th>source</th>\n      <th>target</th>\n      <th>count</th>\n      <th>weight</th>\n    </tr>\n  </thead>\n  <tbody>\n    <tr>\n      <th>13</th>\n      <td>cob</td>\n      <td>cob</td>\n      <td>70193</td>\n      <td>5.005897</td>\n    </tr>\n    <tr>\n      <th>14</th>\n      <td>cob</td>\n      <td>cob-clas</td>\n      <td>4533</td>\n      <td>0.323276</td>\n    </tr>\n    <tr>\n      <th>19</th>\n      <td>cob</td>\n      <td>org</td>\n      <td>1511</td>\n      <td>0.107759</td>\n    </tr>\n    <tr>\n      <th>20</th>\n      <td>cob</td>\n      <td>place</td>\n      <td>1354</td>\n      <td>0.096562</td>\n    </tr>\n    <tr>\n      <th>22</th>\n      <td>cob</td>\n      <td>skoxl</td>\n      <td>59401</td>\n      <td>4.236253</td>\n    </tr>\n    <tr>\n      <th>25</th>\n      <td>cob-clas</td>\n      <td>cob-clas</td>\n      <td>2422</td>\n      <td>0.172728</td>\n    </tr>\n    <tr>\n      <th>30</th>\n      <td>cob-clas</td>\n      <td>skoxl</td>\n      <td>2274</td>\n      <td>0.162173</td>\n    </tr>\n    <tr>\n      <th>33</th>\n      <td>country</td>\n      <td>cob</td>\n      <td>313</td>\n      <td>0.022322</td>\n    </tr>\n    <tr>\n      <th>34</th>\n      <td>country</td>\n      <td>country</td>\n      <td>42573</td>\n      <td>3.036144</td>\n    </tr>\n    <tr>\n      <th>37</th>\n      <td>country</td>\n      <td>language</td>\n      <td>456</td>\n      <td>0.032520</td>\n    </tr>\n    <tr>\n      <th>38</th>\n      <td>country</td>\n      <td>membership-clas</td>\n      <td>399</td>\n      <td>0.028455</td>\n    </tr>\n    <tr>\n      <th>40</th>\n      <td>country</td>\n      <td>org</td>\n      <td>939</td>\n      <td>0.066966</td>\n    </tr>\n    <tr>\n      <th>42</th>\n      <td>country</td>\n      <td>skoxl</td>\n      <td>37421</td>\n      <td>2.668723</td>\n    </tr>\n    <tr>\n      <th>44</th>\n      <td>currency</td>\n      <td>country</td>\n      <td>377</td>\n      <td>0.026886</td>\n    </tr>\n    <tr>\n      <th>45</th>\n      <td>currency</td>\n      <td>currency</td>\n      <td>15683</td>\n      <td>1.118452</td>\n    </tr>\n    <tr>\n      <th>51</th>\n      <td>currency</td>\n      <td>skoxl</td>\n      <td>14681</td>\n      <td>1.046993</td>\n    </tr>\n    <tr>\n      <th>56</th>\n      <td>language</td>\n      <td>language</td>\n      <td>45829</td>\n      <td>3.268349</td>\n    </tr>\n    <tr>\n      <th>57</th>\n      <td>language</td>\n      <td>membership-clas</td>\n      <td>8178</td>\n      <td>0.583224</td>\n    </tr>\n    <tr>\n      <th>60</th>\n      <td>language</td>\n      <td>skoxl</td>\n      <td>25769</td>\n      <td>1.837747</td>\n    </tr>\n    <tr>\n      <th>62</th>\n      <td>membership-clas</td>\n      <td>cob</td>\n      <td>4</td>\n      <td>0.000285</td>\n    </tr>\n    <tr>\n      <th>64</th>\n      <td>membership-clas</td>\n      <td>membership-clas</td>\n      <td>200</td>\n      <td>0.014263</td>\n    </tr>\n    <tr>\n      <th>66</th>\n      <td>membership-clas</td>\n      <td>skoxl</td>\n      <td>193</td>\n      <td>0.013764</td>\n    </tr>\n    <tr>\n      <th>69</th>\n      <td>place</td>\n      <td>country</td>\n      <td>4362</td>\n      <td>0.311081</td>\n    </tr>\n    <tr>\n      <th>74</th>\n      <td>place</td>\n      <td>membership-clas</td>\n      <td>8057</td>\n      <td>0.574595</td>\n    </tr>\n    <tr>\n      <th>76</th>\n      <td>place</td>\n      <td>place</td>\n      <td>57893</td>\n      <td>4.128708</td>\n    </tr>\n    <tr>\n      <th>78</th>\n      <td>place</td>\n      <td>skoxl</td>\n      <td>38409</td>\n      <td>2.739183</td>\n    </tr>\n    <tr>\n      <th>81</th>\n      <td>site</td>\n      <td>cob</td>\n      <td>600</td>\n      <td>0.042790</td>\n    </tr>\n    <tr>\n      <th>82</th>\n      <td>site</td>\n      <td>country</td>\n      <td>403</td>\n      <td>0.028740</td>\n    </tr>\n    <tr>\n      <th>86</th>\n      <td>site</td>\n      <td>org</td>\n      <td>419</td>\n      <td>0.029881</td>\n    </tr>\n    <tr>\n      <th>87</th>\n      <td>site</td>\n      <td>place</td>\n      <td>806</td>\n      <td>0.057481</td>\n    </tr>\n    <tr>\n      <th>88</th>\n      <td>site</td>\n      <td>site</td>\n      <td>2262</td>\n      <td>0.161317</td>\n    </tr>\n    <tr>\n      <th>90</th>\n      <td>site</td>\n      <td>skoxl</td>\n      <td>792</td>\n      <td>0.056482</td>\n    </tr>\n  </tbody>\n</table>\n</div>"
     },
     "execution_count": 76,
     "metadata": {},
     "output_type": "execute_result"
    }
   ],
   "source": [
    "net_df"
   ],
   "metadata": {
    "collapsed": false,
    "ExecuteTime": {
     "end_time": "2023-05-23T12:40:30.636860Z",
     "start_time": "2023-05-23T12:40:30.635309Z"
    }
   }
  },
  {
   "cell_type": "code",
   "execution_count": 77,
   "outputs": [],
   "source": [
    "graph = nx.from_pandas_edgelist(net_df, source=\"source\", target=\"target\", edge_attr=\"weight\", create_using=nx.DiGraph)"
   ],
   "metadata": {
    "collapsed": false,
    "ExecuteTime": {
     "end_time": "2023-05-23T12:40:34.424747Z",
     "start_time": "2023-05-23T12:40:34.421832Z"
    }
   }
  },
  {
   "cell_type": "code",
   "execution_count": 78,
   "outputs": [],
   "source": [
    "from pyvis.network import Network\n",
    "net = Network('1000px', '100%', directed =True, notebook=True, cdn_resources=\"remote\", neighborhood_highlight=True)\n",
    "net.from_nx(graph)\n",
    "net.toggle_physics(False)\n",
    "frame = net.write_html(\"result_graph.html\", notebook=True)"
   ],
   "metadata": {
    "collapsed": false,
    "ExecuteTime": {
     "end_time": "2023-05-23T12:40:37.120259Z",
     "start_time": "2023-05-23T12:40:37.093122Z"
    }
   }
  }
 ],
 "metadata": {
  "kernelspec": {
   "display_name": "Python 3",
   "language": "python",
   "name": "python3"
  },
  "language_info": {
   "codemirror_mode": {
    "name": "ipython",
    "version": 2
   },
   "file_extension": ".py",
   "mimetype": "text/x-python",
   "name": "python",
   "nbconvert_exporter": "python",
   "pygments_lexer": "ipython2",
   "version": "2.7.6"
  }
 },
 "nbformat": 4,
 "nbformat_minor": 0
}
