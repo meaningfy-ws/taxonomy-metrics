{
 "cells": [
  {
   "cell_type": "markdown",
   "metadata": {},
   "source": [
    "# Topological analisys of EuroVoc"
   ]
  },
  {
   "cell_type": "code",
   "execution_count": 1,
   "metadata": {},
   "outputs": [],
   "source": [
    "%load_ext autoreload\n",
    "%autoreload\n",
    "import numpy as np\n",
    "import pandas as pd\n",
    "import pathlib\n",
    "\n",
    "import matplotlib.pyplot as plt\n",
    "import matplotlib\n",
    "\n",
    "import seaborn as sns\n",
    "\n",
    "from pprint import pprint as print\n",
    "from notebook_utils import *\n",
    "from taxonomy_metrics import *\n",
    "from comparative_measures import *\n",
    "from notebook_draw import *\n",
    "\n",
    "plt.rcParams['figure.figsize'] = [7, 5]\n",
    "plt.rcParams['figure.dpi'] = 300\n",
    "pd.options.display.float_format = '{:,.2f}'.format\n",
    "sns.set_style(\"whitegrid\", {'axes.grid' : False})\n",
    "\n",
    "# reading the EuroVoc statistics\n",
    "EUROVOC_DATASET_PATH = pathlib.Path(\"data/eurovoc-4.9/EVAP49.ttl\").resolve()\n",
    "\n",
    "CS_STATS = pd.read_excel(str(EUROVOC_DATASET_PATH) + \"CS_statistics.xlsx\")\n",
    "\n",
    "EV_STATS = CS_STATS[ CS_STATS[\"name\"] == \"EuroVoc\" ] \n",
    "CS_STATS = CS_STATS[ CS_STATS[\"name\"] != \"EuroVoc\" ] \n"
   ]
  },
  {
   "cell_type": "code",
   "execution_count": 2,
   "metadata": {},
   "outputs": [],
   "source": [
    "# reading (re-creading) the concept scheme graphs, in case some debuging is needed\n",
    "EUROVOC_DATASET_PATH= pathlib.Path(\"data/eurovoc-4.9/EVAP49.ttl\").resolve()\n",
    "QUERY_LABELS_RESULTSET_PATH = pathlib.Path(\"data/eurovoc-4.9/QUERY_LABELS_RESULTSET.csv\").resolve()\n",
    "QUERY_LABELS_RESULTSET = pd.read_csv(QUERY_LABELS_RESULTSET_PATH, delimiter=\",\")\n",
    "# greaqting the conceptual graphs\n",
    "EUROVOC_GRAPH = create_grah_from_eurovoc_label_query(QUERY_LABELS_RESULTSET)\n",
    "CONCEPT_SCHEME_GRAPHS = create_grah_per_scheme_from_eurovoc_label_query(QUERY_LABELS_RESULTSET)"
   ]
  },
  {
   "cell_type": "markdown",
   "metadata": {},
   "source": [
    "# Introduction"
   ]
  },
  {
   "cell_type": "markdown",
   "metadata": {},
   "source": [
    "This document explores and interprets various metrices computed on EuroVoc thesaurus. The anailisys focuses on the hierarchy structure, lexicalisation, cohesion, and other metrics based on the graph structure. \n",
    "\n",
    "**Note:** The words *node* (meaning graph node) and *concept* (meaning SKOS concept) will sometimes be used intechangenly in this text but on the second revision they will have to be standardised. The reason for this possible mistaken sinonimity is because the SKOS thesaurus has been reduced to a directed graph. \n",
    "\n",
    "**TODO:** explain that structure of the graph. \n",
    "\n",
    "The columns in the input data represent various measurements wherease rows stand for concept schemes in EuroVoc on which the measurements were performed. Next I provide the list of metrices and what they mean. For the metrices measured at the level of the graph nodes (e.g. inheritance richness, page rank or lexicalisation) then descriptive indicators are provided such as min/max and average value (combining usually the metric name with the descriptibe indicator, e.g. lexicalisation - min, lexicalisation - mean), while for the metrices that are calculated at the level of the entire graph, single absolute values are given. \n",
    "\n",
    "| indicator | description of the graph indicator |\n",
    "|-----------|-----------|\n",
    "|nodes| the total number of nodes in the graph|\n",
    "|top nodes| the number of top nodes (i.e. nodes that have no parents)|\n",
    "|leaf nodes| the number of leaf nodes (i.e. nodes that have no children)|\n",
    "|depth| for a node in the graph, it represents the the humber of levels in the taxonomic hierarchy|\n",
    "|leaf depth| the depth of the leaf nodes i.e. the length of the shortest path hierarchical to the top node |\n",
    "|inheritance richness| for a node in the hierarchy, it represents the number of direct children connected by a hierarchical relation  |\n",
    "|inverse inheritance richness| for a node in the hierarchy, it represents the number of direct parents |\n",
    "|lexicalisation | for a node in the graph, it represents the number of alternative nodes (considered equivalent) connected via lexical relation|\n",
    "|connectedness| for a node in the graph, it represents the number of orthogonal (i.e. non-hierarchical) relations to other nodes |\n",
    "|page rank| for a node in the graph, it represents the the importance of that node in the graph provided the assumption tha the more important nodes are more likely to recive more incoming links form other nodes. |\n",
    "|hubs & authorities| a good hub represented a page that pointed to many other pages, and a good authority represented a page that was linked by many different hubs. See also [HITS algorithm](https://en.wikipedia.org/wiki/HITS_algorithm) |\n",
    "|eigenvector centrality| eigenvector centrality (also called eigencentrality) is a measure of the influence of a node in a network. |\n",
    "|degree centrality| the number of links incident upon a node (i.e., the number of ties that a node has) |\n",
    "|cohesion - strongly connected components| is a sub-graph where there is a path from every node to every other node |\n",
    "|cohesion - weakly connected components| A weakly connected component is one in which all components are connected by some path, ignoring direction. |\n",
    "|cohesion - attracting components| An attracting component in a directed graph is a strongly connected component with the property that a random walker on the graph will never leave the component, once it enters the component. |\n",
    "|cohesion - isolates components| An isolate is a node with no neighbors (that is, with degree zero). For directed graphs, this means no in-neighbors and no out-neighbors. |\n",
    "\n",
    "\n",
    "In addition, I provide explanation of what the standard descriptive statistics are and how to read them in the table form used below.\n",
    "\n",
    "| indicator | description |\n",
    "|-----------|-----------|\n",
    "| nobs | number of objects in the series|\n",
    "| minmax | minimum and maximum span|\n",
    "| mean | the central value of a discrete set of numbers |\n",
    "| variance | measures how far a set of (random) numbers are spread out from their average value|\n",
    "| skewness | skewness is a measure of the asymmetry of a distribution about its mean. Any symmetric data should have a skewness near zero. Negative values for the skewness indicate data that are skewed left and positive values for the skewness indicate data that are skewed right.|\n",
    "| kurtosis | a descriptor of the shape of a probability distribution and is a measure of the \"tailedness\" of the probability distribution. The kurtosis for a standard normal distribution is three. It can take values between -2 and +inf.|\n",
    "\n"
   ]
  },
  {
   "cell_type": "markdown",
   "metadata": {},
   "source": [
    "# Hierarchical structure\n",
    "\n",
    "The taxonomy hierarchy can be characteriased in terms of the following dimensions: **number of top and leaf nodes, depth of the taxonomy, and inheritance richness**. I first start by providing an overview of these meaurements as value distributions (in the form of hystograms) over entire set of concept schmes. "
   ]
  },
  {
   "cell_type": "code",
   "execution_count": 3,
   "metadata": {},
   "outputs": [
    {
     "data": {
      "text/html": [
       "<table border=\"1\" class=\"dataframe\">\n",
       "  <thead>\n",
       "    <tr style=\"text-align: right;\">\n",
       "      <th></th>\n",
       "      <th>nobs</th>\n",
       "      <th>minmax</th>\n",
       "      <th>mean</th>\n",
       "      <th>variance</th>\n",
       "      <th>skewness</th>\n",
       "      <th>kurtosis</th>\n",
       "    </tr>\n",
       "  </thead>\n",
       "  <tbody>\n",
       "    <tr>\n",
       "      <th>average depth</th>\n",
       "      <td>127</td>\n",
       "      <td>(0.8552, 2.2692)</td>\n",
       "      <td>1.35</td>\n",
       "      <td>0.08</td>\n",
       "      <td>0.70</td>\n",
       "      <td>0.55</td>\n",
       "    </tr>\n",
       "    <tr>\n",
       "      <th>max depth</th>\n",
       "      <td>127</td>\n",
       "      <td>(1, 5)</td>\n",
       "      <td>2.72</td>\n",
       "      <td>0.50</td>\n",
       "      <td>0.31</td>\n",
       "      <td>0.00</td>\n",
       "    </tr>\n",
       "  </tbody>\n",
       "</table>"
      ],
      "text/plain": [
       "<IPython.core.display.HTML object>"
      ]
     },
     "metadata": {},
     "output_type": "display_data"
    },
    {
     "data": {
      "image/png": "[encoded data removed]",
      "text/plain": [
       "<Figure size 1080x360 with 2 Axes>"
      ]
     },
     "metadata": {
      "needs_background": "light"
     },
     "output_type": "display_data"
    }
   ],
   "source": [
    "# define the hierarchically relevant metrics\n",
    "HIERARCHICAL_COLUMNS = [\"name\",\"nodes\",\"top nodes\",\"leaf nodes\",\n",
    "                        \"depth - max\",\"depth - mean\",\n",
    "                        \"inheritance richness - min\",\n",
    "                        \"inheritance richness - max\",\n",
    "                        \"inheritance richness - mean\",\n",
    "                        \"inheritance richness - variance\",\n",
    "                        \"inverse inheritance richness - mean\",]\n",
    "h_stats = CS_STATS[HIERARCHICAL_COLUMNS]\n",
    "\n",
    "# drawing depth\n",
    "left_plot()\n",
    "draw_hist(h_stats[\"depth - mean\"],label=\"Average depth\", x_label=\"Level\")\n",
    "right_plot()\n",
    "draw_hist(h_stats[\"depth - max\"],label=\"Max depth\", x_label=\"Level\", color=\"r\")\n",
    "\n",
    "# descriptive statistics \n",
    "dsp( describe([h_stats[\"depth - mean\"],h_stats[\"depth - max\"]], [\"average depth\",\"max depth\"] ) )\n"
   ]
  },
  {
   "cell_type": "markdown",
   "metadata": {},
   "source": [
    "In the figure above we can see that most of the concept schemes are on average 1.38 deep reaching up to 5 level. The average depth indicator is quite shallow compared to out expectations. There are no instances of flat lists and there are always at least on level down hierarchy. "
   ]
  },
  {
   "cell_type": "code",
   "execution_count": 4,
   "metadata": {},
   "outputs": [
    {
     "data": {
      "text/html": [
       "<table border=\"1\" class=\"dataframe\">\n",
       "  <thead>\n",
       "    <tr style=\"text-align: right;\">\n",
       "      <th></th>\n",
       "      <th>nobs</th>\n",
       "      <th>minmax</th>\n",
       "      <th>mean</th>\n",
       "      <th>variance</th>\n",
       "      <th>skewness</th>\n",
       "      <th>kurtosis</th>\n",
       "    </tr>\n",
       "  </thead>\n",
       "  <tbody>\n",
       "    <tr>\n",
       "      <th>top nodes</th>\n",
       "      <td>127</td>\n",
       "      <td>(1, 32)</td>\n",
       "      <td>4.09</td>\n",
       "      <td>12.84</td>\n",
       "      <td>5.37</td>\n",
       "      <td>35.96</td>\n",
       "    </tr>\n",
       "    <tr>\n",
       "      <th>leaf nodes</th>\n",
       "      <td>127</td>\n",
       "      <td>(12, 376)</td>\n",
       "      <td>47.28</td>\n",
       "      <td>1,513.55</td>\n",
       "      <td>5.31</td>\n",
       "      <td>39.57</td>\n",
       "    </tr>\n",
       "  </tbody>\n",
       "</table>"
      ],
      "text/plain": [
       "<IPython.core.display.HTML object>"
      ]
     },
     "metadata": {},
     "output_type": "display_data"
    },
    {
     "data": {
      "image/png": "[encoded data removed]",
      "text/plain": [
       "<Figure size 1080x360 with 2 Axes>"
      ]
     },
     "metadata": {
      "needs_background": "light"
     },
     "output_type": "display_data"
    }
   ],
   "source": [
    "# descriptive statistics for top/leaf nodes\n",
    "dsp( describe([h_stats[\"top nodes\"],h_stats[\"leaf nodes\"]], [\"top nodes\",\" leaf nodes\"] ) )\n",
    "\n",
    "# drawing top/leaf nodes\n",
    "left_plot()\n",
    "draw_hist(h_stats[\"top nodes\"],label=\"Top nodes\", x_label=\"Nodes\", color=\"b\")\n",
    "right_plot()\n",
    "draw_hist(h_stats[\"leaf nodes\"],label=\"Leaf nodes\", x_label=\"Nodes\")"
   ]
  },
  {
   "cell_type": "markdown",
   "metadata": {},
   "source": [
    "The number of top nodes tends to be, as expected, quite small with an anverage of 4.1 per concept scheme; and the average number of leaf nodes 47.3. There are, however some outliers which require attention. \n",
    "\n",
    "The exceptions are easy to spot, they are concept schemes belonging to the GEOGRAPHY domain, which represent essentially country groups. Their structure is characterised by shallow and very wide hierarchies which is tipical for group-member or class-cubclass relations. This is contrary to class-subclass relations which tend to be more balanced in depth and in the number of subclasses. \n",
    "\n",
    "Below the concept schemes in GEOGRAPHY domain are split from the rest of concept schmes to test the above hypothesis that these concept schemes constitute outliers in the distributions of top and leaf nodes."
   ]
  },
  {
   "cell_type": "code",
   "execution_count": 5,
   "metadata": {},
   "outputs": [
    {
     "data": {
      "text/html": [
       "<table border=\"1\" class=\"dataframe\">\n",
       "  <thead>\n",
       "    <tr style=\"text-align: right;\">\n",
       "      <th></th>\n",
       "      <th>nobs</th>\n",
       "      <th>minmax</th>\n",
       "      <th>mean</th>\n",
       "      <th>variance</th>\n",
       "      <th>skewness</th>\n",
       "      <th>kurtosis</th>\n",
       "    </tr>\n",
       "  </thead>\n",
       "  <tbody>\n",
       "    <tr>\n",
       "      <th>top nodes ALL</th>\n",
       "      <td>127</td>\n",
       "      <td>(1, 32)</td>\n",
       "      <td>4.09</td>\n",
       "      <td>12.84</td>\n",
       "      <td>5.37</td>\n",
       "      <td>35.96</td>\n",
       "    </tr>\n",
       "    <tr>\n",
       "      <th>top nodes NON geo</th>\n",
       "      <td>114</td>\n",
       "      <td>(1, 9)</td>\n",
       "      <td>3.68</td>\n",
       "      <td>2.64</td>\n",
       "      <td>0.53</td>\n",
       "      <td>0.02</td>\n",
       "    </tr>\n",
       "    <tr>\n",
       "      <th>top nodes geo</th>\n",
       "      <td>13</td>\n",
       "      <td>(1, 32)</td>\n",
       "      <td>7.62</td>\n",
       "      <td>94.92</td>\n",
       "      <td>1.74</td>\n",
       "      <td>1.53</td>\n",
       "    </tr>\n",
       "  </tbody>\n",
       "</table>"
      ],
      "text/plain": [
       "<IPython.core.display.HTML object>"
      ]
     },
     "metadata": {},
     "output_type": "display_data"
    },
    {
     "data": {
      "text/html": [
       "<table border=\"1\" class=\"dataframe\">\n",
       "  <thead>\n",
       "    <tr style=\"text-align: right;\">\n",
       "      <th></th>\n",
       "      <th>nobs</th>\n",
       "      <th>minmax</th>\n",
       "      <th>mean</th>\n",
       "      <th>variance</th>\n",
       "      <th>skewness</th>\n",
       "      <th>kurtosis</th>\n",
       "    </tr>\n",
       "  </thead>\n",
       "  <tbody>\n",
       "    <tr>\n",
       "      <th>leaf nodes ALL</th>\n",
       "      <td>127</td>\n",
       "      <td>(12, 376)</td>\n",
       "      <td>47.28</td>\n",
       "      <td>1,513.55</td>\n",
       "      <td>5.31</td>\n",
       "      <td>39.57</td>\n",
       "    </tr>\n",
       "    <tr>\n",
       "      <th>leaf nodes NON geo</th>\n",
       "      <td>114</td>\n",
       "      <td>(12, 121)</td>\n",
       "      <td>42.41</td>\n",
       "      <td>453.36</td>\n",
       "      <td>1.11</td>\n",
       "      <td>1.24</td>\n",
       "    </tr>\n",
       "    <tr>\n",
       "      <th>leaf nodes geo</th>\n",
       "      <td>13</td>\n",
       "      <td>(15, 376)</td>\n",
       "      <td>89.92</td>\n",
       "      <td>9,428.08</td>\n",
       "      <td>2.21</td>\n",
       "      <td>3.97</td>\n",
       "    </tr>\n",
       "  </tbody>\n",
       "</table>"
      ],
      "text/plain": [
       "<IPython.core.display.HTML object>"
      ]
     },
     "metadata": {},
     "output_type": "display_data"
    },
    {
     "data": {
      "image/png": "[encoded data removed]",
      "text/plain": [
       "<Figure size 1080x360 with 2 Axes>"
      ]
     },
     "metadata": {
      "needs_background": "light"
     },
     "output_type": "display_data"
    },
    {
     "data": {
      "image/png": "[encoded data removed]",
      "text/plain": [
       "<Figure size 1080x360 with 2 Axes>"
      ]
     },
     "metadata": {
      "needs_background": "light"
     },
     "output_type": "display_data"
    }
   ],
   "source": [
    "GEOGRAPHY_CS = [\"7206 Europe\",\n",
    "                \"7211 regions of EU Member States\",\n",
    "                \"7216 America\",\n",
    "                \"7221 Africa\",\n",
    "                \"7226 Asia and Oceania\",\n",
    "                \"7231 economic geography\",\n",
    "                \"7236 political geography\",\n",
    "                \"7241 overseas countries and territories\",\n",
    "                \"7606 United Nations\",\n",
    "                \"7611 European organisations\",\n",
    "                \"7616 extra-European organisations\",\n",
    "                \"7621 world organisations\",\n",
    "                \"7626 non-governmental organisations\",\n",
    "                ]\n",
    "\n",
    "h_stats_geo = h_stats[ h_stats[\"name\"].isin(GEOGRAPHY_CS) ]\n",
    "h_stats_non_geo = h_stats[ ~h_stats[\"name\"].isin(GEOGRAPHY_CS) ]\n",
    "\n",
    "# compare the geo and non geo concept schemes\n",
    "left_plot()\n",
    "draw_hist(h_stats_non_geo[\"top nodes\"],label=\"Top nodes\", x_label=\"Nodes\", \n",
    "          title=\"Top nodes histogram for NON geographic concept scheme\", color=\"b\")\n",
    "right_plot()\n",
    "draw_hist(h_stats_geo[\"top nodes\"],label=\"Top nodes\", x_label=\"Nodes\", \n",
    "          title=\"Top nodes histogram for geographic concept scheme\", color=\"r\")\n",
    "\n",
    "left_plot()\n",
    "draw_hist(h_stats_non_geo[\"leaf nodes\"],label=\"Leaf nodes\", x_label=\"Nodes\", \n",
    "          title=\"Leaf nodes histogram for NON geographic concept scheme\")\n",
    "right_plot()\n",
    "draw_hist(h_stats_geo[\"leaf nodes\"],label=\"Leaf nodes\", x_label=\"Nodes\", \n",
    "          title=\"Leaf nodes histogram for geographic concept scheme\", color=\"r\")\n",
    "\n",
    "\n",
    "# descriptive statistics for top/leaf nodes\n",
    "dsp( describe([h_stats[\"top nodes\"],h_stats_non_geo[\"top nodes\"], h_stats_geo[\"top nodes\"] ], \n",
    "              [\"top nodes ALL\",\"top nodes NON geo\", \"top nodes geo\"] ) )\n",
    "dsp( describe([h_stats[\"leaf nodes\"],h_stats_non_geo[\"leaf nodes\"], h_stats_geo[\"leaf nodes\"] ], \n",
    "              [\"leaf nodes ALL\",\"leaf nodes NON geo\", \"leaf nodes geo\"] ) )\n"
   ]
  },
  {
   "cell_type": "markdown",
   "metadata": {},
   "source": [
    "Above, the left histograms represent distributions of the top and leaf nodes for Eurovoc concept schemes excluding the GEOGRAPHY domain (13 concept schmes); and the right right histograms represent the distribution of top and leaf nodes of the GEOGRAPHY concept schemes only. In each diagram on the left side (all schemes except the geographic ones) the variance reduced significantly and the destribution is less skewd to the right, which means that the distribution is closer now to the normal one with fewer or no outlier (a test is needed). On the other hand, diagrams on the right represent quite sparse distributions that cannot be easely characterised, especially becaiuse there are only 13 data points. \n",
    "\n",
    "On average the EuroVoc concept schemes have 3.5 top concepts and 42.4 leaf concepts.\n",
    "\n",
    "One **recommendation** that can be derived already at this point is that the controlled lists (usually shallow and broad) formed of many instances often participating in multiple groupings, should be managed in a way that makes it clear what is the nature of the concepts and the  meaning of the hierarchical relations employed. Best practices can be adopted from the team managing the content of EU Vocabulaires controlled lists. For example a convention, for such cases, can be that the top/mid concepts are considered as classes or groups and the leaf nodes are always instances (of some sort). In the case of GEOGRAPHY concept schemes this is partially the case. The top/middle concepts represents continents, country groups based on the economic or political membership and the leaf concepts are countries. The type of relations employed are at least of three types: geographical inclusion (e.g. Europe - Romania), group-subgroup (e.g. Arab world - United Arab Emirates or former socialist countries - Eastern bloc countries), and group membership (e.g. Eastern bloc countries - USSR). \n",
    "\n",
    "The nodes that are violating the \"No single child\" policy are provided below. "
   ]
  },
  {
   "cell_type": "code",
   "execution_count": 6,
   "metadata": {},
   "outputs": [
    {
     "name": "stdout",
     "output_type": "stream",
     "text": [
      "('European Court of Auditors, EPSO, commemoration, EFTA, World Trade '\n",
      " 'Organisation, European Community, Serbia, UN Environment Programme, African '\n",
      " 'Union, Andean Community, civil defence, balance of payments assistance, '\n",
      " 'veterinary medicinal product, social and cultural anthropology, intervention '\n",
      " 'policy, European Central Bank, Organisation of American States, Turkey, '\n",
      " 'Ecuador, Ecu, European Trade Union Confederation, Inter-American Development '\n",
      " 'Bank, Central American Common Market, UN Conference on Trade and '\n",
      " 'Development, EU budget, religious discrimination, EU production, EU research '\n",
      " 'policy, EU industrial policy, EU aid, EU loan, air traffic, airport, '\n",
      " 'airline, aircraft, environmental research, environmental standard, '\n",
      " 'silviculture, agricultural product, fishing fleet, fishery management, '\n",
      " 'mollusc, forest conservation, evaluation of resources, stock-exchange '\n",
      " 'listing, fishing area, freedom of self-determination, local authority '\n",
      " 'finances, forestry development, tax relief, supervisory power, tax law, EU '\n",
      " 'policy - national policy, accounting system, health control, codification of '\n",
      " 'EU law, poverty, discriminatory price, inland waterway shipping, '\n",
      " 'standardised accounting system, sales promotion, rail network, approval, '\n",
      " 'VAT, emission allowance, emission trading, economic reform, cultural event, '\n",
      " 'currency area, cultural relations, international payment, external debt, '\n",
      " 'visual arts, European System of Central Banks, catering industry, principle '\n",
      " 'of additionality, water management in agriculture, animal breeding, economic '\n",
      " 'convergence, hotel industry, cervidae, transition economy, organised crime, '\n",
      " 'integrated development programme, extremism, industrial region, '\n",
      " 'less-favoured region, cooperative bank, youth violence, Community budget, '\n",
      " 'agricultural building, administrative measure, association of local '\n",
      " 'authorities, capital transfer, petrol, central government, population '\n",
      " 'policy, higher education, bio-ethics, nuclear power station, leisure park, '\n",
      " 'oil technology, sporting event, holiday, births, nuclear reactor, adoption '\n",
      " 'of a child, nuclear policy, terrorism, job creation, police checks, '\n",
      " 'association, crime, family planning, family policy, ethnic group, clothing '\n",
      " 'industry, continuing vocational training, manpower needs, judicial '\n",
      " 'cooperation, petrochemicals, plant health legislation, reform of the CAP, '\n",
      " 'technical profession, official language, electronic game, veterinary '\n",
      " 'legislation, farm accountancy data network, paid leave, alternative '\n",
      " 'agricultural production, population statistics, European convention, '\n",
      " 'information technology user, nuclear fuel, migration control, family '\n",
      " 'migration, professional qualifications, dyestuffs industry, plastics '\n",
      " 'industry, UN Framework Convention on Climate Change, plastics, atmospheric '\n",
      " 'pollution, electrical equipment, baby food, computer crime, election '\n",
      " 'monitoring, database, marine pollution, electromagnetic interference, '\n",
      " 'explosive, computer, noise, inorganic chemical product, organic chemical, '\n",
      " 'turnout of voters, double-ballot voting system, telephone, zoology, '\n",
      " 'atmosphere, electric machinery, film industry, confidentiality, climate '\n",
      " \"change, elective office, book trade, engine, employers' organisation, civil \"\n",
      " 'war, radioactive waste, works council, trade union, Coreper, meteorology, '\n",
      " 'astronomy, share capital, charter on human rights, urban centre, clean '\n",
      " 'technology, cloning, geophysics, mathematics, therapeutics, subcontracting, '\n",
      " 'small business, robotisation, European Council, inter-company cooperation, '\n",
      " 'Economic Interest Grouping, technology assessment, paramilitary force, '\n",
      " 'paramedical profession, infectious disease, merger, shareholding, company '\n",
      " 'constituted under civil law, secret service, surgery, cooperative, '\n",
      " 'hospitalisation, company with share capital, innovation, nutritional '\n",
      " 'disease, non-profit organisation, disease prevention, company member, space '\n",
      " 'research, research body, asymmetric warfare, gas, energy law, energy '\n",
      " 'storage, guide, extraction of oil, research programme, energy consumption, '\n",
      " 'examination, document management, property leasing, intelligent transport '\n",
      " 'system, transport network, length of studies, maritime safety, university, '\n",
      " 'transport company, vehicle rental, primary product, land and buildings, '\n",
      " 'originating product, driving licence, EAGGF, common customs tariff, '\n",
      " 'application of the law, penal institution, customs, customs formalities, '\n",
      " 'prisoner, national implementing measure, tax offence, case law (EU), single '\n",
      " 'market, EP opinion, guarantee, audiovisual production, civil proceedings, '\n",
      " 'judicial investigation, economic and social cohesion, trade promotion, '\n",
      " 'domestic market, video communications, EU policy, European neighbourhood '\n",
      " 'policy, European Union membership, Council of Arab Economic Unity, interest '\n",
      " 'in bringing an action, fine, proof, institutional balance (EU), UN Security '\n",
      " 'Council, political asylum, discrimination on the basis of sexual '\n",
      " 'orientation, consumer information, identity document, market research, '\n",
      " 'distance selling, e-Health, pest, environmental cost, financial supervision, '\n",
      " 'mobile communication, market abuse, open science, Schengen Agreement, free '\n",
      " 'movement of persons, Arctic Ocean, common fisheries policy, agricultural '\n",
      " 'market, Caroline Islands, passport, federal State, European defence policy, '\n",
      " 'EAEC Joint Undertaking, UN convention, passage of a bill, agricultural '\n",
      " 'advisory services, aquatic plant, short-term economic policy, arrangement of '\n",
      " 'working time, emigration, civil disobedience, civil status, competition, '\n",
      " 'collective bargaining, industrial cooperation, commodities market, social '\n",
      " 'conflict, cosmetics industry, handicrafts, political involvement, pollution '\n",
      " 'control, endocrine disease, industrial price, dissemination of information, '\n",
      " 'document for discussion at a sitting, econometrics, transport '\n",
      " 'infrastructure, exploitation of the seas, political discrimination, '\n",
      " 'epidemiology, document acquisition, financial instrument, fishery product, '\n",
      " 'fermented milk, rural population, ferrous metal, central rate, freedom of '\n",
      " 'communication, forced migration, student, energy technology, indirect '\n",
      " 'election, interinstitutional relations, international dispute, Eurosystem, '\n",
      " 'merchandising, consumer goods, means of communication, money supply, '\n",
      " 'national park, non-ferrous ore, pre-school education, underdevelopment, '\n",
      " 'packaging, plantation, political cooperation, political integration, private '\n",
      " 'law, production planning, protocol to an agreement, company law, rejection '\n",
      " 'of the budget, purchasing power, scientific cooperation, economic situation, '\n",
      " 'sample survey, rule under emergency powers, mitigating circumstances, '\n",
      " 'semi-skilled worker, social legislation, speech, transport law, world '\n",
      " 'production, sexually transmitted disease, inter-parliamentary cooperation, '\n",
      " 'EMS exchange-rate mechanism, publication, non-secular State, secretariat of '\n",
      " 'an Institution, resolution, agricultural statistics, distribution of the tax '\n",
      " 'burden, biochemistry, beef, botany, building plot, capital market, '\n",
      " 'vinification, cemetery, food cereals, corporate finance, suspension of '\n",
      " 'payments, competence of the institution, church, data-processing law, '\n",
      " 'product safety, purchase, dual-use technology, financial transaction, fight '\n",
      " 'against unemployment, information network, information technology '\n",
      " 'applications, integration into employment, international civil service, '\n",
      " 'military training, recycling of capital, medical law, fossil fuel, political '\n",
      " 'minority, pornography, political science, primary sector, regional finances, '\n",
      " 'recruitment, scientific research, self-supply, services company, social '\n",
      " 'dialogue, space policy, storage of waste, tax return, value of trade, '\n",
      " 'technology transfer, town and country planning, tourism policy, urban '\n",
      " 'construction, victim, means of transport, water policy, ordinary legislative '\n",
      " 'procedure, Council configuration, European forestry policy, climatology, '\n",
      " 'nationalist party, coding, special legislative procedure, electronic '\n",
      " 'publishing, sustainable forest management, international economic law, '\n",
      " 'pre-accession strategy, qualitative analysis')\n"
     ]
    }
   ],
   "source": [
    "n = [ (l,d) for l,d in EUROVOC_GRAPH.nodes(data=True) if d[\"hierarchical_in\"]==1 ]\n",
    "labels = list(map(lambda x: x[0], n))\n",
    "print( \", \".join(labels) )"
   ]
  },
  {
   "cell_type": "markdown",
   "metadata": {},
   "source": [
    "Next, the inheritance richness indicator is analised."
   ]
  },
  {
   "cell_type": "code",
   "execution_count": 7,
   "metadata": {},
   "outputs": [
    {
     "data": {
      "text/html": [
       "<table border=\"1\" class=\"dataframe\">\n",
       "  <thead>\n",
       "    <tr style=\"text-align: right;\">\n",
       "      <th></th>\n",
       "      <th>nobs</th>\n",
       "      <th>minmax</th>\n",
       "      <th>mean</th>\n",
       "      <th>variance</th>\n",
       "      <th>skewness</th>\n",
       "      <th>kurtosis</th>\n",
       "    </tr>\n",
       "  </thead>\n",
       "  <tbody>\n",
       "    <tr>\n",
       "      <th>minimum inheritance richness</th>\n",
       "      <td>114</td>\n",
       "      <td>(1, 6)</td>\n",
       "      <td>1.18</td>\n",
       "      <td>0.43</td>\n",
       "      <td>4.81</td>\n",
       "      <td>27.06</td>\n",
       "    </tr>\n",
       "  </tbody>\n",
       "</table>"
      ],
      "text/plain": [
       "<IPython.core.display.HTML object>"
      ]
     },
     "metadata": {},
     "output_type": "display_data"
    },
    {
     "data": {
      "text/html": [
       "<table border=\"1\" class=\"dataframe\">\n",
       "  <thead>\n",
       "    <tr style=\"text-align: right;\">\n",
       "      <th></th>\n",
       "      <th>nobs</th>\n",
       "      <th>minmax</th>\n",
       "      <th>mean</th>\n",
       "      <th>variance</th>\n",
       "      <th>skewness</th>\n",
       "      <th>kurtosis</th>\n",
       "    </tr>\n",
       "  </thead>\n",
       "  <tbody>\n",
       "    <tr>\n",
       "      <th>average inheritance richness</th>\n",
       "      <td>114</td>\n",
       "      <td>(2.5, 9.5)</td>\n",
       "      <td>4.71</td>\n",
       "      <td>1.94</td>\n",
       "      <td>1.02</td>\n",
       "      <td>0.84</td>\n",
       "    </tr>\n",
       "  </tbody>\n",
       "</table>"
      ],
      "text/plain": [
       "<IPython.core.display.HTML object>"
      ]
     },
     "metadata": {},
     "output_type": "display_data"
    },
    {
     "data": {
      "image/png": "[encoded data removed]",
      "text/plain": [
       "<Figure size 1080x360 with 2 Axes>"
      ]
     },
     "metadata": {
      "needs_background": "light"
     },
     "output_type": "display_data"
    },
    {
     "data": {
      "image/png": "[encoded data removed]",
      "text/plain": [
       "<Figure size 1080x360 with 2 Axes>"
      ]
     },
     "metadata": {
      "needs_background": "light"
     },
     "output_type": "display_data"
    }
   ],
   "source": [
    "# \"inheritance richness - min\"\n",
    "# \"inheritance richness - max\"\n",
    "# \"inheritance richness - mean\"\n",
    "# \"inheritance richness - variance\"\n",
    "# \"inverse inheritance richness - mean\"\n",
    "                \n",
    "left_plot()\n",
    "draw_hist(h_stats_non_geo[\"inheritance richness - min\"],label=\"inheritance richness - min\", x_label=\"Nodes\", color=\"orange\")\n",
    "right_plot()\n",
    "draw_hist(h_stats_non_geo[\"inheritance richness - max\"],label=\"inheritance richness - max\", x_label=\"Nodes\", color=\"orange\")\n",
    "left_plot()\n",
    "draw_hist(h_stats_non_geo[\"inheritance richness - mean\"],label=\"inheritance richness - mean\", x_label=\"Nodes\", color=\"orange\")\n",
    "right_plot()\n",
    "draw_hist(h_stats_non_geo[\"inheritance richness - variance\"],label=\"inheritance richness - variance\", x_label=\"Nodes\", color=\"orange\")\n",
    "\n",
    "dsp( describe([h_stats_non_geo[\"inheritance richness - min\"],], \n",
    "              [\"minimum inheritance richness\"]))\n",
    "dsp( describe([h_stats_non_geo[\"inheritance richness - mean\"],], \n",
    "              [\"average inheritance richness\"]))\n"
   ]
  },
  {
   "cell_type": "markdown",
   "metadata": {},
   "source": [
    "Having only one child, i.e. **minimum inheritance richness** one, is a conceptual mistake and should be avoided. In general, a narrower concept is created in order to restrict the scope and provide another concept with more specific meaning. Examples of operations that lead to restriction of concept scope are: specialisation, reduction in abstraction, decomposition, exemplification etc. In any case the result should consist of at least two subsconcepts, otherwise, if only one is provided then the narrower concept has the same scope as the parent which is wrong. \n",
    "\n",
    "**Recommendation** find all instances where a concept has only one child subconcept and edit the hierarchical relation(s) to resolve the situation. Some possible edits are: (a) either add at least one more sibling sub-concept to discriminate among them (b) raise the subconcept it to the level of the parent (i.e. make it a direct child to its current grandparent) or other form of resolution as the context dictates.  \n",
    "\n",
    "In a taxonomy the number of children varies form one node to another. Question is, what are the reasonable limits for such variation. Moreover provided some average inheritance richness, to what degree deviations from that average are acceptable. One possible source of problems might be high variance. \n",
    "\n",
    "The list of concept schemes with highest inheritance richness vaiance are provided below.\n"
   ]
  },
  {
   "cell_type": "code",
   "execution_count": 8,
   "metadata": {},
   "outputs": [
    {
     "data": {
      "text/html": [
       "<table border=\"1\" class=\"dataframe\">\n",
       "  <thead>\n",
       "    <tr style=\"text-align: right;\">\n",
       "      <th></th>\n",
       "      <th>name</th>\n",
       "      <th>inheritance richness - variance</th>\n",
       "    </tr>\n",
       "  </thead>\n",
       "  <tbody>\n",
       "    <tr>\n",
       "      <th>4</th>\n",
       "      <td>0811 cooperation policy</td>\n",
       "      <td>103.28</td>\n",
       "    </tr>\n",
       "    <tr>\n",
       "      <th>6</th>\n",
       "      <td>2431 insurance</td>\n",
       "      <td>86.33</td>\n",
       "    </tr>\n",
       "    <tr>\n",
       "      <th>7</th>\n",
       "      <td>1006 EU institutions and European civil service</td>\n",
       "      <td>78.08</td>\n",
       "    </tr>\n",
       "    <tr>\n",
       "      <th>8</th>\n",
       "      <td>3221 documentation</td>\n",
       "      <td>74.53</td>\n",
       "    </tr>\n",
       "    <tr>\n",
       "      <th>9</th>\n",
       "      <td>6816 iron, steel and other metal industries</td>\n",
       "      <td>62.29</td>\n",
       "    </tr>\n",
       "    <tr>\n",
       "      <th>10</th>\n",
       "      <td>0406 political framework</td>\n",
       "      <td>57.16</td>\n",
       "    </tr>\n",
       "    <tr>\n",
       "      <th>11</th>\n",
       "      <td>3206 education</td>\n",
       "      <td>56.67</td>\n",
       "    </tr>\n",
       "    <tr>\n",
       "      <th>12</th>\n",
       "      <td>4411 labour market</td>\n",
       "      <td>47.29</td>\n",
       "    </tr>\n",
       "    <tr>\n",
       "      <th>13</th>\n",
       "      <td>0411 political party</td>\n",
       "      <td>46.67</td>\n",
       "    </tr>\n",
       "    <tr>\n",
       "      <th>15</th>\n",
       "      <td>5216 deterioration of the environment</td>\n",
       "      <td>41.07</td>\n",
       "    </tr>\n",
       "  </tbody>\n",
       "</table>"
      ],
      "text/plain": [
       "<IPython.core.display.HTML object>"
      ]
     },
     "metadata": {},
     "output_type": "display_data"
    }
   ],
   "source": [
    "ih_variance = h_stats_non_geo.sort_values(by=\"inheritance richness - variance\",ascending=False)  \n",
    "dsp( ih_variance[[\"name\", \"inheritance richness - variance\"]][:10] )"
   ]
  },
  {
   "cell_type": "code",
   "execution_count": 9,
   "metadata": {},
   "outputs": [],
   "source": [
    "# target_cs_name = \"7236 political geography\"\n",
    "# t_cs = [ g for n,g in CONCEPT_SCHEME_GRAPHS if n==target_cs_name]\n",
    "# graph = t_cs[0]\n",
    "\n",
    "# # pos = nx.spring_layout(graph)\n",
    "# draw_graph(graph,)\n",
    "# # graph.layout('dot', args='-Nfontsize=10 -Nwidth=\".2\" -Nheight=\".2\" -Nmargin=0 -Gfontsize=8')\n",
    "# # graph.draw()"
   ]
  },
  {
   "cell_type": "code",
   "execution_count": 10,
   "metadata": {},
   "outputs": [],
   "source": [
    "# h_stats.plot(kind='scatter',x='inheritance richness - mean',y='leaf nodes',color='b')\n",
    "# plt.title(\"Inheritance richness and number of leaf nodes scatter plot\")\n",
    "# plt.xlabel(\"Average inheritance richness\")\n",
    "# plt.ylabel(\"Number of leaf nodes\")\n",
    "\n",
    "# h_stats.plot(kind='scatter',x='inheritance richness - mean',y='top nodes',color='b')\n",
    "# plt.title(\"Inheritance richness and number of top nodes scatter plot\")\n",
    "# plt.xlabel(\"Average inheritance richness\")\n",
    "# plt.ylabel(\"Number of top nodes\")\n",
    "\n",
    "# h_stats.plot(kind='scatter',x='top nodes',y='leaf nodes',color='b')\n",
    "# plt.title(\"Number of top and leaf nodes scatter plot\")\n",
    "# plt.xlabel(\"Number of top nodes\")\n",
    "# plt.ylabel(\"Number of leaf nodes\")\n",
    "\n",
    "# h_stats_non_geo.plot(kind='scatter',x='top nodes',y='leaf nodes',color='b')\n",
    "# plt.title(\"Number of top and leaf nodes scatter plot\")\n",
    "# plt.xlabel(\"Number of top nodes\")\n",
    "# plt.ylabel(\"Number of leaf nodes\")\n",
    "\n",
    "# h_stats.plot(kind='scatter',x='depth - mean',y='top nodes',color='b')\n"
   ]
  },
  {
   "cell_type": "code",
   "execution_count": null,
   "metadata": {},
   "outputs": [],
   "source": []
  }
 ],
 "metadata": {
  "kernelspec": {
   "display_name": "Python 3",
   "language": "python",
   "name": "python3"
  },
  "language_info": {
   "codemirror_mode": {
    "name": "ipython",
    "version": 3
   },
   "file_extension": ".py",
   "mimetype": "text/x-python",
   "name": "python",
   "nbconvert_exporter": "python",
   "pygments_lexer": "ipython3",
   "version": "3.7.3"
  }
 },
 "nbformat": 4,
 "nbformat_minor": 2
}
