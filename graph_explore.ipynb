{
 "cells": [
  {
   "cell_type": "markdown",
   "metadata": {},
   "source": [
    "# Setup"
   ]
  },
  {
   "cell_type": "code",
   "execution_count": 1,
   "metadata": {},
   "outputs": [],
   "source": [
    "%load_ext autoreload\n",
    "%autoreload\n",
    "from pprint import pprint as print\n",
    "from notebook_utils import *\n",
    "from taxonomy_metrics import *\n",
    "from comparative_measures import *\n",
    "import scipy\n",
    "import qgrid \n",
    "import time"
   ]
  },
  {
   "cell_type": "markdown",
   "metadata": {},
   "source": [
    "# Reading data\n",
    "Read the CSVs, remove the underscores and stop words.\n",
    "Construct the networkx graphs then write the result as GEXF."
   ]
  },
  {
   "cell_type": "markdown",
   "metadata": {},
   "source": [
    "## Reading JRC data"
   ]
  },
  {
   "cell_type": "code",
   "execution_count": 2,
   "metadata": {},
   "outputs": [],
   "source": [
    "# Dataset access - JRC-ISPRA legal document mining\n",
    "NETWORK1_CONCEPTS_PATH=pathlib.Path(\"data/leg-doc-mining/network-1-concepts.csv\")\n",
    "NETWORK1_WORDS_PATH=pathlib.Path(\"data/leg-doc-mining/network-1-words.csv\")\n",
    "NETWORK2_CONCEPTS_PATH=pathlib.Path(\"data/leg-doc-mining/network-2-concepts.csv\")\n",
    "NETWORK2_WORDS_PATH=pathlib.Path(\"data/leg-doc-mining/network-2-words.csv\")\n",
    "\n",
    "COLUMN_TYPES = {\"count\":np.int32,\"concept\":str,\"node1\":str,\"node2\":str,\"node3\":str}\n",
    "COLUMN_NAS = {\"count\":0,\"concept\":\"\",\"node1\":\"\",\"node2\":\"\",\"node3\":\"\"}\n",
    "\n",
    "NETWORK1_CONCEPTS = pd.read_csv(NETWORK1_CONCEPTS_PATH.resolve(), delimiter=\";\")\n",
    "NETWORK1_CONCEPTS.fillna(COLUMN_NAS, inplace=True)\n",
    "NETWORK1_CONCEPTS.astype(COLUMN_TYPES,inplace=True)\n",
    "    \n",
    "NETWORK1_WORDS = pd.read_csv(NETWORK1_WORDS_PATH.resolve(), delimiter=\";\")\n",
    "NETWORK1_WORDS.fillna(COLUMN_NAS, inplace=True)\n",
    "NETWORK1_WORDS.astype(COLUMN_TYPES, inplace=True)\n",
    "\n",
    "NETWORK2_CONCEPTS = pd.read_csv(NETWORK2_CONCEPTS_PATH.resolve(), delimiter=\";\")\n",
    "NETWORK2_CONCEPTS.fillna(COLUMN_NAS, inplace=True)\n",
    "NETWORK2_CONCEPTS.astype(COLUMN_TYPES, inplace=True)\n",
    "\n",
    "NETWORK2_WORDS = pd.read_csv(NETWORK2_WORDS_PATH.resolve(), delimiter=\";\")\n",
    "NETWORK2_WORDS.fillna(COLUMN_NAS, inplace=True)\n",
    "NETWORK2_WORDS.astype(COLUMN_TYPES, inplace=True)\n",
    "\n",
    "CONCEPT_GRAPH_PATH=pathlib.Path(\"data/leg-doc-mining/network-concepts.gexf\")\n",
    "WORD_GRAPH_PATH=pathlib.Path(\"data/leg-doc-mining/network-words.gexf\")\n",
    "MERGED_GRAPH_PATH=pathlib.Path(\"data/leg-doc-mining/network-merged.gexf\")\n",
    "\n",
    "CONCEPT_GRAPH_DF = pd.concat([NETWORK1_CONCEPTS, NETWORK2_CONCEPTS])\n",
    "WORD_GRAPH_DF = pd.concat([NETWORK1_WORDS, NETWORK2_WORDS])\n",
    "\n",
    "CONCEPT_GRAPH = create_grah_from_jrc_dataset(filter_stop_words(CONCEPT_GRAPH_DF))\n",
    "WORD_GRAPH = create_grah_from_jrc_dataset(filter_stop_words(WORD_GRAPH_DF))"
   ]
  },
  {
   "cell_type": "markdown",
   "metadata": {},
   "source": [
    "## Reading EuroVoc data"
   ]
  },
  {
   "cell_type": "code",
   "execution_count": 4,
   "metadata": {},
   "outputs": [],
   "source": [
    "EUROVOC_DATASET_PATH= pathlib.Path(\"data/eurovoc-4.9/EVAP49.ttl\").resolve()\n",
    "QUERY_LABELS_RESULTSET_PATH = pathlib.Path(\"data/eurovoc-4.9/QUERY_LABELS_RESULTSET.csv\").resolve()\n",
    "QUERY_LABELS_RESULTSET = pd.read_csv(QUERY_LABELS_RESULTSET_PATH, delimiter=\",\")\n",
    "# greaqting the conceptual graphs\n",
    "EUROVOC_GRAPH = create_grah_from_eurovoc_label_query(QUERY_LABELS_RESULTSET)\n",
    "CONCEPT_SCHEME_GRAPHS = create_grah_per_scheme_from_eurovoc_label_query(QUERY_LABELS_RESULTSET)"
   ]
  },
  {
   "cell_type": "markdown",
   "metadata": {},
   "source": [
    "## Writing graphs to disc (if needed uncomment)"
   ]
  },
  {
   "cell_type": "code",
   "execution_count": 5,
   "metadata": {},
   "outputs": [],
   "source": [
    "# # write individual graphs\n",
    "# nx.write_gexf(create_grah_from_jrc_dataset(filter_stop_words(NETWORK1_CONCEPTS)), str(NETWORK1_CONCEPTS_PATH) + \".gexf\")\n",
    "# nx.write_gexf(create_grah_from_jrc_dataset(filter_stop_words(NETWORK1_WORDS)), str(NETWORK1_WORDS_PATH) + \".gexf\")\n",
    "# nx.write_gexf(create_grah_from_jrc_dataset(filter_stop_words(NETWORK2_CONCEPTS)), str(NETWORK2_CONCEPTS_PATH) + \".gexf\")\n",
    "# nx.write_gexf(create_grah_from_jrc_dataset(filter_stop_words(NETWORK2_WORDS)), str(NETWORK2_WORDS_PATH) + \".gexf\")\n",
    "\n",
    "# # write merged graphs\n",
    "# nx.write_gexf(create_grah_from_jrc_dataset(filter_stop_words(CONCEPT_GRAPH_DF)), str(CONCEPT_GRAPH_PATH))\n",
    "# nx.write_gexf(create_grah_from_jrc_dataset(filter_stop_words(WORD_GRAPH_DF)), str(WORD_GRAPH_PATH))\n",
    "\n",
    "# # write the total graph\n",
    "# nx.write_gexf(create_grah_from_jrc_dataset(filter_stop_words( pd.concat([CONCEPT_GRAPH_DF, WORD_GRAPH_DF] ) )), str(MERGED_GRAPH_PATH))\n",
    "\n",
    "# nx.write_gexf(EUROVOC_GRAPH, str(QUERY_LABELS_RESULTSET_PATH) + \".gexf\")\n",
    "# for name, graph in CONCEPT_SCHEME_GRAPHS:\n",
    "#     nx.write_gexf(graph, str(QUERY_LABELS_RESULTSET_PATH)+\".\"+name+ \".gexf\")"
   ]
  },
  {
   "cell_type": "markdown",
   "metadata": {},
   "source": [
    "# Taxonomy metrics "
   ]
  },
  {
   "cell_type": "markdown",
   "metadata": {},
   "source": [
    "## Primary statistics"
   ]
  },
  {
   "cell_type": "code",
   "execution_count": 6,
   "metadata": {},
   "outputs": [],
   "source": [
    "# euro_voc_stats = concept_scheme_stats(  [(\"EuroVoc\",EUROVOC_GRAPH),] )\n",
    "# euro_voc_stats.head()"
   ]
  },
  {
   "cell_type": "code",
   "execution_count": 7,
   "metadata": {},
   "outputs": [
    {
     "ename": "PermissionError",
     "evalue": "[Errno 13] Permission denied: 'D:\\\\Work\\\\workspace_notebook\\\\taxonomy-metrics\\\\data\\\\eurovoc-4.9\\\\EVAP49.ttlCS_statistics.xlsx'",
     "output_type": "error",
     "traceback": [
      "\u001b[1;31m---------------------------------------------------------------------------\u001b[0m",
      "\u001b[1;31mPermissionError\u001b[0m                           Traceback (most recent call last)",
      "\u001b[1;32m<ipython-input-7-28b105bf625f>\u001b[0m in \u001b[0;36m<module>\u001b[1;34m\u001b[0m\n\u001b[0;32m      1\u001b[0m \u001b[0mt0\u001b[0m \u001b[1;33m=\u001b[0m \u001b[0mtime\u001b[0m\u001b[1;33m.\u001b[0m\u001b[0mtime\u001b[0m\u001b[1;33m(\u001b[0m\u001b[1;33m)\u001b[0m\u001b[1;33m\u001b[0m\u001b[1;33m\u001b[0m\u001b[0m\n\u001b[0;32m      2\u001b[0m \u001b[0mconcept_scheme_measurements\u001b[0m \u001b[1;33m=\u001b[0m \u001b[0mconcept_scheme_stats\u001b[0m\u001b[1;33m(\u001b[0m\u001b[0mCONCEPT_SCHEME_GRAPHS\u001b[0m\u001b[1;33m)\u001b[0m\u001b[1;33m\u001b[0m\u001b[1;33m\u001b[0m\u001b[0m\n\u001b[1;32m----> 3\u001b[1;33m \u001b[0mto_excel\u001b[0m\u001b[1;33m(\u001b[0m\u001b[0mconcept_scheme_measurements\u001b[0m\u001b[1;33m,\u001b[0m \u001b[0mstr\u001b[0m\u001b[1;33m(\u001b[0m\u001b[0mEUROVOC_DATASET_PATH\u001b[0m\u001b[1;33m)\u001b[0m \u001b[1;33m+\u001b[0m \u001b[1;34m\"CS_statistics.xlsx\"\u001b[0m \u001b[1;33m)\u001b[0m\u001b[1;33m\u001b[0m\u001b[1;33m\u001b[0m\u001b[0m\n\u001b[0m\u001b[0;32m      4\u001b[0m \u001b[0mt1\u001b[0m \u001b[1;33m=\u001b[0m \u001b[0mtime\u001b[0m\u001b[1;33m.\u001b[0m\u001b[0mtime\u001b[0m\u001b[1;33m(\u001b[0m\u001b[1;33m)\u001b[0m\u001b[1;33m\u001b[0m\u001b[1;33m\u001b[0m\u001b[0m\n\u001b[0;32m      5\u001b[0m \u001b[0mprint\u001b[0m\u001b[1;33m(\u001b[0m \u001b[0mstr\u001b[0m\u001b[1;33m(\u001b[0m\u001b[0mt1\u001b[0m\u001b[1;33m-\u001b[0m\u001b[0mt0\u001b[0m\u001b[1;33m)\u001b[0m \u001b[1;33m)\u001b[0m\u001b[1;33m\u001b[0m\u001b[1;33m\u001b[0m\u001b[0m\n",
      "\u001b[1;32mD:\\Work\\workspace_notebook\\taxonomy-metrics\\notebook_utils.py\u001b[0m in \u001b[0;36mto_excel\u001b[1;34m(df, file_name)\u001b[0m\n\u001b[0;32m     31\u001b[0m         \u001b[0mwrite\u001b[0m \u001b[0ma\u001b[0m \u001b[0mdata\u001b[0m \u001b[0mframe\u001b[0m \u001b[1;32min\u001b[0m \u001b[0mexcel\u001b[0m \u001b[0mformat\u001b[0m \u001b[0musing\u001b[0m \u001b[0mpropert\u001b[0m \u001b[0mfloat\u001b[0m \u001b[0mformating\u001b[0m\u001b[1;33m\u001b[0m\u001b[1;33m\u001b[0m\u001b[0m\n\u001b[0;32m     32\u001b[0m     \"\"\"\n\u001b[1;32m---> 33\u001b[1;33m     \u001b[0mdf\u001b[0m\u001b[1;33m.\u001b[0m\u001b[0mto_excel\u001b[0m\u001b[1;33m(\u001b[0m\u001b[0mfile_name\u001b[0m\u001b[1;33m,\u001b[0m \u001b[0msheet_name\u001b[0m \u001b[1;33m=\u001b[0m \u001b[1;34m\"data\"\u001b[0m\u001b[1;33m,\u001b[0m \u001b[0mfloat_format\u001b[0m\u001b[1;33m=\u001b[0m\u001b[1;34m\"%.4f\"\u001b[0m\u001b[1;33m)\u001b[0m\u001b[1;33m\u001b[0m\u001b[1;33m\u001b[0m\u001b[0m\n\u001b[0m\u001b[0;32m     34\u001b[0m \u001b[1;33m\u001b[0m\u001b[0m\n\u001b[0;32m     35\u001b[0m \u001b[1;32mdef\u001b[0m \u001b[0mdraw_graph\u001b[0m\u001b[1;33m(\u001b[0m\u001b[0mgraph\u001b[0m\u001b[1;33m,\u001b[0m \u001b[0mshow_node_labels\u001b[0m\u001b[1;33m=\u001b[0m\u001b[1;32mTrue\u001b[0m\u001b[1;33m,\u001b[0m \u001b[0mshow_edge_labels\u001b[0m\u001b[1;33m=\u001b[0m\u001b[1;32mTrue\u001b[0m\u001b[1;33m)\u001b[0m\u001b[1;33m:\u001b[0m\u001b[1;33m\u001b[0m\u001b[1;33m\u001b[0m\u001b[0m\n",
      "\u001b[1;32mD:\\Software\\anaconda3\\lib\\site-packages\\pandas\\core\\generic.py\u001b[0m in \u001b[0;36mto_excel\u001b[1;34m(self, excel_writer, sheet_name, na_rep, float_format, columns, header, index, index_label, startrow, startcol, engine, merge_cells, encoding, inf_rep, verbose, freeze_panes)\u001b[0m\n\u001b[0;32m   2125\u001b[0m         formatter.write(excel_writer, sheet_name=sheet_name, startrow=startrow,\n\u001b[0;32m   2126\u001b[0m                         \u001b[0mstartcol\u001b[0m\u001b[1;33m=\u001b[0m\u001b[0mstartcol\u001b[0m\u001b[1;33m,\u001b[0m \u001b[0mfreeze_panes\u001b[0m\u001b[1;33m=\u001b[0m\u001b[0mfreeze_panes\u001b[0m\u001b[1;33m,\u001b[0m\u001b[1;33m\u001b[0m\u001b[1;33m\u001b[0m\u001b[0m\n\u001b[1;32m-> 2127\u001b[1;33m                         engine=engine)\n\u001b[0m\u001b[0;32m   2128\u001b[0m \u001b[1;33m\u001b[0m\u001b[0m\n\u001b[0;32m   2129\u001b[0m     def to_json(self, path_or_buf=None, orient=None, date_format=None,\n",
      "\u001b[1;32mD:\\Software\\anaconda3\\lib\\site-packages\\pandas\\io\\formats\\excel.py\u001b[0m in \u001b[0;36mwrite\u001b[1;34m(self, writer, sheet_name, startrow, startcol, freeze_panes, engine)\u001b[0m\n\u001b[0;32m    662\u001b[0m                            freeze_panes=freeze_panes)\n\u001b[0;32m    663\u001b[0m         \u001b[1;32mif\u001b[0m \u001b[0mneed_save\u001b[0m\u001b[1;33m:\u001b[0m\u001b[1;33m\u001b[0m\u001b[1;33m\u001b[0m\u001b[0m\n\u001b[1;32m--> 664\u001b[1;33m             \u001b[0mwriter\u001b[0m\u001b[1;33m.\u001b[0m\u001b[0msave\u001b[0m\u001b[1;33m(\u001b[0m\u001b[1;33m)\u001b[0m\u001b[1;33m\u001b[0m\u001b[1;33m\u001b[0m\u001b[0m\n\u001b[0m",
      "\u001b[1;32mD:\\Software\\anaconda3\\lib\\site-packages\\pandas\\io\\excel.py\u001b[0m in \u001b[0;36msave\u001b[1;34m(self)\u001b[0m\n\u001b[0;32m   1950\u001b[0m         \"\"\"\n\u001b[0;32m   1951\u001b[0m \u001b[1;33m\u001b[0m\u001b[0m\n\u001b[1;32m-> 1952\u001b[1;33m         \u001b[1;32mreturn\u001b[0m \u001b[0mself\u001b[0m\u001b[1;33m.\u001b[0m\u001b[0mbook\u001b[0m\u001b[1;33m.\u001b[0m\u001b[0mclose\u001b[0m\u001b[1;33m(\u001b[0m\u001b[1;33m)\u001b[0m\u001b[1;33m\u001b[0m\u001b[1;33m\u001b[0m\u001b[0m\n\u001b[0m\u001b[0;32m   1953\u001b[0m \u001b[1;33m\u001b[0m\u001b[0m\n\u001b[0;32m   1954\u001b[0m     def write_cells(self, cells, sheet_name=None, startrow=0, startcol=0,\n",
      "\u001b[1;32mD:\\Software\\anaconda3\\lib\\site-packages\\xlsxwriter\\workbook.py\u001b[0m in \u001b[0;36mclose\u001b[1;34m(self)\u001b[0m\n\u001b[0;32m    304\u001b[0m         \u001b[1;32mif\u001b[0m \u001b[1;32mnot\u001b[0m \u001b[0mself\u001b[0m\u001b[1;33m.\u001b[0m\u001b[0mfileclosed\u001b[0m\u001b[1;33m:\u001b[0m\u001b[1;33m\u001b[0m\u001b[1;33m\u001b[0m\u001b[0m\n\u001b[0;32m    305\u001b[0m             \u001b[0mself\u001b[0m\u001b[1;33m.\u001b[0m\u001b[0mfileclosed\u001b[0m \u001b[1;33m=\u001b[0m \u001b[1;36m1\u001b[0m\u001b[1;33m\u001b[0m\u001b[1;33m\u001b[0m\u001b[0m\n\u001b[1;32m--> 306\u001b[1;33m             \u001b[0mself\u001b[0m\u001b[1;33m.\u001b[0m\u001b[0m_store_workbook\u001b[0m\u001b[1;33m(\u001b[0m\u001b[1;33m)\u001b[0m\u001b[1;33m\u001b[0m\u001b[1;33m\u001b[0m\u001b[0m\n\u001b[0m\u001b[0;32m    307\u001b[0m \u001b[1;33m\u001b[0m\u001b[0m\n\u001b[0;32m    308\u001b[0m     \u001b[1;32mdef\u001b[0m \u001b[0mset_size\u001b[0m\u001b[1;33m(\u001b[0m\u001b[0mself\u001b[0m\u001b[1;33m,\u001b[0m \u001b[0mwidth\u001b[0m\u001b[1;33m,\u001b[0m \u001b[0mheight\u001b[0m\u001b[1;33m)\u001b[0m\u001b[1;33m:\u001b[0m\u001b[1;33m\u001b[0m\u001b[1;33m\u001b[0m\u001b[0m\n",
      "\u001b[1;32mD:\\Software\\anaconda3\\lib\\site-packages\\xlsxwriter\\workbook.py\u001b[0m in \u001b[0;36m_store_workbook\u001b[1;34m(self)\u001b[0m\n\u001b[0;32m    653\u001b[0m \u001b[1;33m\u001b[0m\u001b[0m\n\u001b[0;32m    654\u001b[0m         xlsx_file = ZipFile(self.filename, \"w\", compression=ZIP_DEFLATED,\n\u001b[1;32m--> 655\u001b[1;33m                             allowZip64=self.allow_zip64)\n\u001b[0m\u001b[0;32m    656\u001b[0m \u001b[1;33m\u001b[0m\u001b[0m\n\u001b[0;32m    657\u001b[0m         \u001b[1;31m# Add XML sub-files to the Zip file with their Excel filename.\u001b[0m\u001b[1;33m\u001b[0m\u001b[1;33m\u001b[0m\u001b[1;33m\u001b[0m\u001b[0m\n",
      "\u001b[1;32mD:\\Software\\anaconda3\\lib\\zipfile.py\u001b[0m in \u001b[0;36m__init__\u001b[1;34m(self, file, mode, compression, allowZip64, compresslevel)\u001b[0m\n\u001b[0;32m   1202\u001b[0m             \u001b[1;32mwhile\u001b[0m \u001b[1;32mTrue\u001b[0m\u001b[1;33m:\u001b[0m\u001b[1;33m\u001b[0m\u001b[1;33m\u001b[0m\u001b[0m\n\u001b[0;32m   1203\u001b[0m                 \u001b[1;32mtry\u001b[0m\u001b[1;33m:\u001b[0m\u001b[1;33m\u001b[0m\u001b[1;33m\u001b[0m\u001b[0m\n\u001b[1;32m-> 1204\u001b[1;33m                     \u001b[0mself\u001b[0m\u001b[1;33m.\u001b[0m\u001b[0mfp\u001b[0m \u001b[1;33m=\u001b[0m \u001b[0mio\u001b[0m\u001b[1;33m.\u001b[0m\u001b[0mopen\u001b[0m\u001b[1;33m(\u001b[0m\u001b[0mfile\u001b[0m\u001b[1;33m,\u001b[0m \u001b[0mfilemode\u001b[0m\u001b[1;33m)\u001b[0m\u001b[1;33m\u001b[0m\u001b[1;33m\u001b[0m\u001b[0m\n\u001b[0m\u001b[0;32m   1205\u001b[0m                 \u001b[1;32mexcept\u001b[0m \u001b[0mOSError\u001b[0m\u001b[1;33m:\u001b[0m\u001b[1;33m\u001b[0m\u001b[1;33m\u001b[0m\u001b[0m\n\u001b[0;32m   1206\u001b[0m                     \u001b[1;32mif\u001b[0m \u001b[0mfilemode\u001b[0m \u001b[1;32min\u001b[0m \u001b[0mmodeDict\u001b[0m\u001b[1;33m:\u001b[0m\u001b[1;33m\u001b[0m\u001b[1;33m\u001b[0m\u001b[0m\n",
      "\u001b[1;31mPermissionError\u001b[0m: [Errno 13] Permission denied: 'D:\\\\Work\\\\workspace_notebook\\\\taxonomy-metrics\\\\data\\\\eurovoc-4.9\\\\EVAP49.ttlCS_statistics.xlsx'"
     ]
    }
   ],
   "source": [
    "t0 = time.time()\n",
    "concept_scheme_measurements = concept_scheme_stats(CONCEPT_SCHEME_GRAPHS)\n",
    "to_excel(concept_scheme_measurements, str(EUROVOC_DATASET_PATH) + \"CS_statistics.xlsx\" )\n",
    "t1 = time.time()\n",
    "print( str(t1-t0) )\n"
   ]
  },
  {
   "cell_type": "markdown",
   "metadata": {},
   "source": [
    "## Eurovoc meaures"
   ]
  },
  {
   "cell_type": "code",
   "execution_count": null,
   "metadata": {},
   "outputs": [],
   "source": [
    "ev_nodes = eurovoc_nodes_as_pd(EUROVOC_GRAPH)\n",
    "ev_nodes_centrality_metrics = nodes_centrality_metrics(EUROVOC_GRAPH)\n",
    "\n",
    "ev_combined = ev_nodes.join(ev_nodes_centrality_metrics)\n",
    "to_excel(ev_combined, str(EUROVOC_DATASET_PATH) + \"nodes_centrality_metrics.xlsx\" )\n",
    "ev_combined.corr()"
   ]
  },
  {
   "cell_type": "markdown",
   "metadata": {},
   "source": [
    "## Bivariate scatter plots\n",
    "TODO: continue fom [here](https://scikit-learn.org/stable/auto_examples/plot_anomaly_comparison.html#sphx-glr-auto-examples-plot-anomaly-comparison-py)"
   ]
  },
  {
   "cell_type": "code",
   "execution_count": null,
   "metadata": {},
   "outputs": [],
   "source": [
    "\n",
    "\n",
    "## plot each centrality and depth of the node\n",
    "# ev_combined.plot(kind='scatter',x='depth',y='degree centrality',color='b')\n",
    "# ev_combined.plot(kind='scatter',x='depth',y='eigenvector centrality',color='b')\n",
    "# ev_combined.plot(kind='scatter',x='depth',y='authorities',color='b')\n",
    "# ev_combined.plot(kind='scatter',x='depth',y='hubs',color='b')\n",
    "# ev_combined.plot(kind='scatter',x='depth',y='page rank',color='b')\n",
    "\n",
    "# \n",
    "# ev_combined.plot(kind='scatter',x='eigenvector centrality',y='degree centrality',color='b')"
   ]
  },
  {
   "cell_type": "markdown",
   "metadata": {},
   "source": [
    "## Concept network measures"
   ]
  },
  {
   "cell_type": "code",
   "execution_count": null,
   "metadata": {},
   "outputs": [],
   "source": [
    "cm_nodes = cm_nodes_as_pd(CONCEPT_GRAPH)\n",
    "cm_centrality = nodes_centrality_metrics(CONCEPT_GRAPH)\n",
    "\n",
    "cm_combined = cm_nodes.join(cm_centrality)\n",
    "to_excel(cm_combined, str(CONCEPT_GRAPH_PATH) + \"nodes_centrality_metrics.xlsx\" )\n",
    "# cm_combined.to_excel(str(CONCEPT_GRAPH_PATH) + \"nodes_centrality_metrics.xlsx\" )\n",
    "cm_combined.corr()"
   ]
  },
  {
   "cell_type": "code",
   "execution_count": null,
   "metadata": {},
   "outputs": [],
   "source": [
    "# plot each centrality and depth of the node\n",
    "cm_combined.plot(kind='scatter',x='weight',y='degree centrality',color='b')\n",
    "cm_combined.plot(kind='scatter',x='weight',y='eigenvector centrality',color='b')\n",
    "cm_combined.plot(kind='scatter',x='weight',y='authorities',color='b')\n",
    "cm_combined.plot(kind='scatter',x='weight',y='hubs',color='b')\n",
    "cm_combined.plot(kind='scatter',x='weight',y='page rank',color='b')"
   ]
  },
  {
   "cell_type": "markdown",
   "metadata": {},
   "source": [
    "# Comparative measurements"
   ]
  },
  {
   "cell_type": "markdown",
   "metadata": {},
   "source": [
    "## Show the nerighours in JRC and EuroVoc CN (for each exact match)\n",
    "note: 294 discovered exact matches"
   ]
  },
  {
   "cell_type": "code",
   "execution_count": null,
   "metadata": {},
   "outputs": [],
   "source": [
    "concept_adjacency = common_concept_acjacency(EUROVOC_GRAPH, CONCEPT_GRAPH,\"EuroVoc\",\"JRC CG\")\n",
    "to_excel(concept_adjacency, str(EUROVOC_DATASET_PATH) + \"common_concept_acjacency.xlsx\" )"
   ]
  },
  {
   "cell_type": "markdown",
   "metadata": {},
   "source": [
    "## Show the paths between concepts in JRC and EuroVoc CN (for each exact match)"
   ]
  },
  {
   "cell_type": "code",
   "execution_count": null,
   "metadata": {},
   "outputs": [],
   "source": [
    "common_concept_paths = paths_between_common_concepts(EUROVOC_GRAPH, CONCEPT_GRAPH,\"EuroVoc CG\",\"JRC CG\")\n",
    "to_excel(common_concept_paths, str(EUROVOC_DATASET_PATH) + \"paths_between_common_concepts.xlsx\" )"
   ]
  },
  {
   "cell_type": "markdown",
   "metadata": {},
   "source": [
    "# Some graph debugging  "
   ]
  },
  {
   "cell_type": "code",
   "execution_count": null,
   "metadata": {},
   "outputs": [],
   "source": [
    "expected_top_concepts = 33\n",
    "target_cs_name = \"7231 economic geography\"\n",
    "t_cs = [ g for n,g in CONCEPT_SCHEME_GRAPHS if n==target_cs_name]\n",
    "graph = t_cs[0]\n",
    "top_nodes = [ label for label, node in graph.nodes(data=True) if node[\"hierarchical_in\"]>0 and node[\"hierarchical_out\"]==0] \n",
    "print (\"Difference between found and expected concepts\")\n",
    "print (expected_top_concepts - len (top_nodes))"
   ]
  },
  {
   "cell_type": "code",
   "execution_count": 50,
   "metadata": {},
   "outputs": [
    {
     "name": "stdout",
     "output_type": "stream",
     "text": [
      "'Difference between found and expected concepts'\n",
      "60\n"
     ]
    }
   ],
   "source": [
    "expected_leaf_concepts = 180\n",
    "target_cs_name = \"7236 political geography\"\n",
    "t_cs = [ g for n,g in CONCEPT_SCHEME_GRAPHS if n==target_cs_name]\n",
    "graph = t_cs[0]\n",
    "graph = subgraph_of_hierarchical_nodes(graph)\n",
    "leaf_nodes = [ label for label, node in graph.nodes(data=True) if node[\"hierarchical_out\"]>0 ]\n",
    "print (\"Difference between found and expected concepts\")\n",
    "print (expected_leaf_concepts - len (leaf_nodes))"
   ]
  }
 ],
 "metadata": {
  "kernelspec": {
   "display_name": "Python 3",
   "language": "python",
   "name": "python3"
  },
  "language_info": {
   "codemirror_mode": {
    "name": "ipython",
    "version": 3
   },
   "file_extension": ".py",
   "mimetype": "text/x-python",
   "name": "python",
   "nbconvert_exporter": "python",
   "pygments_lexer": "ipython3",
   "version": "3.7.3"
  }
 },
 "nbformat": 4,
 "nbformat_minor": 2
}
